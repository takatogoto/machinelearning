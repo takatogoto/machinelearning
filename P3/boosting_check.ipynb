{
 "cells": [
  {
   "cell_type": "markdown",
   "metadata": {},
   "source": [
    "# Boost check"
   ]
  },
  {
   "cell_type": "code",
   "execution_count": 17,
   "metadata": {},
   "outputs": [
    {
     "name": "stdout",
     "output_type": "stream",
     "text": [
      "━━━━━━━━━━ Toy example 1 ━━━━━━━━━━\n",
      "This toy example checks the format. Any of the stump is correct.\n",
      "(Can you explain why?)\n"
     ]
    },
    {
     "ename": "IndexError",
     "evalue": "list index out of range",
     "output_type": "error",
     "traceback": [
      "\u001b[0;31m---------------------------------------------------------------------------\u001b[0m",
      "\u001b[0;31mIndexError\u001b[0m                                Traceback (most recent call last)",
      "\u001b[0;32m<ipython-input-17-ff040ac07aa6>\u001b[0m in \u001b[0;36m<module>\u001b[0;34m\u001b[0m\n\u001b[1;32m     51\u001b[0m \u001b[0mprint\u001b[0m\u001b[0;34m(\u001b[0m\u001b[0;34m'(Can you explain why?)'\u001b[0m\u001b[0;34m)\u001b[0m\u001b[0;34m\u001b[0m\u001b[0m\n\u001b[1;32m     52\u001b[0m print('Ada_1: s = {:01d}, b = {:.1f}, d = {:01d}'.format(\n\u001b[0;32m---> 53\u001b[0;31m     Ada_1.clfs_picked[0].s, Ada_1.clfs_picked[0].b, Ada_1.clfs_picked[0].d))\n\u001b[0m\u001b[1;32m     54\u001b[0m \u001b[0;34m\u001b[0m\u001b[0m\n\u001b[1;32m     55\u001b[0m \u001b[0;32mif\u001b[0m \u001b[0mAda_1\u001b[0m\u001b[0;34m.\u001b[0m\u001b[0mbetas\u001b[0m\u001b[0;34m[\u001b[0m\u001b[0;36m0\u001b[0m\u001b[0;34m]\u001b[0m \u001b[0;34m==\u001b[0m \u001b[0;36m0\u001b[0m\u001b[0;34m:\u001b[0m\u001b[0;34m\u001b[0m\u001b[0m\n",
      "\u001b[0;31mIndexError\u001b[0m: list index out of range"
     ]
    }
   ],
   "source": [
    "import numpy as np\n",
    "from sklearn.metrics import accuracy_score\n",
    "\n",
    "import data_loader\n",
    "#import decision_stump_sol as decision_stump\n",
    "#import boosting_sol as boosting\n",
    "import decision_stump\n",
    "import boosting\n",
    "\n",
    "\n",
    "#################\n",
    "# Toy example 1 #\n",
    "#################\n",
    "'''\n",
    "Toy example of XOR\n",
    "\n",
    "          ┃\n",
    "    ○     ╋     ×\n",
    "          ┃\n",
    "          ┃\n",
    "━━━━╋━━━━━╋━━━━━╋━━━\n",
    "          ┃\n",
    "          ┃\n",
    "    ×     ╋     ○\n",
    "          ┃\n",
    "\n",
    "Given a simple set of decision stumps:\n",
    "s in {1, -1}\n",
    "b in {-2, -0.5, 0.5, 2}\n",
    "d in {0, 1}\n",
    "\n",
    "'''\n",
    "# data\n",
    "features_1, labels_1 = data_loader.toy_data_1()\n",
    "# clfs\n",
    "h_set = set()\n",
    "s_set = {1, -1}\n",
    "b_set = {-2, -0.5, 0.5, 2}\n",
    "d_set = {0, 1}\n",
    "for s in s_set:\n",
    "    for b in b_set:\n",
    "        for d in d_set:\n",
    "            h_set.add(decision_stump.DecisionStump(s,b,d))\n",
    "# boost\n",
    "Ada_1 = boosting.AdaBoost(h_set, T=1)\n",
    "Ada_1.train(features_1, labels_1)\n",
    "\n",
    "# check\n",
    "print('━━━━━━━━━━ Toy example 1 ━━━━━━━━━━')\n",
    "print('This toy example checks the format. Any of the stump is correct.')\n",
    "print('(Can you explain why?)')\n",
    "print('Ada_1: s = {:01d}, b = {:.1f}, d = {:01d}'.format(\n",
    "    Ada_1.clfs_picked[0].s, Ada_1.clfs_picked[0].b, Ada_1.clfs_picked[0].d))\n",
    "\n",
    "if Ada_1.betas[0] == 0:\n",
    "    print('Betas are correct')\n",
    "else:\n",
    "    print('▁▂▃▄▅▆▇█ Betas are not correct █▇▆▅▄▃▂▁')\n",
    "\n",
    "\n",
    "#################\n",
    "# Toy example 2 #\n",
    "#################\n",
    "'''\n",
    "Toy example of another XOR (linearly transformed from toy example 1)\n",
    "          \n",
    "          ┃\n",
    "          ×     \n",
    "          ┃\n",
    "          ┃\n",
    "━━━━○━━━━━╋━━━━━○━━━\n",
    "          ┃\n",
    "          ┃\n",
    "          ×     \n",
    "          ┃\n",
    "\n",
    "Given a simple set of decision stumps:\n",
    "s in {1, -1}\n",
    "b in {-2, -0.5, 0.5, 2}\n",
    "d in {0, 1}\n",
    "\n",
    "'''\n",
    "# data\n",
    "features_2, labels_2 = data_loader.toy_data_2()\n",
    "# clfs\n",
    "h_set = set()\n",
    "s_set = {1, -1}\n",
    "b_set = {-2, -0.5, 0.5, 2}\n",
    "d_set = {0, 1}\n",
    "for s in s_set:\n",
    "    for b in b_set:\n",
    "        for d in d_set:\n",
    "            h_set.add(decision_stump.DecisionStump(s,b,d))\n",
    "# boost\n",
    "Ada_2_2 = boosting.AdaBoost(h_set, T=2)\n",
    "Ada_2_2.train(features_2, labels_2)\n",
    "Ada_2_3 = boosting.AdaBoost(h_set, T=3)\n",
    "Ada_2_3.train(features_2, labels_2)\n",
    "\n",
    "# check\n",
    "print('━━━━━━━━━━ Toy example 2 ━━━━━━━━━━')\n",
    "Ada_2_2_acc = accuracy_score(Ada_2_2.predict(features_2), labels_2)\n",
    "Ada_2_3_acc = accuracy_score(Ada_2_3.predict(features_2), labels_2)\n",
    "print('Ada:', Ada_2_2_acc, Ada_2_3_acc)\n",
    "\n",
    "if Ada_2_2_acc == 0.75 and Ada_2_3_acc == 1:\n",
    "    print('Correct training accuracies')\n",
    "else:\n",
    "    print('▁▂▃▄▅▆▇█ Incorrect training accuracies █▇▆▅▄▃▂▁')"
   ]
  },
  {
   "cell_type": "code",
   "execution_count": 3,
   "metadata": {},
   "outputs": [
    {
     "data": {
      "text/plain": [
       "[[1.0, 1.0], [-1.0, 1.0], [-1.0, -1.0], [1.0, -1.0]]"
      ]
     },
     "execution_count": 3,
     "metadata": {},
     "output_type": "execute_result"
    }
   ],
   "source": [
    "features_1"
   ]
  },
  {
   "cell_type": "code",
   "execution_count": 4,
   "metadata": {},
   "outputs": [
    {
     "data": {
      "text/plain": [
       "[1, -1, 1, -1]"
      ]
     },
     "execution_count": 4,
     "metadata": {},
     "output_type": "execute_result"
    }
   ],
   "source": [
    "labels_1"
   ]
  },
  {
   "cell_type": "code",
   "execution_count": 5,
   "metadata": {},
   "outputs": [],
   "source": [
    "features_2, labels_2 = data_loader.toy_data_2()"
   ]
  },
  {
   "cell_type": "code",
   "execution_count": 6,
   "metadata": {},
   "outputs": [
    {
     "data": {
      "text/plain": [
       "[[0.0, 1.414], [-1.414, 0.0], [0.0, -1.414], [1.414, 0.0]]"
      ]
     },
     "execution_count": 6,
     "metadata": {},
     "output_type": "execute_result"
    }
   ],
   "source": [
    "features_2"
   ]
  },
  {
   "cell_type": "code",
   "execution_count": 8,
   "metadata": {},
   "outputs": [
    {
     "data": {
      "text/plain": [
       "[0.0, 1.414]"
      ]
     },
     "execution_count": 8,
     "metadata": {},
     "output_type": "execute_result"
    }
   ],
   "source": [
    "features_2[0]"
   ]
  },
  {
   "cell_type": "code",
   "execution_count": 15,
   "metadata": {},
   "outputs": [
    {
     "data": {
      "text/plain": [
       "1.414"
      ]
     },
     "execution_count": 15,
     "metadata": {},
     "output_type": "execute_result"
    }
   ],
   "source": [
    "features_2[0][1]"
   ]
  },
  {
   "cell_type": "code",
   "execution_count": 9,
   "metadata": {},
   "outputs": [
    {
     "data": {
      "text/plain": [
       "4"
      ]
     },
     "execution_count": 9,
     "metadata": {},
     "output_type": "execute_result"
    }
   ],
   "source": [
    "len(features_2)"
   ]
  },
  {
   "cell_type": "code",
   "execution_count": 16,
   "metadata": {},
   "outputs": [
    {
     "data": {
      "text/plain": [
       "array([0., 0., 0., 0.])"
      ]
     },
     "execution_count": 16,
     "metadata": {},
     "output_type": "execute_result"
    }
   ],
   "source": [
    "np.zeros(len(features_2))"
   ]
  },
  {
   "cell_type": "code",
   "execution_count": 21,
   "metadata": {},
   "outputs": [
    {
     "data": {
      "text/plain": [
       "set"
      ]
     },
     "execution_count": 21,
     "metadata": {},
     "output_type": "execute_result"
    }
   ],
   "source": [
    "type(h_set)"
   ]
  },
  {
   "cell_type": "code",
   "execution_count": 22,
   "metadata": {},
   "outputs": [
    {
     "name": "stdout",
     "output_type": "stream",
     "text": [
      "{<decision_stump.DecisionStump object at 0x7fd3282d0e10>, <decision_stump.DecisionStump object at 0x7fd3282d0e48>, <decision_stump.DecisionStump object at 0x7fd3282e1048>, <decision_stump.DecisionStump object at 0x7fd3282d0e80>, <decision_stump.DecisionStump object at 0x7fd3282e1080>, <decision_stump.DecisionStump object at 0x7fd3282d0eb8>, <decision_stump.DecisionStump object at 0x7fd3282e10b8>, <decision_stump.DecisionStump object at 0x7fd3282d0ef0>, <decision_stump.DecisionStump object at 0x7fd3282e10f0>, <decision_stump.DecisionStump object at 0x7fd3282d0f28>, <decision_stump.DecisionStump object at 0x7fd3282d0fd0>, <decision_stump.DecisionStump object at 0x7fd3282e1128>, <decision_stump.DecisionStump object at 0x7fd3282d0f60>, <decision_stump.DecisionStump object at 0x7fd3282d0f98>, <decision_stump.DecisionStump object at 0x7fd3282d0da0>, <decision_stump.DecisionStump object at 0x7fd3282d0dd8>}\n"
     ]
    }
   ],
   "source": [
    "print(h_set)"
   ]
  },
  {
   "cell_type": "code",
   "execution_count": 55,
   "metadata": {},
   "outputs": [
    {
     "name": "stdout",
     "output_type": "stream",
     "text": [
      "<decision_stump.DecisionStump object at 0x7fd3282d0e10>\n",
      "<decision_stump.DecisionStump object at 0x7fd3282d0e48>\n",
      "<decision_stump.DecisionStump object at 0x7fd3282e1048>\n",
      "<decision_stump.DecisionStump object at 0x7fd3282d0e80>\n",
      "<decision_stump.DecisionStump object at 0x7fd3282e1080>\n",
      "<decision_stump.DecisionStump object at 0x7fd3282d0eb8>\n",
      "<decision_stump.DecisionStump object at 0x7fd3282e10b8>\n",
      "<decision_stump.DecisionStump object at 0x7fd3282d0ef0>\n",
      "<decision_stump.DecisionStump object at 0x7fd3282e10f0>\n",
      "<decision_stump.DecisionStump object at 0x7fd3282d0f28>\n",
      "<decision_stump.DecisionStump object at 0x7fd3282d0fd0>\n",
      "<decision_stump.DecisionStump object at 0x7fd3282e1128>\n",
      "<decision_stump.DecisionStump object at 0x7fd3282d0f60>\n",
      "<decision_stump.DecisionStump object at 0x7fd3282d0f98>\n",
      "<decision_stump.DecisionStump object at 0x7fd3282d0da0>\n",
      "<decision_stump.DecisionStump object at 0x7fd3282d0dd8>\n"
     ]
    }
   ],
   "source": [
    "for hs in h_set:\n",
    "    print(hs)"
   ]
  },
  {
   "cell_type": "code",
   "execution_count": null,
   "metadata": {},
   "outputs": [],
   "source": []
  },
  {
   "cell_type": "code",
   "execution_count": 14,
   "metadata": {},
   "outputs": [
    {
     "data": {
      "text/plain": [
       "-1"
      ]
     },
     "execution_count": 14,
     "metadata": {},
     "output_type": "execute_result"
    }
   ],
   "source": [
    "np.sign(-11)"
   ]
  },
  {
   "cell_type": "code",
   "execution_count": 29,
   "metadata": {},
   "outputs": [
    {
     "name": "stdout",
     "output_type": "stream",
     "text": [
      "[1 2 3]\n",
      "<class 'numpy.ndarray'>\n",
      "6\n"
     ]
    }
   ],
   "source": [
    "a = [1,2,3]\n",
    "print(np.array(a) * a[0])\n",
    "print(type(np.array(a) * a[0]))\n",
    "print(sum(np.array(a) * a[0]))\n"
   ]
  },
  {
   "cell_type": "code",
   "execution_count": 37,
   "metadata": {},
   "outputs": [
    {
     "name": "stdout",
     "output_type": "stream",
     "text": [
      "[[2. 4. 6.]\n",
      " [1. 2. 3.]]\n"
     ]
    },
    {
     "data": {
      "text/plain": [
       "[3, 6, 9]"
      ]
     },
     "execution_count": 37,
     "metadata": {},
     "output_type": "execute_result"
    }
   ],
   "source": [
    "b = np.zeros((2,3))\n",
    "b[1,:] = np.array(a)\n",
    "b[0,:] = 2 * np.array(a)\n",
    "print(b)\n",
    "(np.sum(b,axis=0)).astype(int).tolist()"
   ]
  },
  {
   "cell_type": "code",
   "execution_count": 41,
   "metadata": {},
   "outputs": [
    {
     "name": "stdout",
     "output_type": "stream",
     "text": [
      "[[0.0, 1.414], [-1.414, 0.0], [0.0, -1.414], [1.414, 0.0]]\n",
      "[ 0.    -1.414  0.     1.414]\n"
     ]
    }
   ],
   "source": [
    "print(features_2)\n",
    "print(np.array(features_2)[:,0])"
   ]
  },
  {
   "cell_type": "code",
   "execution_count": 44,
   "metadata": {},
   "outputs": [
    {
     "data": {
      "text/plain": [
       "array([ True, False,  True,  True])"
      ]
     },
     "execution_count": 44,
     "metadata": {},
     "output_type": "execute_result"
    }
   ],
   "source": [
    "np.array(features_2)[:,0] > -0.1"
   ]
  },
  {
   "cell_type": "code",
   "execution_count": 47,
   "metadata": {},
   "outputs": [
    {
     "name": "stdout",
     "output_type": "stream",
     "text": [
      "[1, -1, 1, 1]\n"
     ]
    }
   ],
   "source": [
    "aboo = np.array(features_2)[:,0] > -0.1\n",
    "b = aboo *2 -1\n",
    "print(b.tolist())"
   ]
  },
  {
   "cell_type": "code",
   "execution_count": 49,
   "metadata": {},
   "outputs": [
    {
     "name": "stdout",
     "output_type": "stream",
     "text": [
      "1\n"
     ]
    }
   ],
   "source": [
    "d = [1,4,4]\n",
    "print(d[0])"
   ]
  },
  {
   "cell_type": "code",
   "execution_count": null,
   "metadata": {},
   "outputs": [],
   "source": [
    "\n",
    "class Boosting(Classifier):\n",
    "  # Boosting from pre-defined classifiers\n",
    "    def __init__(self, clfs: Set[Classifier], T=0):\n",
    "        self.clfs = clfs      # set of weak classifiers to be considered\n",
    "        self.num_clf = len(clfs)\n",
    "        if T < 1:\n",
    "            self.T = self.num_clf\n",
    "        else:\n",
    "            self.T = T\n",
    "    \n",
    "        self.clfs_picked = [] # list of classifiers h_t for t=0,...,T-1\n",
    "        self.betas = []       # list of weights beta_t for t=0,...,T-1\n",
    "        return\n",
    "\n",
    "    @abstractmethod\n",
    "    def train(self, features: List[List[float]], labels: List[int]):\n",
    "        return\n",
    "\n",
    "    def predict(self, features: List[List[float]]) -> List[int]:\n",
    "        '''\n",
    "        Inputs:\n",
    "        - features: the features of all test examples\n",
    "   \n",
    "        Returns:\n",
    "        - the prediction (-1 or +1) for each example (in a list)\n",
    "        '''\n",
    "        ########################################################\n",
    "        # TODO: implement \"predict\"\n",
    "        ########################################################\n",
    "        for t in range(self.T):\n",
    "            \n",
    "        self.cl\n",
    "        features"
   ]
  }
 ],
 "metadata": {
  "kernelspec": {
   "display_name": "Python 3",
   "language": "python",
   "name": "python3"
  },
  "language_info": {
   "codemirror_mode": {
    "name": "ipython",
    "version": 3
   },
   "file_extension": ".py",
   "mimetype": "text/x-python",
   "name": "python",
   "nbconvert_exporter": "python",
   "pygments_lexer": "ipython3",
   "version": "3.6.6"
  }
 },
 "nbformat": 4,
 "nbformat_minor": 2
}

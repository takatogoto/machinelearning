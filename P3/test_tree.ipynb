{
 "cells": [
  {
   "cell_type": "code",
   "execution_count": 1,
   "metadata": {},
   "outputs": [
    {
     "name": "stderr",
     "output_type": "stream",
     "text": [
      "/home/lapubu2941/anaconda3/lib/python3.6/site-packages/sklearn/model_selection/_split.py:2069: FutureWarning: From version 0.21, test_size will always complement train_size unless both are specified.\n",
      "  FutureWarning)\n"
     ]
    }
   ],
   "source": [
    "import numpy as np\n",
    "from sklearn.metrics import accuracy_score\n",
    "import json\n",
    "\n",
    "import data_loader\n",
    "import decision_tree\n",
    "\n",
    "# load data\n",
    "X_train, X_test, y_train, y_test = data_loader.discrete_2D_iris_dataset()"
   ]
  },
  {
   "cell_type": "code",
   "execution_count": 2,
   "metadata": {
    "scrolled": true
   },
   "outputs": [
    {
     "name": "stdout",
     "output_type": "stream",
     "text": [
      "train\n",
      "predict\n",
      "train_accu 0.8083333333333333\n"
     ]
    }
   ],
   "source": [
    "# set classifier\n",
    "dTree = decision_tree.DecisionTree()\n",
    "\n",
    "# training\n",
    "print('train')\n",
    "dTree.train(X_train, y_train)\n",
    "print('predict')\n",
    "y_est_train = dTree.predict(X_train)\n",
    "train_accu = accuracy_score(y_est_train, y_train)\n",
    "print('train_accu', train_accu)\n",
    "\n"
   ]
  },
  {
   "cell_type": "code",
   "execution_count": 3,
   "metadata": {},
   "outputs": [
    {
     "name": "stdout",
     "output_type": "stream",
     "text": [
      "test_accu 0.8\n"
     ]
    }
   ],
   "source": [
    "# testing\n",
    "y_est_test = dTree.predict(X_test)\n",
    "test_accu = accuracy_score(y_est_test, y_test)\n",
    "print('test_accu', test_accu)\n"
   ]
  },
  {
   "cell_type": "code",
   "execution_count": 4,
   "metadata": {},
   "outputs": [
    {
     "name": "stdout",
     "output_type": "stream",
     "text": [
      "node 0{\n",
      " num of sample / cls: 40 40 40 \n",
      "  split by dim 0\n",
      "  node 0/0{\n",
      "   num of sample / cls: 36 5 1 \n",
      "    split by dim 1\n",
      "    node 0/0/0{\n",
      "     num of sample / cls: 1 4 1 \n",
      "      cls 1\n",
      "    }\n",
      "    node 0/0/1{\n",
      "     num of sample / cls: 20 1 0 \n",
      "      cls 0\n",
      "    }\n",
      "    node 0/0/2{\n",
      "     num of sample / cls: 15 0 0 \n",
      "      cls 0\n",
      "    }\n",
      "  }\n",
      "  node 0/1{\n",
      "   num of sample / cls: 4 23 8 \n",
      "    split by dim 1\n",
      "    node 0/1/0{\n",
      "     num of sample / cls: 0 9 3 \n",
      "      cls 1\n",
      "    }\n",
      "    node 0/1/1{\n",
      "     num of sample / cls: 0 14 5 \n",
      "      cls 1\n",
      "    }\n",
      "    node 0/1/2{\n",
      "     num of sample / cls: 4 0 0 \n",
      "      cls 0\n",
      "    }\n",
      "  }\n",
      "  node 0/2{\n",
      "   num of sample / cls: 0 12 31 \n",
      "    split by dim 1\n",
      "    node 0/2/0{\n",
      "     num of sample / cls: 0 2 4 \n",
      "      cls 2\n",
      "    }\n",
      "    node 0/2/1{\n",
      "     num of sample / cls: 0 10 25 \n",
      "      cls 2\n",
      "    }\n",
      "    node 0/2/2{\n",
      "     num of sample / cls: 0 0 2 \n",
      "      cls 2\n",
      "    }\n",
      "  }\n",
      "}\n"
     ]
    }
   ],
   "source": [
    "# print\n",
    "dTree.print_tree()"
   ]
  },
  {
   "cell_type": "code",
   "execution_count": 5,
   "metadata": {},
   "outputs": [
    {
     "data": {
      "text/plain": [
       "[[1.0, 2.0],\n",
       " [0.0, 1.0],\n",
       " [2.0, 1.0],\n",
       " [2.0, 1.0],\n",
       " [0.0, 1.0],\n",
       " [0.0, 2.0],\n",
       " [2.0, 1.0],\n",
       " [0.0, 0.0],\n",
       " [2.0, 0.0],\n",
       " [2.0, 0.0],\n",
       " [2.0, 1.0],\n",
       " [1.0, 0.0],\n",
       " [0.0, 2.0],\n",
       " [0.0, 2.0],\n",
       " [1.0, 1.0],\n",
       " [2.0, 1.0],\n",
       " [0.0, 1.0],\n",
       " [1.0, 0.0],\n",
       " [1.0, 0.0],\n",
       " [0.0, 1.0],\n",
       " [0.0, 1.0],\n",
       " [0.0, 1.0],\n",
       " [1.0, 0.0],\n",
       " [2.0, 1.0],\n",
       " [1.0, 1.0],\n",
       " [0.0, 1.0],\n",
       " [2.0, 1.0],\n",
       " [0.0, 2.0],\n",
       " [2.0, 1.0],\n",
       " [1.0, 1.0],\n",
       " [0.0, 2.0],\n",
       " [0.0, 1.0],\n",
       " [2.0, 1.0],\n",
       " [1.0, 1.0],\n",
       " [0.0, 2.0],\n",
       " [0.0, 1.0],\n",
       " [0.0, 0.0],\n",
       " [2.0, 1.0],\n",
       " [2.0, 1.0],\n",
       " [0.0, 1.0],\n",
       " [2.0, 1.0],\n",
       " [1.0, 1.0],\n",
       " [0.0, 1.0],\n",
       " [0.0, 1.0],\n",
       " [2.0, 1.0],\n",
       " [2.0, 2.0],\n",
       " [1.0, 1.0],\n",
       " [1.0, 1.0],\n",
       " [0.0, 0.0],\n",
       " [2.0, 0.0],\n",
       " [0.0, 2.0],\n",
       " [1.0, 2.0],\n",
       " [2.0, 1.0],\n",
       " [2.0, 1.0],\n",
       " [2.0, 1.0],\n",
       " [2.0, 1.0],\n",
       " [1.0, 1.0],\n",
       " [2.0, 1.0],\n",
       " [0.0, 1.0],\n",
       " [2.0, 1.0],\n",
       " [0.0, 1.0],\n",
       " [1.0, 1.0],\n",
       " [2.0, 1.0],\n",
       " [2.0, 1.0],\n",
       " [2.0, 1.0],\n",
       " [0.0, 2.0],\n",
       " [1.0, 0.0],\n",
       " [0.0, 2.0],\n",
       " [1.0, 1.0],\n",
       " [2.0, 1.0],\n",
       " [1.0, 1.0],\n",
       " [0.0, 1.0],\n",
       " [2.0, 1.0],\n",
       " [0.0, 2.0],\n",
       " [2.0, 0.0],\n",
       " [1.0, 1.0],\n",
       " [2.0, 1.0],\n",
       " [2.0, 1.0],\n",
       " [1.0, 1.0],\n",
       " [1.0, 1.0],\n",
       " [1.0, 2.0],\n",
       " [2.0, 1.0],\n",
       " [1.0, 1.0],\n",
       " [2.0, 1.0],\n",
       " [2.0, 1.0],\n",
       " [0.0, 1.0],\n",
       " [1.0, 1.0],\n",
       " [2.0, 0.0],\n",
       " [0.0, 1.0],\n",
       " [1.0, 0.0],\n",
       " [0.0, 1.0],\n",
       " [0.0, 2.0],\n",
       " [0.0, 2.0],\n",
       " [1.0, 0.0],\n",
       " [2.0, 0.0],\n",
       " [1.0, 2.0],\n",
       " [0.0, 2.0],\n",
       " [2.0, 1.0],\n",
       " [0.0, 1.0],\n",
       " [1.0, 0.0],\n",
       " [1.0, 1.0],\n",
       " [2.0, 1.0],\n",
       " [2.0, 1.0],\n",
       " [2.0, 1.0],\n",
       " [1.0, 0.0],\n",
       " [1.0, 0.0],\n",
       " [2.0, 1.0],\n",
       " [0.0, 0.0],\n",
       " [0.0, 1.0],\n",
       " [1.0, 1.0],\n",
       " [1.0, 0.0],\n",
       " [0.0, 1.0],\n",
       " [0.0, 0.0],\n",
       " [1.0, 0.0],\n",
       " [1.0, 1.0],\n",
       " [2.0, 1.0],\n",
       " [0.0, 2.0],\n",
       " [0.0, 2.0],\n",
       " [2.0, 2.0],\n",
       " [0.0, 0.0]]"
      ]
     },
     "execution_count": 5,
     "metadata": {},
     "output_type": "execute_result"
    }
   ],
   "source": [
    "X_train"
   ]
  },
  {
   "cell_type": "code",
   "execution_count": 6,
   "metadata": {},
   "outputs": [
    {
     "data": {
      "text/plain": [
       "[0,\n",
       " 0,\n",
       " 2,\n",
       " 1,\n",
       " 0,\n",
       " 0,\n",
       " 1,\n",
       " 0,\n",
       " 2,\n",
       " 1,\n",
       " 2,\n",
       " 1,\n",
       " 0,\n",
       " 0,\n",
       " 2,\n",
       " 1,\n",
       " 0,\n",
       " 1,\n",
       " 2,\n",
       " 1,\n",
       " 0,\n",
       " 0,\n",
       " 2,\n",
       " 1,\n",
       " 1,\n",
       " 0,\n",
       " 2,\n",
       " 0,\n",
       " 2,\n",
       " 1,\n",
       " 0,\n",
       " 0,\n",
       " 2,\n",
       " 1,\n",
       " 0,\n",
       " 0,\n",
       " 1,\n",
       " 2,\n",
       " 2,\n",
       " 0,\n",
       " 2,\n",
       " 1,\n",
       " 0,\n",
       " 0,\n",
       " 2,\n",
       " 2,\n",
       " 2,\n",
       " 1,\n",
       " 1,\n",
       " 1,\n",
       " 0,\n",
       " 0,\n",
       " 2,\n",
       " 2,\n",
       " 1,\n",
       " 2,\n",
       " 1,\n",
       " 2,\n",
       " 0,\n",
       " 2,\n",
       " 0,\n",
       " 1,\n",
       " 1,\n",
       " 2,\n",
       " 2,\n",
       " 0,\n",
       " 1,\n",
       " 0,\n",
       " 1,\n",
       " 1,\n",
       " 1,\n",
       " 0,\n",
       " 2,\n",
       " 0,\n",
       " 2,\n",
       " 1,\n",
       " 2,\n",
       " 1,\n",
       " 2,\n",
       " 1,\n",
       " 0,\n",
       " 2,\n",
       " 1,\n",
       " 2,\n",
       " 1,\n",
       " 0,\n",
       " 1,\n",
       " 2,\n",
       " 0,\n",
       " 1,\n",
       " 0,\n",
       " 0,\n",
       " 0,\n",
       " 1,\n",
       " 2,\n",
       " 0,\n",
       " 0,\n",
       " 2,\n",
       " 0,\n",
       " 1,\n",
       " 2,\n",
       " 1,\n",
       " 2,\n",
       " 2,\n",
       " 1,\n",
       " 1,\n",
       " 2,\n",
       " 1,\n",
       " 0,\n",
       " 1,\n",
       " 1,\n",
       " 0,\n",
       " 1,\n",
       " 2,\n",
       " 2,\n",
       " 2,\n",
       " 0,\n",
       " 0,\n",
       " 2,\n",
       " 2]"
      ]
     },
     "execution_count": 6,
     "metadata": {},
     "output_type": "execute_result"
    }
   ],
   "source": [
    "y_train"
   ]
  },
  {
   "cell_type": "code",
   "execution_count": 4,
   "metadata": {},
   "outputs": [],
   "source": [
    "a = True\n"
   ]
  },
  {
   "cell_type": "code",
   "execution_count": 5,
   "metadata": {},
   "outputs": [
    {
     "data": {
      "text/plain": [
       "True"
      ]
     },
     "execution_count": 5,
     "metadata": {},
     "output_type": "execute_result"
    }
   ],
   "source": [
    "a"
   ]
  },
  {
   "cell_type": "code",
   "execution_count": 9,
   "metadata": {},
   "outputs": [
    {
     "data": {
      "text/plain": [
       "False"
      ]
     },
     "execution_count": 9,
     "metadata": {},
     "output_type": "execute_result"
    }
   ],
   "source": [
    "not a"
   ]
  },
  {
   "cell_type": "code",
   "execution_count": 3,
   "metadata": {},
   "outputs": [],
   "source": [
    "cc = [1]\n",
    "cc.append(2)"
   ]
  },
  {
   "cell_type": "code",
   "execution_count": 4,
   "metadata": {},
   "outputs": [
    {
     "data": {
      "text/plain": [
       "[1, 2]"
      ]
     },
     "execution_count": 4,
     "metadata": {},
     "output_type": "execute_result"
    }
   ],
   "source": [
    "cc."
   ]
  },
  {
   "cell_type": "code",
   "execution_count": 5,
   "metadata": {},
   "outputs": [
    {
     "name": "stdout",
     "output_type": "stream",
     "text": [
      "[1, 2, [3, 4]]\n"
     ]
    }
   ],
   "source": [
    "cc.append([3,4])\n",
    "print(cc)"
   ]
  },
  {
   "cell_type": "code",
   "execution_count": 8,
   "metadata": {},
   "outputs": [
    {
     "name": "stdout",
     "output_type": "stream",
     "text": [
      "[[3, 4]]\n"
     ]
    }
   ],
   "source": [
    "dd =[]\n",
    "dd.append([3,4])\n",
    "print(dd)"
   ]
  },
  {
   "cell_type": "code",
   "execution_count": 9,
   "metadata": {},
   "outputs": [
    {
     "name": "stdout",
     "output_type": "stream",
     "text": [
      "[3, 4]\n"
     ]
    }
   ],
   "source": [
    "ee =[]\n",
    "ee.extend([3,4])\n",
    "print(ee)"
   ]
  },
  {
   "cell_type": "code",
   "execution_count": 10,
   "metadata": {},
   "outputs": [
    {
     "name": "stdout",
     "output_type": "stream",
     "text": [
      "[1, 3, 4]\n"
     ]
    }
   ],
   "source": [
    "ff = [1]\n",
    "ff.extend([3,4])\n",
    "print(ff)"
   ]
  },
  {
   "cell_type": "code",
   "execution_count": 11,
   "metadata": {},
   "outputs": [
    {
     "name": "stdout",
     "output_type": "stream",
     "text": [
      "None\n"
     ]
    }
   ],
   "source": [
    "print(ff.extend([]))"
   ]
  },
  {
   "cell_type": "code",
   "execution_count": 12,
   "metadata": {},
   "outputs": [
    {
     "data": {
      "text/plain": [
       "[1, 3, 4]"
      ]
     },
     "execution_count": 12,
     "metadata": {},
     "output_type": "execute_result"
    }
   ],
   "source": [
    "ff"
   ]
  },
  {
   "cell_type": "code",
   "execution_count": 13,
   "metadata": {},
   "outputs": [],
   "source": [
    "gg =[]\n",
    "gg.extend(gg)"
   ]
  },
  {
   "cell_type": "code",
   "execution_count": 14,
   "metadata": {},
   "outputs": [
    {
     "data": {
      "text/plain": [
       "[]"
      ]
     },
     "execution_count": 14,
     "metadata": {},
     "output_type": "execute_result"
    }
   ],
   "source": [
    "gg"
   ]
  },
  {
   "cell_type": "code",
   "execution_count": 1,
   "metadata": {},
   "outputs": [
    {
     "data": {
      "text/plain": [
       "[0, 1]"
      ]
     },
     "execution_count": 1,
     "metadata": {},
     "output_type": "execute_result"
    }
   ],
   "source": [
    "list(set([0, 1, 0]))"
   ]
  },
  {
   "cell_type": "code",
   "execution_count": 5,
   "metadata": {},
   "outputs": [
    {
     "name": "stdout",
     "output_type": "stream",
     "text": [
      "[]\n"
     ]
    }
   ],
   "source": [
    "hh = [1,2]\n",
    "hh = []\n",
    "print(hh)"
   ]
  },
  {
   "cell_type": "code",
   "execution_count": null,
   "metadata": {},
   "outputs": [],
   "source": []
  }
 ],
 "metadata": {
  "kernelspec": {
   "display_name": "Python 3",
   "language": "python",
   "name": "python3"
  },
  "language_info": {
   "codemirror_mode": {
    "name": "ipython",
    "version": 3
   },
   "file_extension": ".py",
   "mimetype": "text/x-python",
   "name": "python",
   "nbconvert_exporter": "python",
   "pygments_lexer": "ipython3",
   "version": "3.6.6"
  }
 },
 "nbformat": 4,
 "nbformat_minor": 2
}

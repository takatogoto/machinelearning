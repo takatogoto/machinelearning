{
 "cells": [
  {
   "cell_type": "markdown",
   "metadata": {},
   "source": [
    "# Tree check"
   ]
  },
  {
   "cell_type": "code",
   "execution_count": 1,
   "metadata": {},
   "outputs": [
    {
     "name": "stdout",
     "output_type": "stream",
     "text": [
      "feature_uniq\n",
      "[1, 2, 3]\n",
      "feature_uniq\n",
      "[1, 3]\n",
      "node 0{\n",
      " num of sample / cls: 2 2 \n",
      "  split by dim 0\n",
      "  node 0/0{\n",
      "   num of sample / cls: 1 0 \n",
      "    cls 0\n",
      "  }\n",
      "  node 0/1{\n",
      "   num of sample / cls: 1 1 \n",
      "    split by dim 1\n",
      "    node 0/1/0{\n",
      "     num of sample / cls: 1 0 \n",
      "      cls 0\n",
      "    }\n",
      "    node 0/1/1{\n",
      "     num of sample / cls: 0 1 \n",
      "      cls 1\n",
      "    }\n",
      "  }\n",
      "  node 0/2{\n",
      "   num of sample / cls: 0 1 \n",
      "    cls 1\n",
      "  }\n",
      "}\n"
     ]
    }
   ],
   "source": [
    "import numpy as np\n",
    "\n",
    "import data_loader\n",
    "import decision_tree\n",
    "\n",
    "###############\n",
    "# Toy example #\n",
    "###############\n",
    "'''\n",
    "Toy example\n",
    "\n",
    "dim_1\n",
    " ┃\n",
    " ╋       ○\n",
    " ┃\n",
    " ╋   ×       ○\n",
    " ┃\n",
    " ╋       ×\n",
    " ┃\n",
    "━╋━━━╋━━━╋━━━╋━ dim_0\n",
    "\n",
    "Print the tree and check the result by yourself!\n",
    "             \n",
    "'''\n",
    "# data\n",
    "features, labels = data_loader.toy_data_3()\n",
    "\n",
    "# build the tree\n",
    "dTree = decision_tree.DecisionTree()\n",
    "dTree.train(features, labels)\n",
    "\n",
    "# print\n",
    "dTree.print_tree()\n"
   ]
  },
  {
   "cell_type": "code",
   "execution_count": 2,
   "metadata": {},
   "outputs": [
    {
     "name": "stdout",
     "output_type": "stream",
     "text": [
      "feature [1, 2]\n",
      "fea_uniq_split [1, 2, 3]\n",
      "dimp 0\n",
      "feature [2, 1]\n",
      "fea_uniq_split [1, 2, 3]\n",
      "dimp 0\n",
      "feature [2, 1]\n",
      "fea_uniq_split [1, 3]\n",
      "dimp 1\n",
      "feature [2, 3]\n",
      "fea_uniq_split [1, 2, 3]\n",
      "dimp 0\n",
      "feature [2, 3]\n",
      "fea_uniq_split [1, 3]\n",
      "dimp 1\n",
      "feature [3, 2]\n",
      "fea_uniq_split [1, 2, 3]\n",
      "dimp 0\n",
      "[0, 0, 1, 1]\n"
     ]
    }
   ],
   "source": [
    "y_est_train = dTree.predict(features)\n",
    "print(y_est_train)"
   ]
  },
  {
   "cell_type": "code",
   "execution_count": 3,
   "metadata": {},
   "outputs": [
    {
     "ename": "ValueError",
     "evalue": "4 is not in list",
     "output_type": "error",
     "traceback": [
      "\u001b[0;31m---------------------------------------------------------------------------\u001b[0m",
      "\u001b[0;31mValueError\u001b[0m                                Traceback (most recent call last)",
      "\u001b[0;32m<ipython-input-3-d677c3fff2ec>\u001b[0m in \u001b[0;36m<module>\u001b[0;34m\u001b[0m\n\u001b[0;32m----> 1\u001b[0;31m \u001b[0mdTree\u001b[0m\u001b[0;34m.\u001b[0m\u001b[0mroot_node\u001b[0m\u001b[0;34m.\u001b[0m\u001b[0mfeature_uniq_split\u001b[0m\u001b[0;34m.\u001b[0m\u001b[0mindex\u001b[0m\u001b[0;34m(\u001b[0m\u001b[0;36m4\u001b[0m\u001b[0;34m)\u001b[0m\u001b[0;34m\u001b[0m\u001b[0m\n\u001b[0m",
      "\u001b[0;31mValueError\u001b[0m: 4 is not in list"
     ]
    }
   ],
   "source": [
    "dTree.root_node.feature_uniq_split.index(4)"
   ]
  },
  {
   "cell_type": "code",
   "execution_count": 5,
   "metadata": {},
   "outputs": [
    {
     "data": {
      "text/plain": [
       "False"
      ]
     },
     "execution_count": 5,
     "metadata": {},
     "output_type": "execute_result"
    }
   ],
   "source": [
    "4 in dTree.root_node.feature_uniq_split"
   ]
  },
  {
   "cell_type": "markdown",
   "metadata": {},
   "source": [
    "## Conditional Entropy"
   ]
  },
  {
   "cell_type": "code",
   "execution_count": 2,
   "metadata": {},
   "outputs": [
    {
     "name": "stdout",
     "output_type": "stream",
     "text": [
      "[[1, 3], [3, 4], [3, 0]]\n",
      "<class 'list'>\n",
      "3\n",
      "[2, 2, 2]\n"
     ]
    }
   ],
   "source": [
    "a = [[1,3],[3,4],[3,0]]\n",
    "print(a)\n",
    "print(type(a))\n",
    "print(len(a))\n",
    "print([len(x) for x in a])"
   ]
  },
  {
   "cell_type": "code",
   "execution_count": 3,
   "metadata": {},
   "outputs": [
    {
     "name": "stdout",
     "output_type": "stream",
     "text": [
      "0.0\n",
      "1.0\n"
     ]
    }
   ],
   "source": [
    "print(np.log2(1))\n",
    "print(np.log2(2))"
   ]
  },
  {
   "cell_type": "code",
   "execution_count": 4,
   "metadata": {},
   "outputs": [
    {
     "data": {
      "text/plain": [
       "array([4, 7, 3])"
      ]
     },
     "execution_count": 4,
     "metadata": {},
     "output_type": "execute_result"
    }
   ],
   "source": [
    "np.sum(a, axis=1)"
   ]
  },
  {
   "cell_type": "code",
   "execution_count": 5,
   "metadata": {},
   "outputs": [
    {
     "data": {
      "text/plain": [
       "14"
      ]
     },
     "execution_count": 5,
     "metadata": {},
     "output_type": "execute_result"
    }
   ],
   "source": [
    "np.sum(a)"
   ]
  },
  {
   "cell_type": "code",
   "execution_count": 4,
   "metadata": {},
   "outputs": [],
   "source": [
    "branches = [[0, 4, 2], [2, 0, 4]]"
   ]
  },
  {
   "cell_type": "code",
   "execution_count": 5,
   "metadata": {},
   "outputs": [
    {
     "name": "stdout",
     "output_type": "stream",
     "text": [
      "[[2]\n",
      " [4]\n",
      " [6]]\n",
      "[[0.         1.        ]\n",
      " [1.         0.        ]\n",
      " [0.33333333 0.66666667]]\n",
      "[[0.16666667]\n",
      " [0.33333333]\n",
      " [0.5       ]]\n",
      "[0.         0.         0.91829583]\n",
      "0.4591479170272448\n"
     ]
    }
   ],
   "source": [
    "            branp = np.array(branches)\n",
    "            C, B = branp.shape\n",
    "            # C axis = 0, B axis =1. C x B numpy array\n",
    "\n",
    "            # number of element for each branch B x 1\n",
    "            bele = np.sum(branp, axis = 0).reshape((B,1))\n",
    "            print(bele)\n",
    "            \n",
    "            # each class probability for each branch B x C\n",
    "            Py_a = np.divide(np.transpose(branp), bele)\n",
    "            print(Py_a)\n",
    "            \n",
    "            # each branch probability\n",
    "            Pa = bele / np.sum(branp)\n",
    "            print(Pa)\n",
    "            \n",
    "            # entropy for each branch B x 1\n",
    "            H = np.sum(- np.multiply(Py_a, (np.ma.log2(Py_a)).filled(0)), axis=1)\n",
    "            print(H)\n",
    "            \n",
    "            # conditional entropy\n",
    "            coen = np.dot(H,Pa)[0].tolist()\n",
    "            print(coen)"
   ]
  },
  {
   "cell_type": "code",
   "execution_count": 7,
   "metadata": {},
   "outputs": [
    {
     "data": {
      "text/plain": [
       "array([[0.5, 0.5, 0. ],\n",
       "       [0. , 0.5, 0.5]])"
      ]
     },
     "execution_count": 7,
     "metadata": {},
     "output_type": "execute_result"
    }
   ],
   "source": [
    "np.divide(branp, bele)"
   ]
  },
  {
   "cell_type": "code",
   "execution_count": 9,
   "metadata": {
    "scrolled": true
   },
   "outputs": [
    {
     "data": {
      "text/plain": [
       "array([[0.28571429],\n",
       "       [0.5       ],\n",
       "       [0.21428571]])"
      ]
     },
     "execution_count": 9,
     "metadata": {},
     "output_type": "execute_result"
    }
   ],
   "source": [
    "bele / np.sum(branp)"
   ]
  },
  {
   "cell_type": "code",
   "execution_count": 10,
   "metadata": {},
   "outputs": [
    {
     "name": "stderr",
     "output_type": "stream",
     "text": [
      "/home/lapubu2941/anaconda3/lib/python3.6/site-packages/ipykernel_launcher.py:1: RuntimeWarning: divide by zero encountered in log2\n",
      "  \"\"\"Entry point for launching an IPython kernel.\n",
      "/home/lapubu2941/anaconda3/lib/python3.6/site-packages/ipykernel_launcher.py:1: RuntimeWarning: invalid value encountered in multiply\n",
      "  \"\"\"Entry point for launching an IPython kernel.\n"
     ]
    },
    {
     "data": {
      "text/plain": [
       "array([[-0.5       , -0.31127812],\n",
       "       [-0.52388247, -0.46134567],\n",
       "       [ 0.        ,         nan]])"
      ]
     },
     "execution_count": 10,
     "metadata": {},
     "output_type": "execute_result"
    }
   ],
   "source": [
    "np.multiply(Py_a, np.log2(Py_a))"
   ]
  },
  {
   "cell_type": "code",
   "execution_count": 11,
   "metadata": {},
   "outputs": [
    {
     "name": "stdout",
     "output_type": "stream",
     "text": [
      "[[-2.         -0.4150375 ]\n",
      " [-1.22239242 -0.80735492]\n",
      " [ 0.          0.        ]]\n"
     ]
    },
    {
     "name": "stderr",
     "output_type": "stream",
     "text": [
      "/home/lapubu2941/anaconda3/lib/python3.6/site-packages/ipykernel_launcher.py:3: RuntimeWarning: divide by zero encountered in log2\n",
      "  This is separate from the ipykernel package so we can avoid doing imports until\n"
     ]
    }
   ],
   "source": [
    "#from numpy import ma\n",
    "\n",
    "res = np.ma.filled(np.log2(np.ma.masked_equal(Py_a, 0)), 0)\n",
    "print(res)"
   ]
  },
  {
   "cell_type": "code",
   "execution_count": 12,
   "metadata": {},
   "outputs": [
    {
     "name": "stderr",
     "output_type": "stream",
     "text": [
      "/home/lapubu2941/anaconda3/lib/python3.6/site-packages/ipykernel_launcher.py:1: RuntimeWarning: divide by zero encountered in log2\n",
      "  \"\"\"Entry point for launching an IPython kernel.\n"
     ]
    },
    {
     "data": {
      "text/plain": [
       "array([[-2.        , -0.4150375 ],\n",
       "       [-1.22239242, -0.80735492],\n",
       "       [ 0.        ,  0.        ]])"
      ]
     },
     "execution_count": 12,
     "metadata": {},
     "output_type": "execute_result"
    }
   ],
   "source": [
    "np.ma.filled(np.log2(np.ma.masked_equal(Py_a, 0)), 0)"
   ]
  },
  {
   "cell_type": "code",
   "execution_count": 13,
   "metadata": {},
   "outputs": [
    {
     "name": "stderr",
     "output_type": "stream",
     "text": [
      "/home/lapubu2941/anaconda3/lib/python3.6/site-packages/ipykernel_launcher.py:1: RuntimeWarning: divide by zero encountered in log2\n",
      "  \"\"\"Entry point for launching an IPython kernel.\n"
     ]
    }
   ],
   "source": [
    "res = np.where(Py_a != 0, np.log2(Py_a), 0)"
   ]
  },
  {
   "cell_type": "code",
   "execution_count": 14,
   "metadata": {},
   "outputs": [
    {
     "name": "stderr",
     "output_type": "stream",
     "text": [
      "/home/lapubu2941/anaconda3/lib/python3.6/site-packages/ipykernel_launcher.py:1: RuntimeWarning: divide by zero encountered in log2\n",
      "  \"\"\"Entry point for launching an IPython kernel.\n",
      "/home/lapubu2941/anaconda3/lib/python3.6/site-packages/ipykernel_launcher.py:1: RuntimeWarning: invalid value encountered in double_scalars\n",
      "  \"\"\"Entry point for launching an IPython kernel.\n"
     ]
    },
    {
     "data": {
      "text/plain": [
       "nan"
      ]
     },
     "execution_count": 14,
     "metadata": {},
     "output_type": "execute_result"
    }
   ],
   "source": [
    "0*np.log2(0)"
   ]
  },
  {
   "cell_type": "code",
   "execution_count": 15,
   "metadata": {},
   "outputs": [
    {
     "data": {
      "text/plain": [
       "masked_array(\n",
       "  data=[[0.25, 0.75],\n",
       "        [0.42857142857142855, 0.5714285714285714],\n",
       "        [1.0, --]],\n",
       "  mask=[[False, False],\n",
       "        [False, False],\n",
       "        [False,  True]],\n",
       "  fill_value=0.0)"
      ]
     },
     "execution_count": 15,
     "metadata": {},
     "output_type": "execute_result"
    }
   ],
   "source": [
    "np.ma.masked_equal(Py_a, 0)"
   ]
  },
  {
   "cell_type": "code",
   "execution_count": 16,
   "metadata": {},
   "outputs": [],
   "source": [
    "lgpya = (np.ma.log2(Py_a)).filled(0)\n"
   ]
  },
  {
   "cell_type": "code",
   "execution_count": 17,
   "metadata": {},
   "outputs": [
    {
     "data": {
      "text/plain": [
       "array([[-2.        , -0.4150375 ],\n",
       "       [-1.22239242, -0.80735492],\n",
       "       [ 0.        ,  0.        ]])"
      ]
     },
     "execution_count": 17,
     "metadata": {},
     "output_type": "execute_result"
    }
   ],
   "source": [
    "lgpya"
   ]
  },
  {
   "cell_type": "code",
   "execution_count": 18,
   "metadata": {},
   "outputs": [
    {
     "data": {
      "text/plain": [
       "array([[ 0.5       ,  0.31127812],\n",
       "       [ 0.52388247,  0.46134567],\n",
       "       [-0.        , -0.        ]])"
      ]
     },
     "execution_count": 18,
     "metadata": {},
     "output_type": "execute_result"
    }
   ],
   "source": [
    "- np.multiply(Py_a, (np.ma.log2(Py_a)).filled(0))"
   ]
  },
  {
   "cell_type": "code",
   "execution_count": 19,
   "metadata": {},
   "outputs": [
    {
     "data": {
      "text/plain": [
       "array([0.81127812, 0.98522814, 0.        ])"
      ]
     },
     "execution_count": 19,
     "metadata": {},
     "output_type": "execute_result"
    }
   ],
   "source": [
    "np.sum((- np.multiply(Py_a, (np.ma.log2(Py_a)).filled(0))), axis=1)"
   ]
  },
  {
   "cell_type": "code",
   "execution_count": 20,
   "metadata": {},
   "outputs": [
    {
     "data": {
      "text/plain": [
       "array([0.72440782])"
      ]
     },
     "execution_count": 20,
     "metadata": {},
     "output_type": "execute_result"
    }
   ],
   "source": [
    "np.dot(H,Pa)"
   ]
  },
  {
   "cell_type": "code",
   "execution_count": 21,
   "metadata": {},
   "outputs": [
    {
     "data": {
      "text/plain": [
       "float"
      ]
     },
     "execution_count": 21,
     "metadata": {},
     "output_type": "execute_result"
    }
   ],
   "source": [
    "type(coen)"
   ]
  },
  {
   "cell_type": "code",
   "execution_count": 22,
   "metadata": {},
   "outputs": [
    {
     "data": {
      "text/plain": [
       "float"
      ]
     },
     "execution_count": 22,
     "metadata": {},
     "output_type": "execute_result"
    }
   ],
   "source": [
    "type(1.1)"
   ]
  },
  {
   "cell_type": "code",
   "execution_count": 2,
   "metadata": {},
   "outputs": [],
   "source": [
    "        def conditional_entropy(branches):\n",
    "            '''\n",
    "            branches: C x B array, \n",
    "                      C is the number of classes,\n",
    "                      B is the number of branches\n",
    "                      it stores the number of \n",
    "                      corresponding training samples \n",
    "                      e.g.\n",
    "                                  ○ ○ ○ ○\n",
    "                                  ● ● ● ●\n",
    "                                ┏━━━━┻━━━━┓\n",
    "                               ○ ○       ○ ○\n",
    "                               ● ● ● ●\n",
    "                               \n",
    "                      branches = [[2,2], [4,0]]\n",
    "            '''\n",
    "            ########################################################\n",
    "            # TODO: compute the conditional entropy\n",
    "            ########################################################\n",
    "            \n",
    "            branp = np.array(branches)\n",
    "            C, B = branp.shape\n",
    "            # C axis = 0, B axis =1. C x B numpy array\n",
    "\n",
    "            # number of element for each branch B x 1\n",
    "            bele = np.sum(branp, axis = 0).reshape((B,1))\n",
    "            \n",
    "            # each class probability for each branch B x C\n",
    "            Py_a = np.divide(np.transpose(branp), bele)\n",
    "            \n",
    "            # each branch probability B x 1\n",
    "            Pa = bele / np.sum(branp)\n",
    "            \n",
    "            # entropy for each branch 1 x B\n",
    "            H = np.sum(- np.multiply(Py_a, (np.ma.log2(Py_a)).filled(0)), axis=1)\n",
    "            \n",
    "            # conditional entropy\n",
    "            coen = np.dot(H,Pa)[0].tolist()\n",
    "\n",
    "            return coen"
   ]
  },
  {
   "cell_type": "markdown",
   "metadata": {},
   "source": [
    "## tree construction"
   ]
  },
  {
   "cell_type": "code",
   "execution_count": 3,
   "metadata": {},
   "outputs": [
    {
     "name": "stdout",
     "output_type": "stream",
     "text": [
      "[[1, 2], [2, 1], [2, 3], [3, 2]]\n",
      "[0, 0, 1, 1]\n"
     ]
    }
   ],
   "source": [
    "print(features)\n",
    "print(labels)"
   ]
  },
  {
   "cell_type": "code",
   "execution_count": 4,
   "metadata": {},
   "outputs": [
    {
     "name": "stdout",
     "output_type": "stream",
     "text": [
      "[1, 2]\n",
      "2\n",
      "4\n"
     ]
    }
   ],
   "source": [
    "print(features[0])\n",
    "print(len(features[0]))\n",
    "print(len(features))"
   ]
  },
  {
   "cell_type": "code",
   "execution_count": 5,
   "metadata": {},
   "outputs": [
    {
     "data": {
      "text/plain": [
       "array([0, 1])"
      ]
     },
     "execution_count": 5,
     "metadata": {},
     "output_type": "execute_result"
    }
   ],
   "source": [
    "np.unique(labels)"
   ]
  },
  {
   "cell_type": "code",
   "execution_count": 6,
   "metadata": {},
   "outputs": [
    {
     "name": "stdout",
     "output_type": "stream",
     "text": [
      "[0 1 2 5]\n",
      "4\n"
     ]
    }
   ],
   "source": [
    "print(np.unique([0,1,1,0,2,5]))\n",
    "print(len(np.unique([0,1,1,0,2,5])))"
   ]
  },
  {
   "cell_type": "code",
   "execution_count": 6,
   "metadata": {},
   "outputs": [
    {
     "name": "stdout",
     "output_type": "stream",
     "text": [
      "[1, 2]\n",
      "[1 2 2 3]\n"
     ]
    }
   ],
   "source": [
    "print(features[0])\n",
    "print(feanp[:,0])"
   ]
  },
  {
   "cell_type": "code",
   "execution_count": 10,
   "metadata": {},
   "outputs": [],
   "source": [
    "features = [[1.0, 2.0],\n",
    " [0.0, 1.0],\n",
    " [2.0, 1.0],\n",
    " [2.0, 1.0],\n",
    " [0.0, 1.0],\n",
    " [0.0, 2.0],\n",
    " [2.0, 1.0],\n",
    " [0.0, 0.0],\n",
    " [2.0, 0.0],\n",
    " [2.0, 0.0],\n",
    " [2.0, 1.0],\n",
    " [1.0, 0.0],\n",
    " [0.0, 2.0]]\n",
    "labels = [0,\n",
    " 0,\n",
    " 2,\n",
    " 1,\n",
    " 0,\n",
    " 0,\n",
    " 1,\n",
    " 0,\n",
    " 2,\n",
    " 1,\n",
    " 2,\n",
    " 1,\n",
    " 0]"
   ]
  },
  {
   "cell_type": "code",
   "execution_count": 11,
   "metadata": {},
   "outputs": [],
   "source": [
    "idx_dim = 0\n",
    "feanp = np.array(features)\n",
    "#feanp = np.array(fea)\n",
    "labnp = np.array(labels)\n",
    "#labnp = np.array(lab)\n",
    "Ctemp = len(np.unique(labels))\n",
    "best_enropy = np.inf\n",
    "best_dim = 0"
   ]
  },
  {
   "cell_type": "code",
   "execution_count": 17,
   "metadata": {},
   "outputs": [
    {
     "name": "stdout",
     "output_type": "stream",
     "text": [
      "branch 0\n",
      "    classes 0\n",
      "[False  True False False  True  True False  True False False False False\n",
      "  True]\n",
      "5\n",
      "    classes 1\n",
      "[False  True False False  True  True False  True False False False False\n",
      "  True]\n",
      "0\n",
      "    classes 2\n",
      "[False  True False False  True  True False  True False False False False\n",
      "  True]\n",
      "0\n",
      "branch 1\n",
      "    classes 0\n",
      "[ True False False False False False False False False False False  True\n",
      " False]\n",
      "1\n",
      "    classes 1\n",
      "[ True False False False False False False False False False False  True\n",
      " False]\n",
      "1\n",
      "    classes 2\n",
      "[ True False False False False False False False False False False  True\n",
      " False]\n",
      "0\n",
      "branch 2\n",
      "    classes 0\n",
      "[False False  True  True False False  True False  True  True  True False\n",
      " False]\n",
      "0\n",
      "    classes 1\n",
      "[False False  True  True False False  True False  True  True  True False\n",
      " False]\n",
      "3\n",
      "    classes 2\n",
      "[False False  True  True False False  True False  True  True  True False\n",
      " False]\n",
      "3\n",
      "[[5, 1, 0], [0, 1, 3], [0, 0, 3]]\n",
      "0\n",
      "0.6153846153846154\n"
     ]
    }
   ],
   "source": [
    "            # number of discrete value == number of branch\n",
    "            # set() elminate duplication\n",
    "            Bset = set([row[idx_dim] for row in features])\n",
    "            Btemp = len(Bset)\n",
    "            \n",
    "            # initilize branch C x B array\n",
    "            branchtm = np.zeros((Ctemp, Btemp))\n",
    "            \n",
    "            # loop for branch\n",
    "            for i, valfea in enumerate(list(Bset)):\n",
    "                print(\"branch\", i)\n",
    "                \n",
    "                # loop for classes\n",
    "                for j, clanm in enumerate(list(set(labels))):\n",
    "                    print(\"    classes\", j)\n",
    "                    \n",
    "                    # find number of ith branch(bool array for all sample)\n",
    "                    branchbool = feanp[:,idx_dim] == valfea\n",
    "                    print( branchbool)\n",
    "                    # find number of jth classes(bool array for all sample)\n",
    "                    classesbool = labnp == clanm\n",
    "                    # find number of ith branch and jth classes\n",
    "                    numberofbc = np.dot(1 * branchbool, 1* classesbool)\n",
    "                    print(numberofbc)\n",
    "                    branchtm[j][i] = numberofbc\n",
    "\n",
    "            branchlist = branchtm.astype(int).tolist()\n",
    "            entemp = conditional_entropy(branchlist)\n",
    "            print(branchlist)\n",
    "            \n",
    "            if entemp < best_enropy:\n",
    "                best_enropy = entemp\n",
    "                best_dim = idx_dim\n",
    "                \n",
    "            print(best_dim)\n",
    "            print(best_enropy)\n",
    "            #labnp[childbool]"
   ]
  },
  {
   "cell_type": "code",
   "execution_count": 31,
   "metadata": {},
   "outputs": [
    {
     "data": {
      "text/plain": [
       "1"
      ]
     },
     "execution_count": 31,
     "metadata": {},
     "output_type": "execute_result"
    }
   ],
   "source": [
    "clanm"
   ]
  },
  {
   "cell_type": "code",
   "execution_count": 32,
   "metadata": {},
   "outputs": [
    {
     "data": {
      "text/plain": [
       "{1, 2, 3}"
      ]
     },
     "execution_count": 32,
     "metadata": {},
     "output_type": "execute_result"
    }
   ],
   "source": [
    "Bset"
   ]
  },
  {
   "cell_type": "code",
   "execution_count": 33,
   "metadata": {},
   "outputs": [
    {
     "data": {
      "text/plain": [
       "[1, 2, 2, 3]"
      ]
     },
     "execution_count": 33,
     "metadata": {},
     "output_type": "execute_result"
    }
   ],
   "source": [
    "[row[0] for row in features]"
   ]
  },
  {
   "cell_type": "code",
   "execution_count": 34,
   "metadata": {},
   "outputs": [
    {
     "name": "stdout",
     "output_type": "stream",
     "text": [
      "[1, 2, 3]\n"
     ]
    }
   ],
   "source": [
    "fea_uni = list(set([row[0] for row in features]))\n",
    "print(fea_uni)"
   ]
  },
  {
   "cell_type": "code",
   "execution_count": 35,
   "metadata": {},
   "outputs": [
    {
     "name": "stdout",
     "output_type": "stream",
     "text": [
      "1\n",
      "2\n",
      "3\n"
     ]
    }
   ],
   "source": [
    "for i in list(set([row[0] for row in features])):\n",
    "    print(i)"
   ]
  },
  {
   "cell_type": "code",
   "execution_count": 36,
   "metadata": {},
   "outputs": [
    {
     "data": {
      "text/plain": [
       "array([1, 2, 2, 3])"
      ]
     },
     "execution_count": 36,
     "metadata": {},
     "output_type": "execute_result"
    }
   ],
   "source": [
    "feanp[:,idx_dim]"
   ]
  },
  {
   "cell_type": "code",
   "execution_count": 37,
   "metadata": {},
   "outputs": [
    {
     "data": {
      "text/plain": [
       "<module 'numpy' from '/home/lapubu2941/anaconda3/lib/python3.6/site-packages/numpy/__init__.py'>"
      ]
     },
     "execution_count": 37,
     "metadata": {},
     "output_type": "execute_result"
    }
   ],
   "source": [
    "np"
   ]
  },
  {
   "cell_type": "code",
   "execution_count": 38,
   "metadata": {},
   "outputs": [
    {
     "data": {
      "text/plain": [
       "[[1, 2], [2, 1], [2, 3], [3, 2]]"
      ]
     },
     "execution_count": 38,
     "metadata": {},
     "output_type": "execute_result"
    }
   ],
   "source": [
    "features"
   ]
  },
  {
   "cell_type": "code",
   "execution_count": 39,
   "metadata": {},
   "outputs": [],
   "source": [
    "feature = [1,2,2,3]"
   ]
  },
  {
   "cell_type": "code",
   "execution_count": 40,
   "metadata": {},
   "outputs": [
    {
     "data": {
      "text/plain": [
       "0"
      ]
     },
     "execution_count": 40,
     "metadata": {},
     "output_type": "execute_result"
    }
   ],
   "source": [
    "features.index([1,2])"
   ]
  },
  {
   "cell_type": "code",
   "execution_count": 41,
   "metadata": {},
   "outputs": [
    {
     "data": {
      "text/plain": [
       "0"
      ]
     },
     "execution_count": 41,
     "metadata": {},
     "output_type": "execute_result"
    }
   ],
   "source": [
    "best_dim"
   ]
  },
  {
   "cell_type": "code",
   "execution_count": 43,
   "metadata": {},
   "outputs": [
    {
     "name": "stdout",
     "output_type": "stream",
     "text": [
      "[1, 2, 3]\n"
     ]
    }
   ],
   "source": [
    "dim_split = best_dim\n",
    "feature_uniq_split = list(set([row[best_dim] for row in features]))\n",
    "print(feature_uniq_split)"
   ]
  },
  {
   "cell_type": "code",
   "execution_count": 62,
   "metadata": {},
   "outputs": [],
   "source": [
    "for child in feature_uniq_split:\n",
    "    childfea = np.delete(feanp[feanp[:, dim_split]==child], dim_split, axis=1).tolist()\n",
    "    chilabel = labnp[feanp[:, dim_split]==child].tolist()\n",
    "    \n",
    "    #idx_child = self.feature_uniq_split.index(feature[self.dim_split])"
   ]
  },
  {
   "cell_type": "code",
   "execution_count": 45,
   "metadata": {},
   "outputs": [
    {
     "name": "stdout",
     "output_type": "stream",
     "text": [
      "[[1 2]\n",
      " [2 1]\n",
      " [2 3]\n",
      " [3 2]]\n",
      "[0 0 1 1]\n"
     ]
    }
   ],
   "source": [
    "print(feanp)\n",
    "print(labnp)"
   ]
  },
  {
   "cell_type": "code",
   "execution_count": 65,
   "metadata": {},
   "outputs": [
    {
     "name": "stdout",
     "output_type": "stream",
     "text": [
      "[[2]]\n",
      "[1]\n"
     ]
    }
   ],
   "source": [
    "print(childfea)\n",
    "print(chilabel)"
   ]
  },
  {
   "cell_type": "code",
   "execution_count": 47,
   "metadata": {},
   "outputs": [
    {
     "data": {
      "text/plain": [
       "[[2, 1], [2, 3]]"
      ]
     },
     "execution_count": 47,
     "metadata": {},
     "output_type": "execute_result"
    }
   ],
   "source": [
    "feanp[feanp[:, dim_split]==2].tolist()"
   ]
  },
  {
   "cell_type": "code",
   "execution_count": 48,
   "metadata": {},
   "outputs": [
    {
     "data": {
      "text/plain": [
       "[0, 1]"
      ]
     },
     "execution_count": 48,
     "metadata": {},
     "output_type": "execute_result"
    }
   ],
   "source": [
    "labnp[feanp[:, dim_split]==2].tolist()"
   ]
  },
  {
   "cell_type": "code",
   "execution_count": 50,
   "metadata": {},
   "outputs": [],
   "source": [
    "aa = feanp[feanp[:, dim_split]==2]\n",
    "aa = aa[:, ~dim_split]"
   ]
  },
  {
   "cell_type": "code",
   "execution_count": 51,
   "metadata": {},
   "outputs": [
    {
     "name": "stdout",
     "output_type": "stream",
     "text": [
      "[1 3]\n"
     ]
    }
   ],
   "source": [
    "print(aa)"
   ]
  },
  {
   "cell_type": "code",
   "execution_count": 54,
   "metadata": {},
   "outputs": [
    {
     "name": "stdout",
     "output_type": "stream",
     "text": [
      "[[1 2 3]\n",
      " [2 2 2]\n",
      " [3 3 3]\n",
      " [2 2 3]]\n"
     ]
    },
    {
     "data": {
      "text/plain": [
       "array([3, 2, 3, 3])"
      ]
     },
     "execution_count": 54,
     "metadata": {},
     "output_type": "execute_result"
    }
   ],
   "source": [
    "B = np.array([[1,2,3], [2,2,2], [3,3,3], [2,2,3]])\n",
    "print(B)\n",
    "B[:, ~0]"
   ]
  },
  {
   "cell_type": "code",
   "execution_count": 56,
   "metadata": {},
   "outputs": [
    {
     "data": {
      "text/plain": [
       "array([[2, 3],\n",
       "       [2, 2],\n",
       "       [3, 3],\n",
       "       [2, 3]])"
      ]
     },
     "execution_count": 56,
     "metadata": {},
     "output_type": "execute_result"
    }
   ],
   "source": [
    "np.delete(B, dim_split, axis=1)"
   ]
  },
  {
   "cell_type": "code",
   "execution_count": 60,
   "metadata": {},
   "outputs": [
    {
     "data": {
      "text/plain": [
       "array([], shape=(3, 0), dtype=int64)"
      ]
     },
     "execution_count": 60,
     "metadata": {},
     "output_type": "execute_result"
    }
   ],
   "source": [
    "C = np.array([[1], [2], [3]])\n",
    "np.delete(C, dim_split, axis=1)"
   ]
  },
  {
   "cell_type": "code",
   "execution_count": 61,
   "metadata": {},
   "outputs": [
    {
     "data": {
      "text/plain": [
       "array([[1],\n",
       "       [2],\n",
       "       [2]])"
      ]
     },
     "execution_count": 61,
     "metadata": {},
     "output_type": "execute_result"
    }
   ],
   "source": [
    "E = np.array([[1,1], [2,2], [3,2]])\n",
    "np.delete(E, dim_split, axis=1)"
   ]
  },
  {
   "cell_type": "code",
   "execution_count": 66,
   "metadata": {},
   "outputs": [
    {
     "data": {
      "text/plain": [
       "[[1], [3]]"
      ]
     },
     "execution_count": 66,
     "metadata": {},
     "output_type": "execute_result"
    }
   ],
   "source": [
    "np.delete(feanp[feanp[:, dim_split]==2], dim_split, axis=1).tolist()"
   ]
  },
  {
   "cell_type": "code",
   "execution_count": 2,
   "metadata": {},
   "outputs": [
    {
     "data": {
      "text/plain": [
       "[0, 0, 1, 1]"
      ]
     },
     "execution_count": 2,
     "metadata": {},
     "output_type": "execute_result"
    }
   ],
   "source": [
    "labels"
   ]
  },
  {
   "cell_type": "code",
   "execution_count": 3,
   "metadata": {},
   "outputs": [
    {
     "data": {
      "text/plain": [
       "2"
      ]
     },
     "execution_count": 3,
     "metadata": {},
     "output_type": "execute_result"
    }
   ],
   "source": [
    "np.max(labels)+1"
   ]
  },
  {
   "cell_type": "code",
   "execution_count": 4,
   "metadata": {},
   "outputs": [
    {
     "data": {
      "text/plain": [
       "5"
      ]
     },
     "execution_count": 4,
     "metadata": {},
     "output_type": "execute_result"
    }
   ],
   "source": [
    "np.max([0, 1,5])"
   ]
  },
  {
   "cell_type": "code",
   "execution_count": null,
   "metadata": {},
   "outputs": [],
   "source": []
  },
  {
   "cell_type": "code",
   "execution_count": 3,
   "metadata": {},
   "outputs": [
    {
     "data": {
      "text/plain": [
       "0.6931471805599453"
      ]
     },
     "execution_count": 3,
     "metadata": {},
     "output_type": "execute_result"
    }
   ],
   "source": [
    "-np.log(1/2)"
   ]
  },
  {
   "cell_type": "code",
   "execution_count": 3,
   "metadata": {},
   "outputs": [
    {
     "data": {
      "text/plain": [
       "[0, 0, 1, 1]"
      ]
     },
     "execution_count": 3,
     "metadata": {},
     "output_type": "execute_result"
    }
   ],
   "source": [
    "labels"
   ]
  },
  {
   "cell_type": "code",
   "execution_count": 4,
   "metadata": {},
   "outputs": [],
   "source": [
    "lab =[0,0,0]"
   ]
  },
  {
   "cell_type": "code",
   "execution_count": 5,
   "metadata": {},
   "outputs": [
    {
     "data": {
      "text/plain": [
       "[0, 0, 0]"
      ]
     },
     "execution_count": 5,
     "metadata": {},
     "output_type": "execute_result"
    }
   ],
   "source": [
    "lab"
   ]
  },
  {
   "cell_type": "code",
   "execution_count": 13,
   "metadata": {},
   "outputs": [
    {
     "data": {
      "text/plain": [
       "1"
      ]
     },
     "execution_count": 13,
     "metadata": {},
     "output_type": "execute_result"
    }
   ],
   "source": [
    "len(set(lab))"
   ]
  },
  {
   "cell_type": "code",
   "execution_count": 11,
   "metadata": {},
   "outputs": [
    {
     "data": {
      "text/plain": [
       "[0]"
      ]
     },
     "execution_count": 11,
     "metadata": {},
     "output_type": "execute_result"
    }
   ],
   "source": [
    "list(set(lab))"
   ]
  },
  {
   "cell_type": "code",
   "execution_count": 14,
   "metadata": {},
   "outputs": [],
   "source": [
    "fea = [[],[]]"
   ]
  },
  {
   "cell_type": "code",
   "execution_count": 22,
   "metadata": {},
   "outputs": [
    {
     "data": {
      "text/plain": [
       "True"
      ]
     },
     "execution_count": 22,
     "metadata": {},
     "output_type": "execute_result"
    }
   ],
   "source": [
    "not fea[0]"
   ]
  },
  {
   "cell_type": "code",
   "execution_count": 17,
   "metadata": {},
   "outputs": [],
   "source": [
    "fa = [[1,1],[3,3]]"
   ]
  },
  {
   "cell_type": "code",
   "execution_count": 20,
   "metadata": {},
   "outputs": [
    {
     "data": {
      "text/plain": [
       "True"
      ]
     },
     "execution_count": 20,
     "metadata": {},
     "output_type": "execute_result"
    }
   ],
   "source": [
    "bool(fa[0])"
   ]
  },
  {
   "cell_type": "code",
   "execution_count": 23,
   "metadata": {},
   "outputs": [
    {
     "data": {
      "text/plain": [
       "False"
      ]
     },
     "execution_count": 23,
     "metadata": {},
     "output_type": "execute_result"
    }
   ],
   "source": [
    "not fa[0]"
   ]
  },
  {
   "cell_type": "code",
   "execution_count": 5,
   "metadata": {},
   "outputs": [
    {
     "name": "stdout",
     "output_type": "stream",
     "text": [
      "OK\n"
     ]
    }
   ],
   "source": [
    "a = None\n",
    "b = [1,1]\n",
    "if not b:\n",
    "    print('none')\n",
    "else:\n",
    "    print('OK')"
   ]
  },
  {
   "cell_type": "code",
   "execution_count": 8,
   "metadata": {},
   "outputs": [
    {
     "data": {
      "text/plain": [
       "list"
      ]
     },
     "execution_count": 8,
     "metadata": {},
     "output_type": "execute_result"
    }
   ],
   "source": [
    "type(a)"
   ]
  },
  {
   "cell_type": "code",
   "execution_count": 9,
   "metadata": {},
   "outputs": [
    {
     "data": {
      "text/plain": [
       "0"
      ]
     },
     "execution_count": 9,
     "metadata": {},
     "output_type": "execute_result"
    }
   ],
   "source": [
    "len(a)"
   ]
  },
  {
   "cell_type": "code",
   "execution_count": 3,
   "metadata": {},
   "outputs": [
    {
     "data": {
      "text/plain": [
       "0"
      ]
     },
     "execution_count": 3,
     "metadata": {},
     "output_type": "execute_result"
    }
   ],
   "source": [
    "aa = [[],[]]\n",
    "len(aa[0])"
   ]
  },
  {
   "cell_type": "code",
   "execution_count": 4,
   "metadata": {},
   "outputs": [
    {
     "name": "stdout",
     "output_type": "stream",
     "text": [
      "0\n",
      "1\n",
      "2\n",
      "4\n",
      "5\n",
      "7\n"
     ]
    }
   ],
   "source": [
    "idx = [3, 6]\n",
    "for i in range(8):\n",
    "    if i in idx:\n",
    "        continue\n",
    "    print(i)"
   ]
  },
  {
   "cell_type": "code",
   "execution_count": null,
   "metadata": {},
   "outputs": [],
   "source": []
  }
 ],
 "metadata": {
  "kernelspec": {
   "display_name": "Python 3",
   "language": "python",
   "name": "python3"
  },
  "language_info": {
   "codemirror_mode": {
    "name": "ipython",
    "version": 3
   },
   "file_extension": ".py",
   "mimetype": "text/x-python",
   "name": "python",
   "nbconvert_exporter": "python",
   "pygments_lexer": "ipython3",
   "version": "3.6.6"
  }
 },
 "nbformat": 4,
 "nbformat_minor": 2
}

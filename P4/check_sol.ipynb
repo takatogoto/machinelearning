{
 "cells": [
  {
   "cell_type": "code",
   "execution_count": 1,
   "metadata": {},
   "outputs": [
    {
     "name": "stdout",
     "output_type": "stream",
     "text": [
      "GMM for toy dataset with k_means init converged in 9 iteration. Final log-likelihood of data: -1663.2697448261301\n",
      "GMM for toy dataset with random init converged in 30 iteration. Final log-likelihood of data: -1663.2697447807122\n"
     ]
    }
   ],
   "source": [
    "import numpy as np\n",
    "from data_loader import toy_dataset, load_digits\n",
    "from gmm_sol import GMM as GMM_SOL\n",
    "from gmm import GMM as GMM_SB\n",
    "from utils import Figure\n",
    "from matplotlib.patches import Ellipse\n",
    "\n",
    "def compute_elipse_params(variance):\n",
    "    '''\n",
    "        Compute elipse params for plotting from variance\n",
    "    '''\n",
    "\n",
    "    # http://www.cs.cornell.edu/cv/OtherPdf/Ellipse.pdf Slide 17\n",
    "    # https://stackoverflow.com/a/41821484\n",
    "\n",
    "    variance_inv = np.linalg.inv(variance)\n",
    "    a = variance_inv[0, 0]\n",
    "    c = variance_inv[1, 1]\n",
    "    b = variance_inv[0, 1] + variance_inv[1, 0]\n",
    "\n",
    "    M = (variance_inv + variance_inv.T) / 2\n",
    "    eig, _ = np.linalg.eig(M)\n",
    "    if (np.abs(eig[0] - a) < np.abs(eig[0] - c)):\n",
    "        lambda1, lambda2 = eig\n",
    "    else:\n",
    "        lambda2, lambda1 = eig\n",
    "\n",
    "    angle = np.arctan(b / (a - c)) / 2\n",
    "    return np.sqrt(1 / lambda1), np.sqrt(1 / lambda2), angle\n",
    "\n",
    "\n",
    "################################################################################\n",
    "# GMM on 2D toy dataset\n",
    "# The dataset is generated from N gaussian distributions equally spaced on N radius circle.\n",
    "# Here, N=4\n",
    "# You should be able to visualize the learnt gaussian distribution in plots folder\n",
    "# Complete implementation of fit function for GMM class in gmm.py\n",
    "################################################################################\n",
    "x, y = toy_dataset(4, 100)\n",
    "init = ['k_means', 'random']\n",
    "#init = ['k_means']\n",
    "\n",
    "for i in init:\n",
    "    n_cluster = 4\n",
    "    gmm = GMM_SOL(n_cluster=n_cluster, max_iter=1000, init=i, e=1e-6)\n",
    "    iterations = gmm.fit(x)\n",
    "    ll = gmm.compute_log_likelihood(x)\n",
    "\n",
    "    assert gmm.means.shape == (\n",
    "        n_cluster, 2), 'means should be numpy array with {}X2 shape'.format(n_cluster)\n",
    "\n",
    "    assert gmm.variances.shape == (\n",
    "        n_cluster, 2, 2), 'variances should be numpy array with {}X2X2 shape'.format(n_cluster)\n",
    "\n",
    "    assert gmm.pi_k.shape == (\n",
    "        n_cluster,), 'pi_k should be numpy vector of size'.format(n_cluster)\n",
    "\n",
    "    assert iterations > 0 and type(\n",
    "        iterations) == int, 'Number of updates should be positive integer'\n",
    "\n",
    "    assert type(ll) == float, 'log-likelihood should be float'\n",
    "\n",
    "    print('GMM for toy dataset with {} init converged in {} iteration. Final log-likelihood of data: {}'.format(\n",
    "        i, iterations, ll))\n",
    "\n",
    "    #np.savez('results/gmm_toy_{}.npz'.format(i), iterations=iterations,\n",
    "    #         variances=gmm.variances, pi_k=gmm.pi_k, means=gmm.means, log_likelihood=ll, x=x, y=y)\n",
    "\n",
    "    # plot\n",
    "    fig = Figure()\n",
    "    fig.ax.scatter(x[:, 0], x[:, 1], c=y)\n",
    "    # fig.ax.scatter(gmm.means[:, 0], gmm.means[:, 1], c='red')\n",
    "    for component in range(n_cluster):\n",
    "        a, b, angle = compute_elipse_params(gmm.variances[component])\n",
    "        e = Ellipse(xy=gmm.means[component], width=a * 5, height=b * 5,\n",
    "                    angle=angle, alpha=gmm.pi_k[component])\n",
    "        fig.ax.add_artist(e)\n",
    "    #fig.savefig('plots/gmm_toy_dataset_{}.png'.format(i))\n",
    "\n",
    "\n"
   ]
  },
  {
   "cell_type": "code",
   "execution_count": 2,
   "metadata": {},
   "outputs": [
    {
     "name": "stdout",
     "output_type": "stream",
     "text": [
      "gmm_sb for toy dataset with k_means init converged in 8 iteration. Final log-likelihood of data: -1663.2697448261306\n",
      "gmm_sb for toy dataset with random init converged in 29 iteration. Final log-likelihood of data: -1663.2697447807122\n"
     ]
    }
   ],
   "source": [
    "for i in init:\n",
    "    n_cluster = 4\n",
    "    gmm_sb = GMM_SB(n_cluster=n_cluster, max_iter=1000, init=i, e=1e-6)\n",
    "    iterations = gmm_sb.fit(x)\n",
    "    ll = gmm_sb.compute_log_likelihood(x)\n",
    "\n",
    "    assert gmm_sb.means.shape == (\n",
    "        n_cluster, 2), 'means should be numpy array with {}X2 shape'.format(n_cluster)\n",
    "\n",
    "    assert gmm_sb.variances.shape == (\n",
    "        n_cluster, 2, 2), 'variances should be numpy array with {}X2X2 shape'.format(n_cluster)\n",
    "\n",
    "    assert gmm_sb.pi_k.shape == (\n",
    "        n_cluster,), 'pi_k should be numpy vector of size'.format(n_cluster)\n",
    "\n",
    "    assert iterations > 0 and type(\n",
    "        iterations) == int, 'Number of updates should be positive integer'\n",
    "\n",
    "    assert type(ll) == float, 'log-likelihood should be float'\n",
    "\n",
    "    print('gmm_sb for toy dataset with {} init converged in {} iteration. Final log-likelihood of data: {}'.format(\n",
    "        i, iterations, ll))\n",
    "\n",
    "    #np.savez('results/gmm_sb_toy_{}.npz'.format(i), iterations=iterations,\n",
    "    #         variances=gmm_sb.variances, pi_k=gmm_sb.pi_k, means=gmm_sb.means, log_likelihood=ll, x=x, y=y)\n",
    "\n",
    "    # plot\n",
    "    fig = Figure()\n",
    "    fig.ax.scatter(x[:, 0], x[:, 1], c=y)\n",
    "    # fig.ax.scatter(gmm_sb.means[:, 0], gmm_sb.means[:, 1], c='red')\n",
    "    for component in range(n_cluster):\n",
    "        a, b, angle = compute_elipse_params(gmm_sb.variances[component])\n",
    "        e = Ellipse(xy=gmm_sb.means[component], width=a * 5, height=b * 5,\n",
    "                    angle=angle, alpha=gmm_sb.pi_k[component])\n",
    "        fig.ax.add_artist(e)\n",
    "    #fig.savefig('plots/gmm_sb_toy_dataset_{}.png'.format(i))\n"
   ]
  },
  {
   "cell_type": "code",
   "execution_count": 3,
   "metadata": {},
   "outputs": [
    {
     "data": {
      "text/plain": [
       "array([0.25750014, 0.26733667, 0.2375816 , 0.2375816 ])"
      ]
     },
     "execution_count": 3,
     "metadata": {},
     "output_type": "execute_result"
    }
   ],
   "source": [
    "gmm_sb.pi_k"
   ]
  },
  {
   "cell_type": "code",
   "execution_count": 4,
   "metadata": {},
   "outputs": [
    {
     "name": "stdout",
     "output_type": "stream",
     "text": [
      "[[[ 0.93780626 -0.039491  ]\n",
      "  [-0.039491    0.86952032]]\n",
      "\n",
      " [[ 0.98443845 -0.12468089]\n",
      "  [-0.12468089  1.05935247]]\n",
      "\n",
      " [[ 1.01095646  0.0670606 ]\n",
      "  [ 0.0670606   1.01485421]]\n",
      "\n",
      " [[ 0.75326161 -0.01673937]\n",
      "  [-0.01673937  1.04221188]]]\n",
      "[[[17.53193796 17.53093796]\n",
      "  [17.53093796 17.53193796]]\n",
      "\n",
      " [[17.18975191 17.18875191]\n",
      "  [17.18875191 17.18975191]]\n",
      "\n",
      " [[18.04460737 18.04360737]\n",
      "  [18.04360737 18.04460737]]\n",
      "\n",
      " [[18.04460737 18.04360737]\n",
      "  [18.04360737 18.04460737]]]\n"
     ]
    }
   ],
   "source": [
    "print(gmm.variances)\n",
    "print(gmm_sb.variances)"
   ]
  },
  {
   "cell_type": "code",
   "execution_count": 11,
   "metadata": {},
   "outputs": [
    {
     "data": {
      "text/plain": [
       "-3"
      ]
     },
     "execution_count": 11,
     "metadata": {},
     "output_type": "execute_result"
    }
   ],
   "source": [
    "a = np.array([1, -2, 3])\n",
    "b = np.array([2, 1, -1])\n",
    "a.T@b"
   ]
  },
  {
   "cell_type": "code",
   "execution_count": 14,
   "metadata": {},
   "outputs": [
    {
     "data": {
      "text/plain": [
       "array([[ 1],\n",
       "       [-2],\n",
       "       [ 3]])"
      ]
     },
     "execution_count": 14,
     "metadata": {},
     "output_type": "execute_result"
    }
   ],
   "source": [
    "a.reshape([-1,1])"
   ]
  },
  {
   "cell_type": "code",
   "execution_count": 9,
   "metadata": {},
   "outputs": [
    {
     "data": {
      "text/plain": [
       "(1, 3)"
      ]
     },
     "execution_count": 9,
     "metadata": {},
     "output_type": "execute_result"
    }
   ],
   "source": [
    "b.shape"
   ]
  },
  {
   "cell_type": "code",
   "execution_count": null,
   "metadata": {},
   "outputs": [],
   "source": []
  }
 ],
 "metadata": {
  "kernelspec": {
   "display_name": "Python 3",
   "language": "python",
   "name": "python3"
  },
  "language_info": {
   "codemirror_mode": {
    "name": "ipython",
    "version": 3
   },
   "file_extension": ".py",
   "mimetype": "text/x-python",
   "name": "python",
   "nbconvert_exporter": "python",
   "pygments_lexer": "ipython3",
   "version": "3.6.6"
  }
 },
 "nbformat": 4,
 "nbformat_minor": 2
}

{
 "cells": [
  {
   "cell_type": "markdown",
   "metadata": {},
   "source": [
    "# GMM"
   ]
  },
  {
   "cell_type": "code",
   "execution_count": 1,
   "metadata": {},
   "outputs": [],
   "source": [
    "import numpy as np\n",
    "from kmeans import KMeans\n",
    "\n",
    "from data_loader import toy_dataset, load_digits\n",
    "from utils import Figure\n",
    "from matplotlib.patches import Ellipse\n",
    "\n",
    "class GMM():\n",
    "    '''\n",
    "        Fits a Gausian Mixture model to the data.\n",
    "\n",
    "        attrs:\n",
    "            n_cluster : Number of mixtures (Int)\n",
    "            e : error tolerance (Float) \n",
    "            max_iter : maximum number of updates (Int)\n",
    "            init : initialization of means and variance\n",
    "                Can be 'random' or 'kmeans' \n",
    "            means : means of Gaussian mixtures (n_cluster X D numpy array)\n",
    "            variances : variance of Gaussian mixtures (n_cluster X D X D numpy array) \n",
    "            pi_k : mixture probabilities of different component ((n_cluster,) size numpy array)\n",
    "    '''\n",
    "\n",
    "    def __init__(self, n_cluster, init='k_means', max_iter=100, e=0.0001):\n",
    "        self.n_cluster = n_cluster\n",
    "        self.e = e\n",
    "        self.max_iter = max_iter\n",
    "        self.init = init\n",
    "        self.means = None\n",
    "        self.variances = None\n",
    "        self.pi_k = None\n",
    "\n",
    "    def fit(self, x):\n",
    "        '''\n",
    "            Fits a GMM to x.\n",
    "\n",
    "            x: is a NXD size numpy array\n",
    "            updates:\n",
    "                self.means\n",
    "                self.variances\n",
    "                self.pi_k\n",
    "        '''\n",
    "        assert len(x.shape) == 2, 'x can only be 2 dimensional'\n",
    "\n",
    "        np.random.seed(42)\n",
    "        N, D = x.shape\n",
    "\n",
    "        if (self.init == 'k_means'):\n",
    "            # TODO\n",
    "            # - comment/remove the exception\n",
    "            # - initialize means using k-means clustering\n",
    "            # - compute variance and pi_k (see P4.pdf)\n",
    "\n",
    "            # DONOT MODIFY CODE ABOVE THIS LINE\n",
    "            #raise Exception(\n",
    "            #    'Implement initialization of variances, means, pi_k using k-means')\n",
    "            \n",
    "            kmean = KMeans(self.n_cluster, self.max_iter, self.e) # self.n_cluster self.max_iter \n",
    "            self.means, ymu, _ = kmean.fit(x) # self.means\n",
    "            self.pi_k = np.array([np.sum(ymu == k) for k in range(self.n_cluster)]) / N #self.pi_k self.n_cluster\n",
    "            \n",
    "            # gamma_ik = {0, 1} at this initialize\n",
    "            self.variances = np.zeros((self.n_cluster, D, D)) #self.variances self.n_cluster self.means\n",
    "            for k in range(self.n_cluster):\n",
    "                xt = x[ymu == k,:] - self.means[k,:] \n",
    "                self.variances[k, :, :] = np.dot(np.transpose(xt),xt) / np.sum(ymu==k) #self.variances \n",
    "            \n",
    "            # DONOT MODIFY CODE BELOW THIS LINE\n",
    "\n",
    "        elif (self.init == 'random'):\n",
    "            # TODO\n",
    "            # - comment/remove the exception\n",
    "            # - initialize means randomly\n",
    "            # - initialize variance to be identity and pi_k to be uniform\n",
    "\n",
    "            # DONOT MODIFY CODE ABOVE THIS LINE\n",
    "            #raise Exception(\n",
    "            #    'Implement initialization of variances, means, pi_k randomly')\n",
    "            \n",
    "            self.means = np.random.rand(self.n_cluster, D) # self.means self.n_cluster\n",
    "            self.pi_k = np.random.rand(self.n_cluster,) #self.pi_k self.n_cluster\n",
    "            randvar = np.random.rand(self.n_cluster, D, D)\n",
    "            self.variances = (randvar + np.transpose(randvar,(0,2,1))) / 2 #self.variances self.n_cluster\n",
    "            \n",
    "            \n",
    "            # DONOT MODIFY CODE BELOW THIS LINE\n",
    "\n",
    "        else:\n",
    "            raise Exception('Invalid initialization provided')\n",
    "\n",
    "        # TODO\n",
    "        # - comment/remove the exception\n",
    "        # - Use EM to learn the means, variances, and pi_k and assign them to self\n",
    "        # - Update until convergence or until you have made self.max_iter updates.\n",
    "        # - Return the number of E/M-Steps executed (Int) \n",
    "        # Hint: Try to separate E & M step for clarity\n",
    "        # DONOT MODIFY CODE ABOVE THIS LINE\n",
    "        #raise Exception('Implement fit function (filename: gmm.py)')\n",
    "        \n",
    "        #4\n",
    "        l = self.compute_log_likelihood(x, self.means, self.variances, self.pi_k)\n",
    "        gamma = np.zeros((N, self.n_cluster))\n",
    "        \n",
    "        \n",
    "        def xnlike(pi, mea, var, x):\n",
    "            gaus = self.Gaussian_pdf(mea, var).getLikelihood(x)\n",
    "            return pi*gaus\n",
    "        \n",
    "        veclog = np.vectorize(xnlike)\n",
    "           \n",
    "        for itr in range(self.max_iter):\n",
    "            print(\"Iteration,\", itr)\n",
    "            #print('variances', self.variances[0,:,:])\n",
    "            #print('means', self.means[0,:] )\n",
    "            # 6 E step\n",
    "            \n",
    "            #for k in range(self.n_cluster):\n",
    "            #    gamma[:, k] = veclog(self.pi_k[k], self.means[k,:], self.variances[k,:], x)\n",
    "            \n",
    "            for n in range(N):\n",
    "                sumnorm = .0\n",
    "                normk = np.zeros(self.n_cluster)\n",
    "                for k in range(self.n_cluster):\n",
    "                    gaus = self.Gaussian_pdf(\n",
    "                        self.means[k,:], self.variances[k,:]).getLikelihood(x[n,:])\n",
    "                    #if gaus ==0:\n",
    "                    #    print('gaus is 0 when n, k', n , k)\n",
    "                    normk[k]= self.pi_k[k] * gaus\n",
    "                    if np.isnan(normk[k]):\n",
    "                        normk[k] =0                        \n",
    "                    sumnorm += normk[k]\n",
    "\n",
    "                #if n == (N-3):\n",
    "                #    print('-2 ', normk, sumnorm)\n",
    "                if sumnorm==0:\n",
    "                    gamma[n, :] = 1/self.n_cluster\n",
    "                else:\n",
    "                    gamma[n, :] = normk / sumnorm\n",
    "            \n",
    "            print('min gamma', gamma[0])\n",
    "            #print('gamma',gamma)\n",
    "            #print('gamma -3 :', gamma[-3,:])\n",
    "            #print(np.isnan(gamma[-3,0]))\n",
    "            print('Estep')\n",
    "            \n",
    "            # 7 M step\n",
    "            # eq.(5)\n",
    "            Nk = np.sum(gamma, axis=0)\n",
    "            #print('Nk',Nk)\n",
    "            \n",
    "            # eq.(6)\n",
    "            means2 = np.zeros(self.means.shape)\n",
    "            for k in range(self.n_cluster):\n",
    "                means2[k, :] = np.sum(np.multiply(gamma[:, k].reshape(N,1), x), axis=0)/ Nk[k]\n",
    "            \n",
    "            print('means', means2[0,:])\n",
    "            print('Eq6')\n",
    "            # eq.(7)\n",
    "            variances2 = np.zeros(self.variances.shape)\n",
    "            for k in range(self.n_cluster):\n",
    "                sumvark = np.zeros((D,D))\n",
    "                for n in range(N):\n",
    "                    xmu = x[n, :] - self.means[k, :]\n",
    "                    sumvark += gamma[n, k]*(np.dot(np.transpose(xmu), xmu))\n",
    "                variances2[k, :, :] = sumvark / Nk[k]\n",
    "            print(variances2[0, :, :])\n",
    "            \n",
    "            print('Eq7')\n",
    "            # eq.(8)\n",
    "            self.pi_k = Nk / N\n",
    "            self.means = means2\n",
    "            self.variances = variances2\n",
    "            print('variances', self.variances)\n",
    "            print('Eq8')\n",
    "            l1 = self.compute_log_likelihood(x, self.means, self.variances, self.pi_k)\n",
    "            \n",
    "            # stop condition\n",
    "            if abs(l-l1) < self.e:\n",
    "                break\n",
    "            l = l1\n",
    "            \n",
    "        return itr\n",
    "        \n",
    "        # DONOT MODIFY CODE BELOW THIS LINE\n",
    "\n",
    "\n",
    "    def sample(self, N):\n",
    "        '''\n",
    "        sample from the GMM model\n",
    "\n",
    "        N is a positive integer\n",
    "        return : NXD array of samples\n",
    "\n",
    "        '''\n",
    "        assert type(N) == int and N > 0, 'N should be a positive integer'\n",
    "        np.random.seed(42)\n",
    "        if (self.means is None):\n",
    "            raise Exception('Train GMM before sampling')\n",
    "\n",
    "        # TODO\n",
    "        # - comment/remove the exception\n",
    "        # - generate samples from the GMM\n",
    "        # - return the samples\n",
    "\n",
    "        # DONOT MODIFY CODE ABOVE THIS LINE\n",
    "        #raise Exception('Implement sample function in gmm.py')\n",
    "        samples = np.zeros((N, self.means.shape[1]))\n",
    "        firstsa = np.random.choice(self.n_cluster, N, p=self.pi_k)\n",
    "        print('means', self.means.shape)\n",
    "        print('variance', self.variances.shape)\n",
    "        print('firstsa ',firstsa[0])\n",
    "        print('firstsa ', type(firstsa))\n",
    "        for n in range(N):\n",
    "            samples[n] = np.random.multivariate_normal(\n",
    "                self.means[firstsa[n]], \n",
    "                self.variances[firstsa[n]])\n",
    "        \n",
    "        \n",
    "        # DONOT MODIFY CODE BELOW THIS LINE\n",
    "        return samples        \n",
    "\n",
    "    def compute_log_likelihood(self, x, means=None, variances=None, pi_k=None):\n",
    "        '''\n",
    "            Return log-likelihood for the data\n",
    "\n",
    "            x is a NXD matrix\n",
    "            return : a float number which is the log-likelihood of data\n",
    "        '''\n",
    "        assert len(x.shape) == 2,  'x can only be 2 dimensional'\n",
    "        if means is None:\n",
    "            means = self.means\n",
    "        if variances is None:\n",
    "            variances = self.variances\n",
    "        if pi_k is None:\n",
    "            pi_k = self.pi_k    \n",
    "        # TODO\n",
    "        # - comment/remove the exception\n",
    "        # - calculate log-likelihood using means, variances and pi_k attr in self\n",
    "        # - return the log-likelihood (Float)\n",
    "        # Note: you can call this function in fit function (if required)\n",
    "        # DONOT MODIFY CODE ABOVE THIS LINE\n",
    "        #raise Exception('Implement compute_log_likelihood function in gmm.py')\n",
    "        N, D = x.shape\n",
    "        K = self.pi_k.shape[0]\n",
    "        log_likelihood = .0\n",
    "        #for n in range(3):\n",
    "        #for n in range(N):\n",
    "        #    lnk = .0\n",
    "        #    #print(lnk)\n",
    "        #    for k in range(K):\n",
    "        #        lnk += self.pi_k[k] * self.Gaussian_pdf(\n",
    "        #           self.means[k,:], self.variances[k,:]).getLikelihood(x[n,:])\n",
    "            #print(lnk)\n",
    "        #    log_likelihood += np.log(lnk)\n",
    "        log_likelihood = sum([np.log\n",
    "                              (sum(\n",
    "                                  [self.pi_k[k] * self.Gaussian_pdf(self.means[k,:], self.variances[k,:]).getLikelihood(x[n,:]) \n",
    "                                   for k in range(K)])) for n in range(N)])\n",
    "        log_likelihood = log_likelihood.tolist()\n",
    "        # DONOT MODIFY CODE BELOW THIS LINE\n",
    "        return log_likelihood\n",
    "\n",
    "    class Gaussian_pdf():\n",
    "        def __init__(self,mean,variance):\n",
    "            self.mean = mean\n",
    "            self.variance = variance\n",
    "            self.c = None\n",
    "            self.inv = None\n",
    "            '''\n",
    "                Input: \n",
    "                    Means: A 1 X D numpy array of the Gaussian mean\n",
    "                    Variance: A D X D numpy array of the Gaussian covariance matrix\n",
    "                Output: \n",
    "                    None: \n",
    "            '''\n",
    "            # TODO\n",
    "            # - comment/remove the exception\n",
    "            # - Set self.inv equal to the inverse the variance matrix (after ensuring it is full rank - see P4.pdf)\n",
    "            # - Set self.c equal to ((2pi)^D) * det(variance) (after ensuring the variance matrix is full rank)\n",
    "            # Note you can call this class in compute_log_likelihood and fit\n",
    "            # DONOT MODIFY CODE ABOVE THIS LINE\n",
    "            #raise Exception('Impliment Guassian_pdf __init__')\n",
    "            D = self.variance.shape[1] # self.variance\n",
    "            while np.linalg.matrix_rank(self.variance) != D: # self.variance\n",
    "                #print('inverse')\n",
    "                #print(self.variance)\n",
    "                self.variance += 1e-3 * np.identity(D) # self.variance\n",
    "            self.inv = np.linalg.inv(self.variance) # self.variance self.inv\n",
    "            self.c = np.abs(((2*np.pi)**D) * np.linalg.det(self.variance)) # self.c self.variance            \n",
    "            if self.c < 1e-100:\n",
    "                self.c = 1e-100\n",
    "            \n",
    "            # DONOT MODIFY CODE BELOW THIS LINE\n",
    "\n",
    "        def getLikelihood(self,x):\n",
    "            '''\n",
    "                Input: \n",
    "                    x: a 1 X D numpy array representing a sample\n",
    "                Output: \n",
    "                    p: a numpy float, the likelihood sample x was generated by this Gaussian\n",
    "                Hint: \n",
    "                    p = e^(-0.5(x-mean)*(inv(variance))*(x-mean)') / sqrt(c)\n",
    "                    where ' is transpose and * is matrix multiplication\n",
    "            '''\n",
    "            #TODO\n",
    "            # - Comment/remove the exception\n",
    "            # - Calculate the likelihood of sample x generated by this Gaussian\n",
    "            # Note: use the described implementation of a Gaussian to ensure compatibility with the solutions\n",
    "            # DONOT MODIFY CODE ABOVE THIS LINE\n",
    "            #raise Exception('Impliment Guassian_pdf getLikelihood')\n",
    "            p = np.exp(-0.5 * np.dot(np.dot((x - self.mean), self.inv),\n",
    "                                     np.transpose(x - self.mean))) / np.sqrt(self.c) # self.mean self.inv self.c\n",
    "            if np.abs(p) < 1e-200:\n",
    "                p = 1e-200\n",
    "            elif np.isinf(p):\n",
    "                p = np.exp(700)\n",
    "            # DONOT MODIFY CODE BELOW THIS LINE\n",
    "            return p"
   ]
  },
  {
   "cell_type": "markdown",
   "metadata": {},
   "source": [
    "## test"
   ]
  },
  {
   "cell_type": "code",
   "execution_count": 18,
   "metadata": {},
   "outputs": [
    {
     "name": "stdout",
     "output_type": "stream",
     "text": [
      "28.615624721270386\n"
     ]
    }
   ],
   "source": [
    "def f_nk(n, k):\n",
    "    return (n+2*np.exp(k))\n",
    "nn = np.array([1,2,3,2,1])\n",
    "kk = np.array([1, 5])\n",
    "log_lnk = .0\n",
    "for n in nn:\n",
    "    lnk = .0\n",
    "    for k in kk:\n",
    "        lnk += f_nk(n,k)\n",
    "    log_lnk += np.log(lnk)\n",
    "print(log_lnk)"
   ]
  },
  {
   "cell_type": "code",
   "execution_count": 3,
   "metadata": {},
   "outputs": [
    {
     "data": {
      "text/plain": [
       "[0, 1, 2, 3, 4]"
      ]
     },
     "execution_count": 3,
     "metadata": {},
     "output_type": "execute_result"
    }
   ],
   "source": [
    "[k for k in range(5)]"
   ]
  },
  {
   "cell_type": "code",
   "execution_count": 4,
   "metadata": {},
   "outputs": [
    {
     "data": {
      "text/plain": [
       "10"
      ]
     },
     "execution_count": 4,
     "metadata": {},
     "output_type": "execute_result"
    }
   ],
   "source": [
    "sum([k for k in range(5)])"
   ]
  },
  {
   "cell_type": "code",
   "execution_count": 5,
   "metadata": {},
   "outputs": [
    {
     "data": {
      "text/plain": [
       "28.615624721270386"
      ]
     },
     "execution_count": 5,
     "metadata": {},
     "output_type": "execute_result"
    }
   ],
   "source": [
    "sum([np.log(sum([f_nk(n, k) for k in kk])) for n in nn])"
   ]
  },
  {
   "cell_type": "code",
   "execution_count": 6,
   "metadata": {},
   "outputs": [
    {
     "data": {
      "text/plain": [
       "numpy.float64"
      ]
     },
     "execution_count": 6,
     "metadata": {},
     "output_type": "execute_result"
    }
   ],
   "source": [
    "a = sum([np.log(sum([f_nk(n, k) for k in kk])) for n in nn])\n",
    "type(a)"
   ]
  },
  {
   "cell_type": "code",
   "execution_count": 14,
   "metadata": {},
   "outputs": [
    {
     "data": {
      "text/plain": [
       "array([ 6.43656366, 16.7781122 , 43.17107385, 16.7781122 ,  6.43656366])"
      ]
     },
     "execution_count": 14,
     "metadata": {},
     "output_type": "execute_result"
    }
   ],
   "source": [
    "vfunc = np.vectorize(f_nk)\n",
    "vfunc(nn,nn)"
   ]
  },
  {
   "cell_type": "code",
   "execution_count": 13,
   "metadata": {},
   "outputs": [
    {
     "ename": "ValueError",
     "evalue": "invalid number of arguments",
     "output_type": "error",
     "traceback": [
      "\u001b[1;31m---------------------------------------------------------------------------\u001b[0m",
      "\u001b[1;31mValueError\u001b[0m                                Traceback (most recent call last)",
      "\u001b[1;32m<ipython-input-13-bd95f25263f6>\u001b[0m in \u001b[0;36m<module>\u001b[1;34m\u001b[0m\n\u001b[0;32m      1\u001b[0m \u001b[0mfrofunc\u001b[0m \u001b[1;33m=\u001b[0m \u001b[0mnp\u001b[0m\u001b[1;33m.\u001b[0m\u001b[0mfrompyfunc\u001b[0m\u001b[1;33m(\u001b[0m\u001b[0mf_nk\u001b[0m\u001b[1;33m,\u001b[0m \u001b[1;36m5\u001b[0m\u001b[1;33m,\u001b[0m\u001b[1;36m2\u001b[0m\u001b[1;33m)\u001b[0m\u001b[1;33m\u001b[0m\u001b[0m\n\u001b[1;32m----> 2\u001b[1;33m \u001b[0mfrofunc\u001b[0m\u001b[1;33m(\u001b[0m\u001b[0mnn\u001b[0m\u001b[1;33m,\u001b[0m \u001b[0mkk\u001b[0m\u001b[1;33m)\u001b[0m\u001b[1;33m\u001b[0m\u001b[0m\n\u001b[0m",
      "\u001b[1;31mValueError\u001b[0m: invalid number of arguments"
     ]
    }
   ],
   "source": [
    "frofunc = np.frompyfunc(f_nk, 5,2)\n",
    "frofunc(nn, kk)"
   ]
  },
  {
   "cell_type": "code",
   "execution_count": 5,
   "metadata": {},
   "outputs": [
    {
     "data": {
      "text/plain": [
       "array([0., 1., 0., 0.])"
      ]
     },
     "execution_count": 5,
     "metadata": {},
     "output_type": "execute_result"
    }
   ],
   "source": [
    "np.array([0.000e+000, 2.902e-320, 0.000e+000, 0.000e+000])/2.902e-320"
   ]
  },
  {
   "cell_type": "code",
   "execution_count": 6,
   "metadata": {},
   "outputs": [
    {
     "name": "stderr",
     "output_type": "stream",
     "text": [
      "C:\\Users\\Takato\\Anaconda3\\lib\\site-packages\\ipykernel_launcher.py:2: RuntimeWarning: divide by zero encountered in log\n",
      "  \n"
     ]
    },
    {
     "data": {
      "text/plain": [
       "array([         -inf, -735.76178081,          -inf,          -inf])"
      ]
     },
     "execution_count": 6,
     "metadata": {},
     "output_type": "execute_result"
    }
   ],
   "source": [
    "bb = np.array([0.000e+000, 2.902e-320, 0.000e+000, 0.000e+000])\n"
   ]
  },
  {
   "cell_type": "code",
   "execution_count": 18,
   "metadata": {},
   "outputs": [
    {
     "data": {
      "text/plain": [
       "1e-323"
      ]
     },
     "execution_count": 18,
     "metadata": {},
     "output_type": "execute_result"
    }
   ],
   "source": [
    "1e-323"
   ]
  },
  {
   "cell_type": "code",
   "execution_count": 19,
   "metadata": {},
   "outputs": [
    {
     "data": {
      "text/plain": [
       "0.0"
      ]
     },
     "execution_count": 19,
     "metadata": {},
     "output_type": "execute_result"
    }
   ],
   "source": [
    "1e-324"
   ]
  },
  {
   "cell_type": "code",
   "execution_count": 6,
   "metadata": {},
   "outputs": [
    {
     "data": {
      "text/plain": [
       "numpy.float64"
      ]
     },
     "execution_count": 6,
     "metadata": {},
     "output_type": "execute_result"
    }
   ],
   "source": [
    "type(ll)"
   ]
  },
  {
   "cell_type": "code",
   "execution_count": 10,
   "metadata": {},
   "outputs": [
    {
     "data": {
      "text/plain": [
       "float"
      ]
     },
     "execution_count": 10,
     "metadata": {},
     "output_type": "execute_result"
    }
   ],
   "source": [
    "type(ll.tolist())"
   ]
  },
  {
   "cell_type": "code",
   "execution_count": 7,
   "metadata": {},
   "outputs": [
    {
     "data": {
      "image/png": "[encoded data removed]",
      "text/plain": [
       "<Figure size 432x288 with 1 Axes>"
      ]
     },
     "metadata": {
      "needs_background": "light"
     },
     "output_type": "display_data"
    }
   ],
   "source": [
    "%matplotlib inline\n",
    "mean = [0, 0]\n",
    "cov = [[1, 0], [0, 100]] \n",
    "\n",
    "import matplotlib.pyplot as plt\n",
    "x, y = np.random.multivariate_normal(mean, cov, 1000).T\n",
    "plt.plot(x, y, 'x')\n",
    "plt.axis('equal')\n",
    "plt.show()"
   ]
  },
  {
   "cell_type": "code",
   "execution_count": 8,
   "metadata": {},
   "outputs": [
    {
     "data": {
      "text/plain": [
       "array([3, 2, 3], dtype=int64)"
      ]
     },
     "execution_count": 8,
     "metadata": {},
     "output_type": "execute_result"
    }
   ],
   "source": [
    "np.random.choice(5, 3, p=[0.1, 0, 0.3, 0.6, 0])"
   ]
  },
  {
   "cell_type": "code",
   "execution_count": 10,
   "metadata": {},
   "outputs": [
    {
     "data": {
      "text/plain": [
       "array([0, 2, 3, 0, 1, 2, 0, 0, 3, 0, 3, 1, 3, 2, 0, 1, 3, 3, 3, 1])"
      ]
     },
     "execution_count": 10,
     "metadata": {},
     "output_type": "execute_result"
    }
   ],
   "source": [
    "np.random.choice(4, 20)"
   ]
  },
  {
   "cell_type": "code",
   "execution_count": 13,
   "metadata": {},
   "outputs": [
    {
     "data": {
      "text/plain": [
       "array([[0.83785379],\n",
       "       [9.19560547]])"
      ]
     },
     "execution_count": 13,
     "metadata": {},
     "output_type": "execute_result"
    }
   ],
   "source": [
    "np.random.multivariate_normal(mean, cov, 1).T"
   ]
  },
  {
   "cell_type": "code",
   "execution_count": 5,
   "metadata": {},
   "outputs": [
    {
     "name": "stderr",
     "output_type": "stream",
     "text": [
      "C:\\Users\\Takato\\Anaconda3\\lib\\site-packages\\ipykernel_launcher.py:3: RuntimeWarning: covariance is not symmetric positive-semidefinite.\n",
      "  This is separate from the ipykernel package so we can avoid doing imports until\n"
     ]
    },
    {
     "data": {
      "text/plain": [
       "array([[ 0.59145171, -6.14549855, -1.37112586]])"
      ]
     },
     "execution_count": 5,
     "metadata": {},
     "output_type": "execute_result"
    }
   ],
   "source": [
    "mean2 = [0.1, -0.1, 0]\n",
    "cov2 = [[1.1, 0,0.1], [0, 100.6,0], [0, 0.6, 10]] \n",
    "np.random.multivariate_normal(mean2, cov2, 1)"
   ]
  },
  {
   "cell_type": "code",
   "execution_count": 6,
   "metadata": {},
   "outputs": [
    {
     "name": "stderr",
     "output_type": "stream",
     "text": [
      "C:\\Users\\Takato\\Anaconda3\\lib\\site-packages\\ipykernel_launcher.py:1: RuntimeWarning: covariance is not symmetric positive-semidefinite.\n",
      "  \"\"\"Entry point for launching an IPython kernel.\n"
     ]
    },
    {
     "data": {
      "text/plain": [
       "array([-0.01355634, -7.19886701,  2.24800598])"
      ]
     },
     "execution_count": 6,
     "metadata": {},
     "output_type": "execute_result"
    }
   ],
   "source": [
    "np.random.multivariate_normal(mean2, cov2)"
   ]
  },
  {
   "cell_type": "code",
   "execution_count": 14,
   "metadata": {},
   "outputs": [],
   "source": [
    "ccc=np.array(range(27)).reshape((3,3,3))"
   ]
  },
  {
   "cell_type": "code",
   "execution_count": 16,
   "metadata": {},
   "outputs": [
    {
     "data": {
      "text/plain": [
       "array([[0, 1, 2],\n",
       "       [3, 4, 5],\n",
       "       [6, 7, 8]])"
      ]
     },
     "execution_count": 16,
     "metadata": {},
     "output_type": "execute_result"
    }
   ],
   "source": [
    "ccc[0]"
   ]
  },
  {
   "cell_type": "code",
   "execution_count": 6,
   "metadata": {},
   "outputs": [
    {
     "data": {
      "text/plain": [
       "array([[1., 0., 0.],\n",
       "       [0., 1., 0.],\n",
       "       [0., 0., 1.]])"
      ]
     },
     "execution_count": 6,
     "metadata": {},
     "output_type": "execute_result"
    }
   ],
   "source": []
  },
  {
   "cell_type": "code",
   "execution_count": null,
   "metadata": {},
   "outputs": [
    {
     "name": "stdout",
     "output_type": "stream",
     "text": [
      "Iteration, 0\n",
      "min gamma [4.15294554e-245 3.32235643e-245 4.98353465e-245 5.26039768e-245\n",
      " 4.98353465e-245 4.98353465e-245 4.70667161e-245 6.64471286e-245\n",
      " 5.39882920e-245 9.41334322e-245 1.59196246e-244 1.00000000e+000\n",
      " 4.70667161e-245 4.01451402e-245 2.90706188e-245 1.93804125e-245\n",
      " 5.81412376e-245 1.55510147e-236 8.02902804e-245 6.92157590e-245\n",
      " 4.56824009e-245 7.19843894e-245 5.67569224e-245 3.46078795e-245\n",
      " 1.62772316e-191 5.12196617e-245 6.45139463e-102 2.76863036e-245\n",
      " 5.12196617e-245 1.49506039e-244]\n",
      "Estep\n",
      "means [0.00000000e+000 3.74921430e-230 1.40815348e-084 1.93750000e-001\n",
      " 8.43750000e-001 2.16666667e-001 4.16666667e-003 3.90668607e-143\n",
      " 2.77154668e-242 3.81366871e-229 2.50000000e-002 6.83333333e-001\n",
      " 8.83333333e-001 1.91666667e-001 7.91666667e-002 3.75000000e-002\n",
      " 2.54664865e-242 2.08333333e-003 3.66666667e-001 9.43750000e-001\n",
      " 6.31250000e-001 3.62500000e-001 1.93750000e-001 3.33333333e-002\n",
      " 6.59977419e-241 1.70833333e-001 8.62500000e-001 6.16666667e-001\n",
      " 6.35416667e-001 5.31250000e-001 2.41666667e-001 2.08333333e-003\n",
      " 0.00000000e+000 5.02083333e-001 9.79166667e-001 7.66666667e-001\n",
      " 9.31250000e-001 8.60416667e-001 3.62500000e-001 0.00000000e+000\n",
      " 7.56266901e-051 3.00000000e-001 6.16666667e-001 6.97916667e-001\n",
      " 8.83333333e-001 8.14583333e-001 2.02083333e-001 2.29760430e-245\n",
      " 1.73946708e-175 2.08333333e-002 5.00000000e-002 2.16666667e-001\n",
      " 8.60416667e-001 4.02083333e-001 6.25000000e-003 1.58468363e-227\n",
      " 3.06023203e-248 8.87461637e-228 1.48074076e-071 2.14583333e-001\n",
      " 8.72916667e-001 2.04166667e-001 1.81895534e-130 5.45559636e-230]\n",
      "Eq6\n",
      "[[2.09911458 2.09911458 2.09911458 ... 2.09911458 2.09911458 2.09911458]\n",
      " [2.09911458 2.09911458 2.09911458 ... 2.09911458 2.09911458 2.09911458]\n",
      " [2.09911458 2.09911458 2.09911458 ... 2.09911458 2.09911458 2.09911458]\n",
      " ...\n",
      " [2.09911458 2.09911458 2.09911458 ... 2.09911458 2.09911458 2.09911458]\n",
      " [2.09911458 2.09911458 2.09911458 ... 2.09911458 2.09911458 2.09911458]\n",
      " [2.09911458 2.09911458 2.09911458 ... 2.09911458 2.09911458 2.09911458]]\n",
      "Eq7\n",
      "variances [[[2.09911458 2.09911458 2.09911458 ... 2.09911458 2.09911458 2.09911458]\n",
      "  [2.09911458 2.09911458 2.09911458 ... 2.09911458 2.09911458 2.09911458]\n",
      "  [2.09911458 2.09911458 2.09911458 ... 2.09911458 2.09911458 2.09911458]\n",
      "  ...\n",
      "  [2.09911458 2.09911458 2.09911458 ... 2.09911458 2.09911458 2.09911458]\n",
      "  [2.09911458 2.09911458 2.09911458 ... 2.09911458 2.09911458 2.09911458]\n",
      "  [2.09911458 2.09911458 2.09911458 ... 2.09911458 2.09911458 2.09911458]]\n",
      "\n",
      " [[2.03915744 2.03915744 2.03915744 ... 2.03915744 2.03915744 2.03915744]\n",
      "  [2.03915744 2.03915744 2.03915744 ... 2.03915744 2.03915744 2.03915744]\n",
      "  [2.03915744 2.03915744 2.03915744 ... 2.03915744 2.03915744 2.03915744]\n",
      "  ...\n",
      "  [2.03915744 2.03915744 2.03915744 ... 2.03915744 2.03915744 2.03915744]\n",
      "  [2.03915744 2.03915744 2.03915744 ... 2.03915744 2.03915744 2.03915744]\n",
      "  [2.03915744 2.03915744 2.03915744 ... 2.03915744 2.03915744 2.03915744]]\n",
      "\n",
      " [[1.6355312  1.6355312  1.6355312  ... 1.6355312  1.6355312  1.6355312 ]\n",
      "  [1.6355312  1.6355312  1.6355312  ... 1.6355312  1.6355312  1.6355312 ]\n",
      "  [1.6355312  1.6355312  1.6355312  ... 1.6355312  1.6355312  1.6355312 ]\n",
      "  ...\n",
      "  [1.6355312  1.6355312  1.6355312  ... 1.6355312  1.6355312  1.6355312 ]\n",
      "  [1.6355312  1.6355312  1.6355312  ... 1.6355312  1.6355312  1.6355312 ]\n",
      "  [1.6355312  1.6355312  1.6355312  ... 1.6355312  1.6355312  1.6355312 ]]\n",
      "\n",
      " ...\n",
      "\n",
      " [[1.43914063 1.43914063 1.43914063 ... 1.43914063 1.43914063 1.43914063]\n",
      "  [1.43914063 1.43914063 1.43914063 ... 1.43914063 1.43914063 1.43914063]\n",
      "  [1.43914063 1.43914063 1.43914063 ... 1.43914063 1.43914063 1.43914063]\n",
      "  ...\n",
      "  [1.43914063 1.43914063 1.43914063 ... 1.43914063 1.43914063 1.43914063]\n",
      "  [1.43914063 1.43914063 1.43914063 ... 1.43914063 1.43914063 1.43914063]\n",
      "  [1.43914063 1.43914063 1.43914063 ... 1.43914063 1.43914063 1.43914063]]\n",
      "\n",
      " [[1.74766595 1.74766595 1.74766595 ... 1.74766595 1.74766595 1.74766595]\n",
      "  [1.74766595 1.74766595 1.74766595 ... 1.74766595 1.74766595 1.74766595]\n",
      "  [1.74766595 1.74766595 1.74766595 ... 1.74766595 1.74766595 1.74766595]\n",
      "  ...\n",
      "  [1.74766595 1.74766595 1.74766595 ... 1.74766595 1.74766595 1.74766595]\n",
      "  [1.74766595 1.74766595 1.74766595 ... 1.74766595 1.74766595 1.74766595]\n",
      "  [1.74766595 1.74766595 1.74766595 ... 1.74766595 1.74766595 1.74766595]]\n",
      "\n",
      " [[2.2551354  2.2551354  2.2551354  ... 2.2551354  2.2551354  2.2551354 ]\n",
      "  [2.2551354  2.2551354  2.2551354  ... 2.2551354  2.2551354  2.2551354 ]\n",
      "  [2.2551354  2.2551354  2.2551354  ... 2.2551354  2.2551354  2.2551354 ]\n",
      "  ...\n",
      "  [2.2551354  2.2551354  2.2551354  ... 2.2551354  2.2551354  2.2551354 ]\n",
      "  [2.2551354  2.2551354  2.2551354  ... 2.2551354  2.2551354  2.2551354 ]\n",
      "  [2.2551354  2.2551354  2.2551354  ... 2.2551354  2.2551354  2.2551354 ]]]\n",
      "Eq8\n",
      "Iteration, 1\n",
      "min gamma [0.02227171 0.01781737 0.02672606 0.02821084 0.02672606 0.02672606\n",
      " 0.02524128 0.03563502 0.02895323 0.05124342 0.08537491 0.02078693\n",
      " 0.02524128 0.02152932 0.0155902  0.01039347 0.0311804  0.04528582\n",
      " 0.04305865 0.03709268 0.02449889 0.03860431 0.03043801 0.01855976\n",
      " 0.04231626 0.02746845 0.07126921 0.01484781 0.02746845 0.07944415]\n",
      "Estep\n",
      "means [0.00000000e+00 1.87517445e-02 2.97393580e-01 6.63767146e-01\n",
      " 7.52041028e-01 3.59752382e-01 8.81874819e-02 9.62890430e-03\n",
      " 4.30342092e-04 1.17978406e-01 5.72353029e-01 7.30127192e-01\n",
      " 6.63754107e-01 5.11444338e-01 1.24363150e-01 8.55304907e-03\n",
      " 2.68963807e-04 1.44233522e-01 5.61714953e-01 4.90424924e-01\n",
      " 4.97545282e-01 5.06395017e-01 1.12920099e-01 3.71170054e-03\n",
      " 1.07585523e-04 1.35755473e-01 5.78542274e-01 5.61929947e-01\n",
      " 6.59598792e-01 5.11960017e-01 1.35232237e-01 1.61378284e-04\n",
      " 0.00000000e+00 1.51301206e-01 5.15212790e-01 5.79021326e-01\n",
      " 6.83239257e-01 5.90062777e-01 1.85719451e-01 0.00000000e+00\n",
      " 8.06891422e-04 1.17139207e-01 4.32165530e-01 4.87546017e-01\n",
      " 5.53271637e-01 5.56302898e-01 2.03589541e-01 1.61378284e-03\n",
      " 6.45513138e-04 4.25646266e-02 3.94604500e-01 5.16693063e-01\n",
      " 6.25714350e-01 5.16961812e-01 2.01900539e-01 1.14040654e-02\n",
      " 5.37927615e-05 1.63958006e-02 3.16998319e-01 6.74220055e-01\n",
      " 7.43468874e-01 4.02667955e-01 1.15546822e-01 2.02260783e-02]\n",
      "Eq6\n",
      "[[7.45494436 7.45494436 7.45494436 ... 7.45494436 7.45494436 7.45494436]\n",
      " [7.45494436 7.45494436 7.45494436 ... 7.45494436 7.45494436 7.45494436]\n",
      " [7.45494436 7.45494436 7.45494436 ... 7.45494436 7.45494436 7.45494436]\n",
      " ...\n",
      " [7.45494436 7.45494436 7.45494436 ... 7.45494436 7.45494436 7.45494436]\n",
      " [7.45494436 7.45494436 7.45494436 ... 7.45494436 7.45494436 7.45494436]\n",
      " [7.45494436 7.45494436 7.45494436 ... 7.45494436 7.45494436 7.45494436]]\n",
      "Eq7\n",
      "variances [[[7.45494436 7.45494436 7.45494436 ... 7.45494436 7.45494436 7.45494436]\n",
      "  [7.45494436 7.45494436 7.45494436 ... 7.45494436 7.45494436 7.45494436]\n",
      "  [7.45494436 7.45494436 7.45494436 ... 7.45494436 7.45494436 7.45494436]\n",
      "  ...\n",
      "  [7.45494436 7.45494436 7.45494436 ... 7.45494436 7.45494436 7.45494436]\n",
      "  [7.45494436 7.45494436 7.45494436 ... 7.45494436 7.45494436 7.45494436]\n",
      "  [7.45494436 7.45494436 7.45494436 ... 7.45494436 7.45494436 7.45494436]]\n",
      "\n",
      " [[5.82703309 5.82703309 5.82703309 ... 5.82703309 5.82703309 5.82703309]\n",
      "  [5.82703309 5.82703309 5.82703309 ... 5.82703309 5.82703309 5.82703309]\n",
      "  [5.82703309 5.82703309 5.82703309 ... 5.82703309 5.82703309 5.82703309]\n",
      "  ...\n",
      "  [5.82703309 5.82703309 5.82703309 ... 5.82703309 5.82703309 5.82703309]\n",
      "  [5.82703309 5.82703309 5.82703309 ... 5.82703309 5.82703309 5.82703309]\n",
      "  [5.82703309 5.82703309 5.82703309 ... 5.82703309 5.82703309 5.82703309]]\n",
      "\n",
      " [[7.16215584 7.16215584 7.16215584 ... 7.16215584 7.16215584 7.16215584]\n",
      "  [7.16215584 7.16215584 7.16215584 ... 7.16215584 7.16215584 7.16215584]\n",
      "  [7.16215584 7.16215584 7.16215584 ... 7.16215584 7.16215584 7.16215584]\n",
      "  ...\n",
      "  [7.16215584 7.16215584 7.16215584 ... 7.16215584 7.16215584 7.16215584]\n",
      "  [7.16215584 7.16215584 7.16215584 ... 7.16215584 7.16215584 7.16215584]\n",
      "  [7.16215584 7.16215584 7.16215584 ... 7.16215584 7.16215584 7.16215584]]\n",
      "\n",
      " ...\n",
      "\n",
      " [[6.22712283 6.22712283 6.22712283 ... 6.22712283 6.22712283 6.22712283]\n",
      "  [6.22712283 6.22712283 6.22712283 ... 6.22712283 6.22712283 6.22712283]\n",
      "  [6.22712283 6.22712283 6.22712283 ... 6.22712283 6.22712283 6.22712283]\n",
      "  ...\n",
      "  [6.22712283 6.22712283 6.22712283 ... 6.22712283 6.22712283 6.22712283]\n",
      "  [6.22712283 6.22712283 6.22712283 ... 6.22712283 6.22712283 6.22712283]\n",
      "  [6.22712283 6.22712283 6.22712283 ... 6.22712283 6.22712283 6.22712283]]\n",
      "\n",
      " [[5.4197216  5.4197216  5.4197216  ... 5.4197216  5.4197216  5.4197216 ]\n",
      "  [5.4197216  5.4197216  5.4197216  ... 5.4197216  5.4197216  5.4197216 ]\n",
      "  [5.4197216  5.4197216  5.4197216  ... 5.4197216  5.4197216  5.4197216 ]\n",
      "  ...\n",
      "  [5.4197216  5.4197216  5.4197216  ... 5.4197216  5.4197216  5.4197216 ]\n",
      "  [5.4197216  5.4197216  5.4197216  ... 5.4197216  5.4197216  5.4197216 ]\n",
      "  [5.4197216  5.4197216  5.4197216  ... 5.4197216  5.4197216  5.4197216 ]]\n",
      "\n",
      " [[6.23862504 6.23862504 6.23862504 ... 6.23862504 6.23862504 6.23862504]\n",
      "  [6.23862504 6.23862504 6.23862504 ... 6.23862504 6.23862504 6.23862504]\n",
      "  [6.23862504 6.23862504 6.23862504 ... 6.23862504 6.23862504 6.23862504]\n",
      "  ...\n",
      "  [6.23862504 6.23862504 6.23862504 ... 6.23862504 6.23862504 6.23862504]\n",
      "  [6.23862504 6.23862504 6.23862504 ... 6.23862504 6.23862504 6.23862504]\n",
      "  [6.23862504 6.23862504 6.23862504 ... 6.23862504 6.23862504 6.23862504]]]\n",
      "Eq8\n"
     ]
    },
    {
     "name": "stdout",
     "output_type": "stream",
     "text": [
      "Iteration, 2\n",
      "min gamma [0.01921066 0.0180373  0.02780409 0.03264827 0.02260736 0.02186222\n",
      " 0.02221751 0.0318049  0.04435025 0.0472424  0.11169958 0.01675842\n",
      " 0.02073273 0.02309814 0.01856996 0.00866802 0.03335943 0.03750265\n",
      " 0.05356523 0.0370133  0.0210607  0.03686195 0.03286184 0.01415291\n",
      " 0.04043491 0.03282454 0.06154979 0.01800384 0.02762781 0.06586929]\n",
      "Estep\n",
      "means [0.00000000e+00 1.95341500e-02 3.26837416e-01 7.38817743e-01\n",
      " 7.40627320e-01 3.63307350e-01 8.46789161e-02 8.30549369e-03\n",
      " 3.71195249e-04 1.24628805e-01 6.42306978e-01 7.49211210e-01\n",
      " 6.50287676e-01 5.17167780e-01 1.17483296e-01 7.37750557e-03\n",
      " 2.31997030e-04 1.58871566e-01 6.07785820e-01 4.46223088e-01\n",
      " 4.49703044e-01 4.95313660e-01 1.13724944e-01 3.20155902e-03\n",
      " 9.27988122e-05 1.44858946e-01 5.57442465e-01 5.56236080e-01\n",
      " 6.20545657e-01 4.72485152e-01 1.47410913e-01 1.39198218e-04\n",
      " 0.00000000e+00 1.39151819e-01 4.71649963e-01 5.71315887e-01\n",
      " 6.45230141e-01 5.38836303e-01 1.79380104e-01 0.00000000e+00\n",
      " 6.95991091e-04 9.61859688e-02 4.29612101e-01 4.59586117e-01\n",
      " 4.80280252e-01 5.13919822e-01 2.14550854e-01 1.94877506e-03\n",
      " 5.56792873e-04 4.44042316e-02 4.72717149e-01 6.04445063e-01\n",
      " 5.90339644e-01 5.53730512e-01 2.34920193e-01 1.30846325e-02\n",
      " 4.63994061e-05 1.71213808e-02 3.48413140e-01 7.53758352e-01\n",
      " 7.39188938e-01 4.26085746e-01 1.32238307e-01 2.38028953e-02]\n",
      "Eq6\n",
      "[[4.76686586 4.76686586 4.76686586 ... 4.76686586 4.76686586 4.76686586]\n",
      " [4.76686586 4.76686586 4.76686586 ... 4.76686586 4.76686586 4.76686586]\n",
      " [4.76686586 4.76686586 4.76686586 ... 4.76686586 4.76686586 4.76686586]\n",
      " ...\n",
      " [4.76686586 4.76686586 4.76686586 ... 4.76686586 4.76686586 4.76686586]\n",
      " [4.76686586 4.76686586 4.76686586 ... 4.76686586 4.76686586 4.76686586]\n",
      " [4.76686586 4.76686586 4.76686586 ... 4.76686586 4.76686586 4.76686586]]\n",
      "Eq7\n",
      "variances [[[4.76686586 4.76686586 4.76686586 ... 4.76686586 4.76686586 4.76686586]\n",
      "  [4.76686586 4.76686586 4.76686586 ... 4.76686586 4.76686586 4.76686586]\n",
      "  [4.76686586 4.76686586 4.76686586 ... 4.76686586 4.76686586 4.76686586]\n",
      "  ...\n",
      "  [4.76686586 4.76686586 4.76686586 ... 4.76686586 4.76686586 4.76686586]\n",
      "  [4.76686586 4.76686586 4.76686586 ... 4.76686586 4.76686586 4.76686586]\n",
      "  [4.76686586 4.76686586 4.76686586 ... 4.76686586 4.76686586 4.76686586]]\n",
      "\n",
      " [[4.89087827 4.89087827 4.89087827 ... 4.89087827 4.89087827 4.89087827]\n",
      "  [4.89087827 4.89087827 4.89087827 ... 4.89087827 4.89087827 4.89087827]\n",
      "  [4.89087827 4.89087827 4.89087827 ... 4.89087827 4.89087827 4.89087827]\n",
      "  ...\n",
      "  [4.89087827 4.89087827 4.89087827 ... 4.89087827 4.89087827 4.89087827]\n",
      "  [4.89087827 4.89087827 4.89087827 ... 4.89087827 4.89087827 4.89087827]\n",
      "  [4.89087827 4.89087827 4.89087827 ... 4.89087827 4.89087827 4.89087827]]\n",
      "\n",
      " [[5.05210557 5.05210557 5.05210557 ... 5.05210557 5.05210557 5.05210557]\n",
      "  [5.05210557 5.05210557 5.05210557 ... 5.05210557 5.05210557 5.05210557]\n",
      "  [5.05210557 5.05210557 5.05210557 ... 5.05210557 5.05210557 5.05210557]\n",
      "  ...\n",
      "  [5.05210557 5.05210557 5.05210557 ... 5.05210557 5.05210557 5.05210557]\n",
      "  [5.05210557 5.05210557 5.05210557 ... 5.05210557 5.05210557 5.05210557]\n",
      "  [5.05210557 5.05210557 5.05210557 ... 5.05210557 5.05210557 5.05210557]]\n",
      "\n",
      " ...\n",
      "\n",
      " [[5.38971651 5.38971651 5.38971651 ... 5.38971651 5.38971651 5.38971651]\n",
      "  [5.38971651 5.38971651 5.38971651 ... 5.38971651 5.38971651 5.38971651]\n",
      "  [5.38971651 5.38971651 5.38971651 ... 5.38971651 5.38971651 5.38971651]\n",
      "  ...\n",
      "  [5.38971651 5.38971651 5.38971651 ... 5.38971651 5.38971651 5.38971651]\n",
      "  [5.38971651 5.38971651 5.38971651 ... 5.38971651 5.38971651 5.38971651]\n",
      "  [5.38971651 5.38971651 5.38971651 ... 5.38971651 5.38971651 5.38971651]]\n",
      "\n",
      " [[4.87736165 4.87736165 4.87736165 ... 4.87736165 4.87736165 4.87736165]\n",
      "  [4.87736165 4.87736165 4.87736165 ... 4.87736165 4.87736165 4.87736165]\n",
      "  [4.87736165 4.87736165 4.87736165 ... 4.87736165 4.87736165 4.87736165]\n",
      "  ...\n",
      "  [4.87736165 4.87736165 4.87736165 ... 4.87736165 4.87736165 4.87736165]\n",
      "  [4.87736165 4.87736165 4.87736165 ... 4.87736165 4.87736165 4.87736165]\n",
      "  [4.87736165 4.87736165 4.87736165 ... 4.87736165 4.87736165 4.87736165]]\n",
      "\n",
      " [[4.74552202 4.74552202 4.74552202 ... 4.74552202 4.74552202 4.74552202]\n",
      "  [4.74552202 4.74552202 4.74552202 ... 4.74552202 4.74552202 4.74552202]\n",
      "  [4.74552202 4.74552202 4.74552202 ... 4.74552202 4.74552202 4.74552202]\n",
      "  ...\n",
      "  [4.74552202 4.74552202 4.74552202 ... 4.74552202 4.74552202 4.74552202]\n",
      "  [4.74552202 4.74552202 4.74552202 ... 4.74552202 4.74552202 4.74552202]\n",
      "  [4.74552202 4.74552202 4.74552202 ... 4.74552202 4.74552202 4.74552202]]]\n",
      "Eq8\n",
      "GMM for digits dataset with k_means init converged in 2 iterations. Final log-likelihood of data: -620316.4240525936\n",
      "means (30, 64)\n",
      "variance (30, 64, 64)\n",
      "firstsa  10\n",
      "firstsa  <class 'numpy.ndarray'>\n",
      "Iteration, 0\n"
     ]
    },
    {
     "name": "stderr",
     "output_type": "stream",
     "text": [
      "C:\\Users\\Takato\\Anaconda3\\lib\\site-packages\\ipykernel_launcher.py:135: RuntimeWarning: invalid value encountered in true_divide\n"
     ]
    },
    {
     "name": "stdout",
     "output_type": "stream",
     "text": [
      "min gamma [1.16456570e-37 1.13340474e-39 1.46647548e-42 7.35225006e-34\n",
      " 1.46440356e-36 4.62495741e-39 5.79550647e-38 6.50590420e-38\n",
      " 1.78762570e-39 4.79700250e-38 9.90413469e-39 4.65466988e-39\n",
      " 8.06745304e-40 2.36717089e-38 2.78110554e-38 1.90353911e-34\n",
      " 2.43408991e-96 1.98338673e-39 1.55019653e-37 8.15765072e-40\n",
      " 9.61124327e-40 1.00000000e+00 5.30138657e-37 5.15574250e-38\n",
      " 2.04351440e-40 1.39462653e-33 9.52550833e-38 4.45783773e-35\n",
      " 1.30621063e-38 3.98390823e-47]\n",
      "Estep\n",
      "means [0.00000000e+000 4.47782490e-002 3.62886354e-001 5.58950709e-001\n",
      " 7.39323908e-001 7.36080455e-001 2.80720975e-001 7.40618837e-003\n",
      " 2.97055242e-018 1.79620383e-001 6.31964901e-001 8.18528618e-001\n",
      " 5.98272950e-001 5.02711066e-001 2.57480060e-001 9.81469009e-004\n",
      " 3.30112405e-014 2.04274888e-001 8.90049417e-001 3.78917931e-001\n",
      " 3.36386836e-001 5.22163673e-001 1.69029608e-001 1.00345094e-003\n",
      " 1.64615811e-014 8.09110479e-002 8.45354587e-001 8.33170930e-001\n",
      " 4.43925654e-001 5.41907645e-001 9.71580733e-002 1.33005965e-015\n",
      " 0.00000000e+000 1.32712945e-002 3.04087261e-001 4.97454183e-001\n",
      " 1.63227875e-001 5.05405660e-001 5.20638955e-003 0.00000000e+000\n",
      " 1.53584866e-008 8.35780947e-003 4.88816270e-002 3.68236105e-001\n",
      " 3.81410736e-001 4.65139948e-001 8.15568375e-003 1.14560970e-005\n",
      " 1.45447775e-041 1.35689109e-001 3.88596622e-001 5.84060884e-001\n",
      " 5.35706916e-001 3.82536872e-001 2.42041503e-002 1.18073768e-003\n",
      " 7.53191744e-190 6.08380049e-002 3.98171835e-001 5.77329114e-001\n",
      " 5.09942414e-001 2.74635193e-001 1.01817781e-002 1.81689252e-003]\n",
      "Eq6\n",
      "[[16.76175035 16.76175035 16.76175035 ... 16.76175035 16.76175035\n",
      "  16.76175035]\n",
      " [16.76175035 16.76175035 16.76175035 ... 16.76175035 16.76175035\n",
      "  16.76175035]\n",
      " [16.76175035 16.76175035 16.76175035 ... 16.76175035 16.76175035\n",
      "  16.76175035]\n",
      " ...\n",
      " [16.76175035 16.76175035 16.76175035 ... 16.76175035 16.76175035\n",
      "  16.76175035]\n",
      " [16.76175035 16.76175035 16.76175035 ... 16.76175035 16.76175035\n",
      "  16.76175035]\n",
      " [16.76175035 16.76175035 16.76175035 ... 16.76175035 16.76175035\n",
      "  16.76175035]]\n",
      "Eq7\n",
      "variances [[[16.76175035 16.76175035 16.76175035 ... 16.76175035 16.76175035\n",
      "   16.76175035]\n",
      "  [16.76175035 16.76175035 16.76175035 ... 16.76175035 16.76175035\n",
      "   16.76175035]\n",
      "  [16.76175035 16.76175035 16.76175035 ... 16.76175035 16.76175035\n",
      "   16.76175035]\n",
      "  ...\n",
      "  [16.76175035 16.76175035 16.76175035 ... 16.76175035 16.76175035\n",
      "   16.76175035]\n",
      "  [16.76175035 16.76175035 16.76175035 ... 16.76175035 16.76175035\n",
      "   16.76175035]\n",
      "  [16.76175035 16.76175035 16.76175035 ... 16.76175035 16.76175035\n",
      "   16.76175035]]\n",
      "\n",
      " [[17.92715447 17.92715447 17.92715447 ... 17.92715447 17.92715447\n",
      "   17.92715447]\n",
      "  [17.92715447 17.92715447 17.92715447 ... 17.92715447 17.92715447\n",
      "   17.92715447]\n",
      "  [17.92715447 17.92715447 17.92715447 ... 17.92715447 17.92715447\n",
      "   17.92715447]\n",
      "  ...\n",
      "  [17.92715447 17.92715447 17.92715447 ... 17.92715447 17.92715447\n",
      "   17.92715447]\n",
      "  [17.92715447 17.92715447 17.92715447 ... 17.92715447 17.92715447\n",
      "   17.92715447]\n",
      "  [17.92715447 17.92715447 17.92715447 ... 17.92715447 17.92715447\n",
      "   17.92715447]]\n",
      "\n",
      " [[14.93487907 14.93487907 14.93487907 ... 14.93487907 14.93487907\n",
      "   14.93487907]\n",
      "  [14.93487907 14.93487907 14.93487907 ... 14.93487907 14.93487907\n",
      "   14.93487907]\n",
      "  [14.93487907 14.93487907 14.93487907 ... 14.93487907 14.93487907\n",
      "   14.93487907]\n",
      "  ...\n",
      "  [14.93487907 14.93487907 14.93487907 ... 14.93487907 14.93487907\n",
      "   14.93487907]\n",
      "  [14.93487907 14.93487907 14.93487907 ... 14.93487907 14.93487907\n",
      "   14.93487907]\n",
      "  [14.93487907 14.93487907 14.93487907 ... 14.93487907 14.93487907\n",
      "   14.93487907]]\n",
      "\n",
      " ...\n",
      "\n",
      " [[16.78991544 16.78991544 16.78991544 ... 16.78991544 16.78991544\n",
      "   16.78991544]\n",
      "  [16.78991544 16.78991544 16.78991544 ... 16.78991544 16.78991544\n",
      "   16.78991544]\n",
      "  [16.78991544 16.78991544 16.78991544 ... 16.78991544 16.78991544\n",
      "   16.78991544]\n",
      "  ...\n",
      "  [16.78991544 16.78991544 16.78991544 ... 16.78991544 16.78991544\n",
      "   16.78991544]\n",
      "  [16.78991544 16.78991544 16.78991544 ... 16.78991544 16.78991544\n",
      "   16.78991544]\n",
      "  [16.78991544 16.78991544 16.78991544 ... 16.78991544 16.78991544\n",
      "   16.78991544]]\n",
      "\n",
      " [[19.19843467 19.19843467 19.19843467 ... 19.19843467 19.19843467\n",
      "   19.19843467]\n",
      "  [19.19843467 19.19843467 19.19843467 ... 19.19843467 19.19843467\n",
      "   19.19843467]\n",
      "  [19.19843467 19.19843467 19.19843467 ... 19.19843467 19.19843467\n",
      "   19.19843467]\n",
      "  ...\n",
      "  [19.19843467 19.19843467 19.19843467 ... 19.19843467 19.19843467\n",
      "   19.19843467]\n",
      "  [19.19843467 19.19843467 19.19843467 ... 19.19843467 19.19843467\n",
      "   19.19843467]\n",
      "  [19.19843467 19.19843467 19.19843467 ... 19.19843467 19.19843467\n",
      "   19.19843467]]\n",
      "\n",
      " [[20.21733453 20.21733453 20.21733453 ... 20.21733453 20.21733453\n",
      "   20.21733453]\n",
      "  [20.21733453 20.21733453 20.21733453 ... 20.21733453 20.21733453\n",
      "   20.21733453]\n",
      "  [20.21733453 20.21733453 20.21733453 ... 20.21733453 20.21733453\n",
      "   20.21733453]\n",
      "  ...\n",
      "  [20.21733453 20.21733453 20.21733453 ... 20.21733453 20.21733453\n",
      "   20.21733453]\n",
      "  [20.21733453 20.21733453 20.21733453 ... 20.21733453 20.21733453\n",
      "   20.21733453]\n",
      "  [20.21733453 20.21733453 20.21733453 ... 20.21733453 20.21733453\n",
      "   20.21733453]]]\n",
      "Eq8\n"
     ]
    },
    {
     "name": "stderr",
     "output_type": "stream",
     "text": [
      "C:\\Users\\Takato\\Anaconda3\\lib\\site-packages\\numpy\\core\\_methods.py:28: RuntimeWarning: invalid value encountered in reduce\n",
      "  return umr_maximum(a, axis, None, out, keepdims, initial)\n",
      "C:\\Users\\Takato\\Anaconda3\\lib\\site-packages\\numpy\\linalg\\linalg.py:1794: RuntimeWarning: invalid value encountered in greater\n",
      "  return count_nonzero(S > tol, axis=-1)\n"
     ]
    }
   ],
   "source": [
    "import numpy as np\n",
    "from data_loader import toy_dataset, load_digits\n",
    "from utils import Figure\n",
    "from matplotlib.patches import Ellipse\n",
    "\n",
    "\n",
    "def compute_elipse_params(variance):\n",
    "    '''\n",
    "        Compute elipse params for plotting from variance\n",
    "    '''\n",
    "\n",
    "    # http://www.cs.cornell.edu/cv/OtherPdf/Ellipse.pdf Slide 17\n",
    "    # https://stackoverflow.com/a/41821484\n",
    "\n",
    "    variance_inv = np.linalg.inv(variance)\n",
    "    a = variance_inv[0, 0]\n",
    "    c = variance_inv[1, 1]\n",
    "    b = variance_inv[0, 1] + variance_inv[1, 0]\n",
    "\n",
    "    M = (variance_inv + variance_inv.T) / 2\n",
    "    eig, _ = np.linalg.eig(M)\n",
    "    if (np.abs(eig[0] - a) < np.abs(eig[0] - c)):\n",
    "        lambda1, lambda2 = eig\n",
    "    else:\n",
    "        lambda2, lambda1 = eig\n",
    "\n",
    "    angle = np.arctan(b / (a - c)) / 2\n",
    "    return np.sqrt(1 / lambda1), np.sqrt(1 / lambda2), angle\n",
    "\n",
    "\n",
    "################################################################################\n",
    "# GMM on 2D toy dataset\n",
    "# The dataset is generated from N gaussian distributions equally spaced on N radius circle.\n",
    "# Here, N=4\n",
    "# You should be able to visualize the learnt gaussian distribution in plots folder\n",
    "# Complete implementation of fit function for GMM class in gmm.py\n",
    "################################################################################\n",
    "x, y = toy_dataset(4, 100)\n",
    "init = ['k_means', 'random']\n",
    "'''\n",
    "for i in init:\n",
    "    n_cluster = 4\n",
    "    gmm = GMM(n_cluster=n_cluster, max_iter=1000, init=i, e=1e-6)\n",
    "    iterations = gmm.fit(x)\n",
    "    ll = gmm.compute_log_likelihood(x)\n",
    "\n",
    "    assert gmm.means.shape == (\n",
    "        n_cluster, 2), 'means should be numpy array with {}X2 shape'.format(n_cluster)\n",
    "\n",
    "    assert gmm.variances.shape == (\n",
    "        n_cluster, 2, 2), 'variances should be numpy array with {}X2X2 shape'.format(n_cluster)\n",
    "\n",
    "    assert gmm.pi_k.shape == (\n",
    "        n_cluster,), 'pi_k should be numpy vector of size'.format(n_cluster)\n",
    "\n",
    "    assert iterations > 0 and type(\n",
    "        iterations) == int, 'Number of updates should be positive integer'\n",
    "\n",
    "    assert type(ll) == float, 'log-likelihood should be float'\n",
    "\n",
    "    print('GMM for toy dataset with {} init converged in {} iteration. Final log-likelihood of data: {}'.format(\n",
    "        i, iterations, ll))\n",
    "\n",
    "    np.savez('results/gmm_toy_{}.npz'.format(i), iterations=iterations,\n",
    "             variances=gmm.variances, pi_k=gmm.pi_k, means=gmm.means, log_likelihood=ll, x=x, y=y)\n",
    "\n",
    "    # plot\n",
    "    fig = Figure()\n",
    "    fig.ax.scatter(x[:, 0], x[:, 1], c=y)\n",
    "    # fig.ax.scatter(gmm.means[:, 0], gmm.means[:, 1], c='red')\n",
    "    for component in range(n_cluster):\n",
    "        a, b, angle = compute_elipse_params(gmm.variances[component])\n",
    "        e = Ellipse(xy=gmm.means[component], width=a * 5, height=b * 5,\n",
    "                    angle=angle, alpha=gmm.pi_k[component])\n",
    "        fig.ax.add_artist(e)\n",
    "    fig.savefig('plots/gmm_toy_dataset_{}.png'.format(i))\n",
    "\n",
    "'''\n",
    "################################################################################\n",
    "# GMM on digits dataset\n",
    "# We fit a gaussian distribution on digits dataset and show generate samples from the distribution\n",
    "# Complete implementation of sample function for GMM class in gmm.py\n",
    "################################################################################\n",
    "\n",
    "x_train, x_test, y_train, y_test = load_digits()\n",
    "\n",
    "for i in init:\n",
    "    n_cluster = 30\n",
    "    gmm = GMM(n_cluster=n_cluster, max_iter=1000, init=i, e=1e-10)\n",
    "    iterations = gmm.fit(x_train)\n",
    "    ll = gmm.compute_log_likelihood(x_train)\n",
    "    print('GMM for digits dataset with {} init converged in {} iterations. Final log-likelihood of data: {}'.format(i, iterations, ll))\n",
    "\n",
    "    # plot cluster means\n",
    "    means = gmm.means\n",
    "    from matplotlib import pyplot as plt\n",
    "    l = int(np.ceil(np.sqrt(n_cluster)))\n",
    "\n",
    "    im = np.zeros((10 * l, 10 * l))\n",
    "    for m in range(l):\n",
    "        for n in range(l):\n",
    "            if (m * l + n < n_cluster):\n",
    "                im[10 * m:10 * m + 8, 10 * n:10 * n +\n",
    "                    8] = means[m * l + n].reshape([8, 8])\n",
    "    im = (im > 0) * im\n",
    "    plt.imsave('plots/means_{}.png'.format(i), im, cmap='Greys')\n",
    "\n",
    "    # plot samples\n",
    "    N = 100\n",
    "    l = int(np.ceil(np.sqrt(N)))\n",
    "    samples = gmm.sample(N)\n",
    "\n",
    "    assert samples.shape == (\n",
    "        N, x_train.shape[1]), 'Samples should be numpy array with dimensions {}X{}'.format(N, x_train.shape[1])\n",
    "\n",
    "    im = np.zeros((10 * l, 10 * l))\n",
    "    for m in range(l):\n",
    "        for n in range(l):\n",
    "            if (m * l + n < N):\n",
    "                im[10 * m: 10 * m + 8, 10 * n: 10 * n +\n",
    "                    8] = samples[m * l + n].reshape([8, 8])\n",
    "    im = (im > 0) * im\n",
    "    plt.imsave('plots/samples_{}.png'.format(i), im, cmap='Greys')\n",
    "\n",
    "    np.savez('results/gmm_digits_{}.npz'.format(i), iterations=np.array(\n",
    "        [iterations]), variances=gmm.variances, pi_k=gmm.pi_k, means=gmm.means, samples=samples, log_likelihood=ll, x=x_test, y=y_test)\n"
   ]
  },
  {
   "cell_type": "code",
   "execution_count": 13,
   "metadata": {},
   "outputs": [
    {
     "name": "stdout",
     "output_type": "stream",
     "text": [
      "Nan 2\n"
     ]
    }
   ],
   "source": [
    "cc = np.array([1, 2, np.nan, 4])\n",
    "for i in range(4):\n",
    "    if np.isnan(cc[i]):\n",
    "        print('Nan', i)"
   ]
  },
  {
   "cell_type": "code",
   "execution_count": 10,
   "metadata": {},
   "outputs": [
    {
     "name": "stdout",
     "output_type": "stream",
     "text": [
      "Nan\n"
     ]
    }
   ],
   "source": [
    "if np.max(np.isnan(cc)):\n",
    "    print('Nan')"
   ]
  },
  {
   "cell_type": "code",
   "execution_count": 11,
   "metadata": {},
   "outputs": [
    {
     "name": "stdout",
     "output_type": "stream",
     "text": [
      "[[[ 0  1  2]\n",
      "  [ 3  4  5]\n",
      "  [ 6  7  8]]\n",
      "\n",
      " [[ 9 10 11]\n",
      "  [12 13 14]\n",
      "  [15 16 17]]]\n",
      "[[[0.47726202 0.75405397 0.26717342]\n",
      "  [0.49590703 0.36502532 0.10166882]\n",
      "  [0.90171461 0.7851453  0.51975875]]\n",
      "\n",
      " [[0.00338888 0.1457981  0.85378533]\n",
      "  [0.95417619 0.4965308  0.01861974]\n",
      "  [0.26099423 0.65128351 0.75485369]]]\n",
      "transe\n",
      "[[[ 0  3  6]\n",
      "  [ 1  4  7]\n",
      "  [ 2  5  8]]\n",
      "\n",
      " [[ 9 12 15]\n",
      "  [10 13 16]\n",
      "  [11 14 17]]]\n",
      "[[[0.47726202 0.49590703 0.90171461]\n",
      "  [0.75405397 0.36502532 0.7851453 ]\n",
      "  [0.26717342 0.10166882 0.51975875]]\n",
      "\n",
      " [[0.00338888 0.95417619 0.26099423]\n",
      "  [0.1457981  0.4965308  0.65128351]\n",
      "  [0.85378533 0.01861974 0.75485369]]]\n"
     ]
    }
   ],
   "source": [
    "gg = np.random.rand(2, 3, 3)\n",
    "ggn = np.array(range(18)).reshape((2,3,3))\n",
    "print(ggn)\n",
    "print(gg)\n",
    "print('transe')\n",
    "print(np.transpose(ggn,(0,2,1)))\n",
    "print(np.transpose(gg,(0,2,1)))"
   ]
  },
  {
   "cell_type": "code",
   "execution_count": 24,
   "metadata": {},
   "outputs": [],
   "source": [
    "abc = np.array([np.nan , np.nan])"
   ]
  },
  {
   "cell_type": "code",
   "execution_count": 27,
   "metadata": {},
   "outputs": [],
   "source": [
    "abc = np.ones(abc.shape).astype(float)  /2"
   ]
  },
  {
   "cell_type": "code",
   "execution_count": 28,
   "metadata": {},
   "outputs": [
    {
     "data": {
      "text/plain": [
       "array([0.5, 0.5])"
      ]
     },
     "execution_count": 28,
     "metadata": {},
     "output_type": "execute_result"
    }
   ],
   "source": [
    "abc"
   ]
  },
  {
   "cell_type": "code",
   "execution_count": 35,
   "metadata": {},
   "outputs": [],
   "source": [
    "cc = np.exp(800)"
   ]
  },
  {
   "cell_type": "code",
   "execution_count": 37,
   "metadata": {},
   "outputs": [
    {
     "data": {
      "text/plain": [
       "True"
      ]
     },
     "execution_count": 37,
     "metadata": {},
     "output_type": "execute_result"
    }
   ],
   "source": [
    "np.isinf(cc)"
   ]
  },
  {
   "cell_type": "code",
   "execution_count": 38,
   "metadata": {},
   "outputs": [
    {
     "data": {
      "text/plain": [
       "1.0142320547350045e+304"
      ]
     },
     "execution_count": 38,
     "metadata": {},
     "output_type": "execute_result"
    }
   ],
   "source": [
    "np.exp(700)"
   ]
  },
  {
   "cell_type": "code",
   "execution_count": null,
   "metadata": {},
   "outputs": [],
   "source": []
  }
 ],
 "metadata": {
  "kernelspec": {
   "display_name": "Python 3",
   "language": "python",
   "name": "python3"
  },
  "language_info": {
   "codemirror_mode": {
    "name": "ipython",
    "version": 3
   },
   "file_extension": ".py",
   "mimetype": "text/x-python",
   "name": "python",
   "nbconvert_exporter": "python",
   "pygments_lexer": "ipython3",
   "version": "3.6.6"
  }
 },
 "nbformat": 4,
 "nbformat_minor": 2
}

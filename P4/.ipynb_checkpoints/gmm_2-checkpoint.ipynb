{
 "cells": [
  {
   "cell_type": "markdown",
   "metadata": {},
   "source": [
    "# GMM"
   ]
  },
  {
   "cell_type": "code",
   "execution_count": 20,
   "metadata": {},
   "outputs": [],
   "source": [
    "import numpy as np\n",
    "from kmeans import KMeans\n",
    "\n",
    "from data_loader import toy_dataset, load_digits\n",
    "from utils import Figure\n",
    "from matplotlib.patches import Ellipse\n",
    "\n",
    "class GMM():\n",
    "    '''\n",
    "        Fits a Gausian Mixture model to the data.\n",
    "\n",
    "        attrs:\n",
    "            n_cluster : Number of mixtures (Int)\n",
    "            e : error tolerance (Float) \n",
    "            max_iter : maximum number of updates (Int)\n",
    "            init : initialization of means and variance\n",
    "                Can be 'random' or 'kmeans' \n",
    "            means : means of Gaussian mixtures (n_cluster X D numpy array)\n",
    "            variances : variance of Gaussian mixtures (n_cluster X D X D numpy array) \n",
    "            pi_k : mixture probabilities of different component ((n_cluster,) size numpy array)\n",
    "    '''\n",
    "\n",
    "    def __init__(self, n_cluster, init='k_means', max_iter=100, e=0.0001):\n",
    "        self.n_cluster = n_cluster\n",
    "        self.e = e\n",
    "        self.max_iter = max_iter\n",
    "        self.init = init\n",
    "        self.means = None\n",
    "        self.variances = None\n",
    "        self.pi_k = None\n",
    "\n",
    "    def fit(self, x):\n",
    "        '''\n",
    "            Fits a GMM to x.\n",
    "\n",
    "            x: is a NXD size numpy array\n",
    "            updates:\n",
    "                self.means\n",
    "                self.variances\n",
    "                self.pi_k\n",
    "        '''\n",
    "        assert len(x.shape) == 2, 'x can only be 2 dimensional'\n",
    "\n",
    "        np.random.seed(42)\n",
    "        N, D = x.shape\n",
    "\n",
    "        if (self.init == 'k_means'):\n",
    "            # TODO\n",
    "            # - comment/remove the exception\n",
    "            # - initialize means using k-means clustering\n",
    "            # - compute variance and pi_k (see P4.pdf)\n",
    "\n",
    "            # DONOT MODIFY CODE ABOVE THIS LINE\n",
    "            #raise Exception(\n",
    "            #    'Implement initialization of variances, means, pi_k using k-means')\n",
    "            \n",
    "            kmean = KMeans(self.n_cluster, self.max_iter, self.e) # self.n_cluster self.max_iter \n",
    "            self.means, ymu, _ = kmean.fit(x) # self.means\n",
    "            self.pi_k = np.array([np.sum(ymu == k) for k in range(self.n_cluster)]) / N #self.pi_k self.n_cluster\n",
    "            \n",
    "            # gamma_ik = {0, 1} at this initialize\n",
    "            self.variances = np.zeros((n_cluster, D, D)) #self.variances self.n_cluster self.means\n",
    "            for k in range(self.n_cluster):\n",
    "                xt = x[ymu == k,:] - self.means[k,:] \n",
    "                self.variances[k, :, :] = np.dot(np.transpose(xt),xt) / np.sum(ymu==k) #self.variances \n",
    "            \n",
    "            # DONOT MODIFY CODE BELOW THIS LINE\n",
    "\n",
    "        elif (self.init == 'random'):\n",
    "            # TODO\n",
    "            # - comment/remove the exception\n",
    "            # - initialize means randomly\n",
    "            # - initialize variance to be identity and pi_k to be uniform\n",
    "\n",
    "            # DONOT MODIFY CODE ABOVE THIS LINE\n",
    "            #raise Exception(\n",
    "            #    'Implement initialization of variances, means, pi_k randomly')\n",
    "            \n",
    "            self.means = np.random.rand(self.n_cluster, D) # self.means self.n_cluster\n",
    "            self.pi_k = np.random.rand(self.n_cluster,) #self.pi_k self.n_cluster\n",
    "            self.variances = np.random.rand(self.n_cluster, D, D) #self.variances self.n_cluster\n",
    "            \n",
    "            # DONOT MODIFY CODE BELOW THIS LINE\n",
    "\n",
    "        else:\n",
    "            raise Exception('Invalid initialization provided')\n",
    "\n",
    "        # TODO\n",
    "        # - comment/remove the exception\n",
    "        # - Use EM to learn the means, variances, and pi_k and assign them to self\n",
    "        # - Update until convergence or until you have made self.max_iter updates.\n",
    "        # - Return the number of E/M-Steps executed (Int) \n",
    "        # Hint: Try to separate E & M step for clarity\n",
    "        # DONOT MODIFY CODE ABOVE THIS LINE\n",
    "        #raise Exception('Implement fit function (filename: gmm.py)')\n",
    "        \n",
    "        #4\n",
    "        l = self.compute_log_likelihood(x, self.means, self.variances, self.pi_k)\n",
    "        gamma = np.zeros((N, self.n_cluster))\n",
    "        for itr in range(self.max_iter):\n",
    "            print(\"Iteration,\", itr)\n",
    "            #print('variances', self.variances[0,:,:])\n",
    "            #print('means', self.means[0,:] )\n",
    "            # 6 E step\n",
    "            for n in range(N):\n",
    "                sumnorm = .0\n",
    "                normk = np.zeros(self.n_cluster)\n",
    "                for k in range(self.n_cluster):\n",
    "                    gaus = self.Gaussian_pdf(\n",
    "                        self.means[k,:], self.variances[k,:]).getLikelihood(x[n,:])\n",
    "                    #if gaus ==0:\n",
    "                    #    print('gaus is 0 when n, k', n , k)\n",
    "                    normk[k]= self.pi_k[k] * gaus\n",
    "                    sumnorm += normk[k]\n",
    "\n",
    "                #if n == (N-3):\n",
    "                #    print('-2 ', normk, sumnorm)\n",
    "                gamma[n, :] = normk / sumnorm\n",
    "            print('min gamma', np.min(gamma))\n",
    "            #print('gamma',gamma)\n",
    "            #print('gamma -3 :', gamma[-3,:])\n",
    "            #print(np.isnan(gamma[-3,0]))\n",
    "            print('Estep')\n",
    "            # 7 M step\n",
    "            # eq.(5)\n",
    "            Nk = np.sum(gamma, axis=0)\n",
    "            print('Nk',Nk)\n",
    "            # eq.(6)\n",
    "            means2 = np.zeros(self.means.shape)\n",
    "            for k in range(self.n_cluster):\n",
    "                means2[k, :] = np.sum(np.multiply(gamma[:, k].reshape(gamma.shape[0],1), x), axis=0)/Nk[k]\n",
    "            \n",
    "            print('means', means2[0,:])\n",
    "            print('Eq6')\n",
    "            # eq.(7)\n",
    "            variances2 = np.zeros(self.variances.shape)\n",
    "            for k in range(self.n_cluster):\n",
    "                sumvark = .0\n",
    "                for n in range(N):\n",
    "                    xmu = x[n, :] - self.means[k, :]\n",
    "                    sumvark += gamma[n, k]*(np.dot(np.transpose(xmu), xmu))\n",
    "                variances2[k, :, :] = sumvark / Nk[k]\n",
    "            print(variances2[0, :, :])\n",
    "            \n",
    "            print('Eq7')\n",
    "            # eq.(8)\n",
    "            self.pi_k = Nk / N\n",
    "            self.means = means2\n",
    "            self.variances = variances2\n",
    "            print('variances', self.variances)\n",
    "            print('Eq8')\n",
    "            l1 = self.compute_log_likelihood(x, self.means, self.variances, self.pi_k)\n",
    "            \n",
    "            # stop condition\n",
    "            if abs(l-l1) < self.e:\n",
    "                break\n",
    "            l = l1\n",
    "            \n",
    "        return itr\n",
    "        \n",
    "        # DONOT MODIFY CODE BELOW THIS LINE\n",
    "\n",
    "\n",
    "    def sample(self, N):\n",
    "        '''\n",
    "        sample from the GMM model\n",
    "\n",
    "        N is a positive integer\n",
    "        return : NXD array of samples\n",
    "\n",
    "        '''\n",
    "        assert type(N) == int and N > 0, 'N should be a positive integer'\n",
    "        np.random.seed(42)\n",
    "        if (self.means is None):\n",
    "            raise Exception('Train GMM before sampling')\n",
    "\n",
    "        # TODO\n",
    "        # - comment/remove the exception\n",
    "        # - generate samples from the GMM\n",
    "        # - return the samples\n",
    "\n",
    "        # DONOT MODIFY CODE ABOVE THIS LINE\n",
    "        #raise Exception('Implement sample function in gmm.py')\n",
    "        samples = np.zeros((N, self.means.shape[1]))\n",
    "        firstsa = np.random.choice(self.n_cluster, N, p=self.pi_k)\n",
    "        print('means', self.means.shape)\n",
    "        print('variance', self.variances.shape)\n",
    "        print('firstsa ',firstsa[0])\n",
    "        print('firstsa ', type(firstsa))\n",
    "        for n in range(N):\n",
    "            samples[n] = np.random.multivariate_normal(\n",
    "                self.means[firstsa[n]], \n",
    "                self.variances[firstsa[n]])\n",
    "        \n",
    "        \n",
    "        # DONOT MODIFY CODE BELOW THIS LINE\n",
    "        return samples        \n",
    "\n",
    "    def compute_log_likelihood(self, x, means=None, variances=None, pi_k=None):\n",
    "        '''\n",
    "            Return log-likelihood for the data\n",
    "\n",
    "            x is a NXD matrix\n",
    "            return : a float number which is the log-likelihood of data\n",
    "        '''\n",
    "        assert len(x.shape) == 2,  'x can only be 2 dimensional'\n",
    "        if means is None:\n",
    "            means = self.means\n",
    "        if variances is None:\n",
    "            variances = self.variances\n",
    "        if pi_k is None:\n",
    "            pi_k = self.pi_k    \n",
    "        # TODO\n",
    "        # - comment/remove the exception\n",
    "        # - calculate log-likelihood using means, variances and pi_k attr in self\n",
    "        # - return the log-likelihood (Float)\n",
    "        # Note: you can call this function in fit function (if required)\n",
    "        # DONOT MODIFY CODE ABOVE THIS LINE\n",
    "        #raise Exception('Implement compute_log_likelihood function in gmm.py')\n",
    "        N, D = x.shape\n",
    "        K = self.pi_k.shape[0]\n",
    "        log_likelihood = .0\n",
    "        #for n in range(3):\n",
    "        for n in range(N):\n",
    "            lnk = .0\n",
    "            #print(lnk)\n",
    "            for k in range(K):\n",
    "                lnk += self.pi_k[k] * self.Gaussian_pdf(\n",
    "                    self.means[k,:], self.variances[k,:]).getLikelihood(x[n,:])\n",
    "            #print(lnk)\n",
    "            log_likelihood += np.log(lnk)\n",
    "        \n",
    "        # DONOT MODIFY CODE BELOW THIS LINE\n",
    "        return log_likelihood.tolist()\n",
    "\n",
    "    class Gaussian_pdf():\n",
    "        def __init__(self,mean,variance):\n",
    "            self.mean = mean\n",
    "            self.variance = variance\n",
    "            self.c = None\n",
    "            self.inv = None\n",
    "            '''\n",
    "                Input: \n",
    "                    Means: A 1 X D numpy array of the Gaussian mean\n",
    "                    Variance: A D X D numpy array of the Gaussian covariance matrix\n",
    "                Output: \n",
    "                    None: \n",
    "            '''\n",
    "            # TODO\n",
    "            # - comment/remove the exception\n",
    "            # - Set self.inv equal to the inverse the variance matrix (after ensuring it is full rank - see P4.pdf)\n",
    "            # - Set self.c equal to ((2pi)^D) * det(variance) (after ensuring the variance matrix is full rank)\n",
    "            # Note you can call this class in compute_log_likelihood and fit\n",
    "            # DONOT MODIFY CODE ABOVE THIS LINE\n",
    "            #raise Exception('Impliment Guassian_pdf __init__')\n",
    "            D = self.variance.shape[1] # self.variance\n",
    "            while np.linalg.matrix_rank(self.variance) != len(self.variance): # self.variance\n",
    "                #print('inverse')\n",
    "                #print(self.variance)\n",
    "                self.variance += 1e-3 * np.identity(len(self.variance)) # self.variance\n",
    "            self.inv = np.linalg.inv(self.variance) # self.variance self.inv\n",
    "            self.c = ((2*np.pi)**D) * np.linalg.det(self.variance) # self.c self.variance            \n",
    "            \n",
    "            \n",
    "            # DONOT MODIFY CODE BELOW THIS LINE\n",
    "\n",
    "        def getLikelihood(self,x):\n",
    "            '''\n",
    "                Input: \n",
    "                    x: a 1 X D numpy array representing a sample\n",
    "                Output: \n",
    "                    p: a numpy float, the likelihood sample x was generated by this Gaussian\n",
    "                Hint: \n",
    "                    p = e^(-0.5(x-mean)*(inv(variance))*(x-mean)') / sqrt(c)\n",
    "                    where ' is transpose and * is matrix multiplication\n",
    "            '''\n",
    "            #TODO\n",
    "            # - Comment/remove the exception\n",
    "            # - Calculate the likelihood of sample x generated by this Gaussian\n",
    "            # Note: use the described implementation of a Gaussian to ensure compatibility with the solutions\n",
    "            # DONOT MODIFY CODE ABOVE THIS LINE\n",
    "            #raise Exception('Impliment Guassian_pdf getLikelihood')\n",
    "            p = np.exp(-0.5 * np.dot(np.dot((x - self.mean), self.inv),\n",
    "                                     np.transpose(x - self.mean))) / np.sqrt(self.c) # self.mean self.inv self.c\n",
    "            if np.abs(p) < 1e-320:\n",
    "                p = 1e-320\n",
    "            # DONOT MODIFY CODE BELOW THIS LINE\n",
    "            return p"
   ]
  },
  {
   "cell_type": "markdown",
   "metadata": {},
   "source": [
    "## test"
   ]
  },
  {
   "cell_type": "code",
   "execution_count": null,
   "metadata": {},
   "outputs": [
    {
     "name": "stdout",
     "output_type": "stream",
     "text": [
      "Iteration, 0\n",
      "min gamma 0.0\n",
      "Estep\n",
      "Nk [ 30.          24.          36.          38.          36.\n",
      "  36.          34.          48.00037353  39.00000191  69.02488444\n",
      " 115.          28.          34.          28.99999809  21.\n",
      "  14.          42.          61.          58.00000002  49.96384625\n",
      "  33.          52.          40.99999998  25.          57.\n",
      "  37.          95.99962647  20.          37.         107.0112693 ]\n",
      "means [0.00000000e+000 0.00000000e+000 1.25573303e-082 1.93750000e-001\n",
      " 8.43750000e-001 2.16666667e-001 4.16666667e-003 3.48382103e-141\n",
      " 0.00000000e+000 6.56171236e-264 2.50000000e-002 6.83333333e-001\n",
      " 8.83333333e-001 1.91666667e-001 7.91666667e-002 3.75000000e-002\n",
      " 0.00000000e+000 2.08333333e-003 3.66666667e-001 9.43750000e-001\n",
      " 6.31250000e-001 3.62500000e-001 1.93750000e-001 3.33333333e-002\n",
      " 6.89606685e-286 1.70833333e-001 8.62500000e-001 6.16666667e-001\n",
      " 6.35416667e-001 5.31250000e-001 2.41666667e-001 2.08333333e-003\n",
      " 0.00000000e+000 5.02083333e-001 9.79166667e-001 7.66666667e-001\n",
      " 9.31250000e-001 8.60416667e-001 3.62500000e-001 0.00000000e+000\n",
      " 5.74254105e-051 3.00000000e-001 6.16666667e-001 6.97916667e-001\n",
      " 8.83333333e-001 8.14583333e-001 2.02083333e-001 0.00000000e+000\n",
      " 1.32082484e-175 2.08333333e-002 5.00000000e-002 2.16666667e-001\n",
      " 8.60416667e-001 4.02083333e-001 6.25000000e-003 0.00000000e+000\n",
      " 0.00000000e+000 6.71024196e-228 1.32046335e-069 2.14583333e-001\n",
      " 8.72916667e-001 2.04166667e-001 2.02599668e-129 0.00000000e+000]\n",
      "Eq6\n",
      "[[2.09911458 2.09911458 2.09911458 ... 2.09911458 2.09911458 2.09911458]\n",
      " [2.09911458 2.09911458 2.09911458 ... 2.09911458 2.09911458 2.09911458]\n",
      " [2.09911458 2.09911458 2.09911458 ... 2.09911458 2.09911458 2.09911458]\n",
      " ...\n",
      " [2.09911458 2.09911458 2.09911458 ... 2.09911458 2.09911458 2.09911458]\n",
      " [2.09911458 2.09911458 2.09911458 ... 2.09911458 2.09911458 2.09911458]\n",
      " [2.09911458 2.09911458 2.09911458 ... 2.09911458 2.09911458 2.09911458]]\n",
      "Eq7\n",
      "variances [[[2.09911458 2.09911458 2.09911458 ... 2.09911458 2.09911458 2.09911458]\n",
      "  [2.09911458 2.09911458 2.09911458 ... 2.09911458 2.09911458 2.09911458]\n",
      "  [2.09911458 2.09911458 2.09911458 ... 2.09911458 2.09911458 2.09911458]\n",
      "  ...\n",
      "  [2.09911458 2.09911458 2.09911458 ... 2.09911458 2.09911458 2.09911458]\n",
      "  [2.09911458 2.09911458 2.09911458 ... 2.09911458 2.09911458 2.09911458]\n",
      "  [2.09911458 2.09911458 2.09911458 ... 2.09911458 2.09911458 2.09911458]]\n",
      "\n",
      " [[2.03915744 2.03915744 2.03915744 ... 2.03915744 2.03915744 2.03915744]\n",
      "  [2.03915744 2.03915744 2.03915744 ... 2.03915744 2.03915744 2.03915744]\n",
      "  [2.03915744 2.03915744 2.03915744 ... 2.03915744 2.03915744 2.03915744]\n",
      "  ...\n",
      "  [2.03915744 2.03915744 2.03915744 ... 2.03915744 2.03915744 2.03915744]\n",
      "  [2.03915744 2.03915744 2.03915744 ... 2.03915744 2.03915744 2.03915744]\n",
      "  [2.03915744 2.03915744 2.03915744 ... 2.03915744 2.03915744 2.03915744]]\n",
      "\n",
      " [[1.6355312  1.6355312  1.6355312  ... 1.6355312  1.6355312  1.6355312 ]\n",
      "  [1.6355312  1.6355312  1.6355312  ... 1.6355312  1.6355312  1.6355312 ]\n",
      "  [1.6355312  1.6355312  1.6355312  ... 1.6355312  1.6355312  1.6355312 ]\n",
      "  ...\n",
      "  [1.6355312  1.6355312  1.6355312  ... 1.6355312  1.6355312  1.6355312 ]\n",
      "  [1.6355312  1.6355312  1.6355312  ... 1.6355312  1.6355312  1.6355312 ]\n",
      "  [1.6355312  1.6355312  1.6355312  ... 1.6355312  1.6355312  1.6355312 ]]\n",
      "\n",
      " ...\n",
      "\n",
      " [[1.43914063 1.43914063 1.43914063 ... 1.43914063 1.43914063 1.43914063]\n",
      "  [1.43914063 1.43914063 1.43914063 ... 1.43914063 1.43914063 1.43914063]\n",
      "  [1.43914063 1.43914063 1.43914063 ... 1.43914063 1.43914063 1.43914063]\n",
      "  ...\n",
      "  [1.43914063 1.43914063 1.43914063 ... 1.43914063 1.43914063 1.43914063]\n",
      "  [1.43914063 1.43914063 1.43914063 ... 1.43914063 1.43914063 1.43914063]\n",
      "  [1.43914063 1.43914063 1.43914063 ... 1.43914063 1.43914063 1.43914063]]\n",
      "\n",
      " [[1.74766595 1.74766595 1.74766595 ... 1.74766595 1.74766595 1.74766595]\n",
      "  [1.74766595 1.74766595 1.74766595 ... 1.74766595 1.74766595 1.74766595]\n",
      "  [1.74766595 1.74766595 1.74766595 ... 1.74766595 1.74766595 1.74766595]\n",
      "  ...\n",
      "  [1.74766595 1.74766595 1.74766595 ... 1.74766595 1.74766595 1.74766595]\n",
      "  [1.74766595 1.74766595 1.74766595 ... 1.74766595 1.74766595 1.74766595]\n",
      "  [1.74766595 1.74766595 1.74766595 ... 1.74766595 1.74766595 1.74766595]]\n",
      "\n",
      " [[2.2551354  2.2551354  2.2551354  ... 2.2551354  2.2551354  2.2551354 ]\n",
      "  [2.2551354  2.2551354  2.2551354  ... 2.2551354  2.2551354  2.2551354 ]\n",
      "  [2.2551354  2.2551354  2.2551354  ... 2.2551354  2.2551354  2.2551354 ]\n",
      "  ...\n",
      "  [2.2551354  2.2551354  2.2551354  ... 2.2551354  2.2551354  2.2551354 ]\n",
      "  [2.2551354  2.2551354  2.2551354  ... 2.2551354  2.2551354  2.2551354 ]\n",
      "  [2.2551354  2.2551354  2.2551354  ... 2.2551354  2.2551354  2.2551354 ]]]\n",
      "Eq8\n",
      "Iteration, 1\n",
      "min gamma 0.0\n",
      "Estep\n",
      "Nk [ 25.07202763  27.6576221   41.48643315  46.62454552  29.48643315\n",
      "  28.48643315  29.34829798  44.3152442   56.38332511  66.45535274\n",
      " 148.63246177  24.93389245  27.34829798  29.69264924  26.14010853\n",
      "  10.96694623  45.90083868  43.90281204  76.00592008  52.45337938\n",
      "  29.96891959  50.59153736  45.52146029  15.41637889  52.62654169\n",
      "  46.24518994  76.63048841  24.38135175  38.24518994  86.07992107]\n",
      "means [0.00000000e+00 1.31158871e-02 2.21752573e-01 5.35652093e-01\n",
      " 7.77144291e-01 3.34033913e-01 7.79758860e-02 9.68472679e-03\n",
      " 4.42730367e-04 8.68858346e-02 4.30278576e-01 7.23320576e-01\n",
      " 7.14507782e-01 4.78456248e-01 1.10461227e-01 8.74392476e-03\n",
      " 2.76706480e-04 1.08247575e-01 5.16233447e-01 6.00803556e-01\n",
      " 5.47378298e-01 5.46214901e-01 1.00723618e-01 3.81854942e-03\n",
      " 1.10682592e-04 1.42273863e-01 6.47001240e-01 5.36289132e-01\n",
      " 6.95207198e-01 5.52052793e-01 1.12020621e-01 1.66023888e-04\n",
      " 0.00000000e+00 2.30533392e-01 6.15370615e-01 6.23809547e-01\n",
      " 7.46009278e-01 6.63276500e-01 2.32828211e-01 0.00000000e+00\n",
      " 7.74778143e-04 1.47291474e-01 4.72717971e-01 5.49900632e-01\n",
      " 6.57709166e-01 6.01750507e-01 1.81125913e-01 1.16216721e-03\n",
      " 6.64095551e-04 3.43669448e-02 2.82185268e-01 4.18414632e-01\n",
      " 6.91787106e-01 4.56887901e-01 1.47871943e-01 8.96528994e-03\n",
      " 5.53412959e-05 1.17323547e-02 2.35255849e-01 5.43226471e-01\n",
      " 7.59286269e-01 3.47330582e-01 9.02063124e-02 1.62703410e-02]\n",
      "Eq6\n",
      "[[6.02212735 6.02212735 6.02212735 ... 6.02212735 6.02212735 6.02212735]\n",
      " [6.02212735 6.02212735 6.02212735 ... 6.02212735 6.02212735 6.02212735]\n",
      " [6.02212735 6.02212735 6.02212735 ... 6.02212735 6.02212735 6.02212735]\n",
      " ...\n",
      " [6.02212735 6.02212735 6.02212735 ... 6.02212735 6.02212735 6.02212735]\n",
      " [6.02212735 6.02212735 6.02212735 ... 6.02212735 6.02212735 6.02212735]\n",
      " [6.02212735 6.02212735 6.02212735 ... 6.02212735 6.02212735 6.02212735]]\n",
      "Eq7\n",
      "variances [[[6.02212735 6.02212735 6.02212735 ... 6.02212735 6.02212735 6.02212735]\n",
      "  [6.02212735 6.02212735 6.02212735 ... 6.02212735 6.02212735 6.02212735]\n",
      "  [6.02212735 6.02212735 6.02212735 ... 6.02212735 6.02212735 6.02212735]\n",
      "  ...\n",
      "  [6.02212735 6.02212735 6.02212735 ... 6.02212735 6.02212735 6.02212735]\n",
      "  [6.02212735 6.02212735 6.02212735 ... 6.02212735 6.02212735 6.02212735]\n",
      "  [6.02212735 6.02212735 6.02212735 ... 6.02212735 6.02212735 6.02212735]]\n",
      "\n",
      " [[4.3215037  4.3215037  4.3215037  ... 4.3215037  4.3215037  4.3215037 ]\n",
      "  [4.3215037  4.3215037  4.3215037  ... 4.3215037  4.3215037  4.3215037 ]\n",
      "  [4.3215037  4.3215037  4.3215037  ... 4.3215037  4.3215037  4.3215037 ]\n",
      "  ...\n",
      "  [4.3215037  4.3215037  4.3215037  ... 4.3215037  4.3215037  4.3215037 ]\n",
      "  [4.3215037  4.3215037  4.3215037  ... 4.3215037  4.3215037  4.3215037 ]\n",
      "  [4.3215037  4.3215037  4.3215037  ... 4.3215037  4.3215037  4.3215037 ]]\n",
      "\n",
      " [[5.30565217 5.30565217 5.30565217 ... 5.30565217 5.30565217 5.30565217]\n",
      "  [5.30565217 5.30565217 5.30565217 ... 5.30565217 5.30565217 5.30565217]\n",
      "  [5.30565217 5.30565217 5.30565217 ... 5.30565217 5.30565217 5.30565217]\n",
      "  ...\n",
      "  [5.30565217 5.30565217 5.30565217 ... 5.30565217 5.30565217 5.30565217]\n",
      "  [5.30565217 5.30565217 5.30565217 ... 5.30565217 5.30565217 5.30565217]\n",
      "  [5.30565217 5.30565217 5.30565217 ... 5.30565217 5.30565217 5.30565217]]\n",
      "\n",
      " ...\n",
      "\n",
      " [[4.98353616 4.98353616 4.98353616 ... 4.98353616 4.98353616 4.98353616]\n",
      "  [4.98353616 4.98353616 4.98353616 ... 4.98353616 4.98353616 4.98353616]\n",
      "  [4.98353616 4.98353616 4.98353616 ... 4.98353616 4.98353616 4.98353616]\n",
      "  ...\n",
      "  [4.98353616 4.98353616 4.98353616 ... 4.98353616 4.98353616 4.98353616]\n",
      "  [4.98353616 4.98353616 4.98353616 ... 4.98353616 4.98353616 4.98353616]\n",
      "  [4.98353616 4.98353616 4.98353616 ... 4.98353616 4.98353616 4.98353616]]\n",
      "\n",
      " [[4.33326379 4.33326379 4.33326379 ... 4.33326379 4.33326379 4.33326379]\n",
      "  [4.33326379 4.33326379 4.33326379 ... 4.33326379 4.33326379 4.33326379]\n",
      "  [4.33326379 4.33326379 4.33326379 ... 4.33326379 4.33326379 4.33326379]\n",
      "  ...\n",
      "  [4.33326379 4.33326379 4.33326379 ... 4.33326379 4.33326379 4.33326379]\n",
      "  [4.33326379 4.33326379 4.33326379 ... 4.33326379 4.33326379 4.33326379]\n",
      "  [4.33326379 4.33326379 4.33326379 ... 4.33326379 4.33326379 4.33326379]]\n",
      "\n",
      " [[5.14567855 5.14567855 5.14567855 ... 5.14567855 5.14567855 5.14567855]\n",
      "  [5.14567855 5.14567855 5.14567855 ... 5.14567855 5.14567855 5.14567855]\n",
      "  [5.14567855 5.14567855 5.14567855 ... 5.14567855 5.14567855 5.14567855]\n",
      "  ...\n",
      "  [5.14567855 5.14567855 5.14567855 ... 5.14567855 5.14567855 5.14567855]\n",
      "  [5.14567855 5.14567855 5.14567855 ... 5.14567855 5.14567855 5.14567855]\n",
      "  [5.14567855 5.14567855 5.14567855 ... 5.14567855 5.14567855 5.14567855]]]\n",
      "Eq8\n"
     ]
    },
    {
     "name": "stdout",
     "output_type": "stream",
     "text": [
      "Iteration, 2\n",
      "min gamma 1.4236320167834894e-168\n",
      "Estep\n",
      "Nk [ 23.77349159  27.27596439  38.78832839  46.79327399  27.52720079\n",
      "  26.90158259  28.52720079  41.91641939  81.17754698  62.56181998\n",
      " 169.51285856  23.14787339  25.65034619  28.15281899  24.39910979\n",
      "  10.0098912   46.16765579  41.29080119  77.32047478  50.42383778\n",
      "  28.15281899  47.54698318  42.54203759  14.3892186   49.42383778\n",
      "  48.16765579  71.94609298  23.14787339  39.66023739  80.70474777]\n",
      "means [0.00000000e+00 2.07015810e-02 3.34930830e-01 7.33745059e-01\n",
      " 7.43725296e-01 3.76828063e-01 8.97233202e-02 8.84387352e-03\n",
      " 3.95256917e-04 1.30533597e-01 6.49258893e-01 7.40859684e-01\n",
      " 6.43330040e-01 5.23270751e-01 1.23863636e-01 7.85573123e-03\n",
      " 2.47035573e-04 1.61264822e-01 6.07855731e-01 4.38735178e-01\n",
      " 4.49901186e-01 4.99851779e-01 1.16007905e-01 3.40909091e-03\n",
      " 9.88142292e-05 1.44861660e-01 5.56669960e-01 5.59387352e-01\n",
      " 6.28705534e-01 4.81324111e-01 1.46887352e-01 1.48221344e-04\n",
      " 0.00000000e+00 1.38833992e-01 4.69318182e-01 5.74061265e-01\n",
      " 6.53804348e-01 5.47035573e-01 1.78952569e-01 0.00000000e+00\n",
      " 7.41106719e-04 9.77272727e-02 4.20059289e-01 4.56373518e-01\n",
      " 4.85671937e-01 5.19268775e-01 2.13438735e-01 2.07509881e-03\n",
      " 5.92885375e-04 4.64920949e-02 4.66749012e-01 5.94318182e-01\n",
      " 5.85177866e-01 5.53409091e-01 2.41106719e-01 1.39328063e-02\n",
      " 4.94071146e-05 1.81818182e-02 3.58349802e-01 7.50296443e-01\n",
      " 7.32114625e-01 4.33794466e-01 1.38883399e-01 2.53458498e-02]\n",
      "Eq6\n",
      "[[5.19940834 5.19940834 5.19940834 ... 5.19940834 5.19940834 5.19940834]\n",
      " [5.19940834 5.19940834 5.19940834 ... 5.19940834 5.19940834 5.19940834]\n",
      " [5.19940834 5.19940834 5.19940834 ... 5.19940834 5.19940834 5.19940834]\n",
      " ...\n",
      " [5.19940834 5.19940834 5.19940834 ... 5.19940834 5.19940834 5.19940834]\n",
      " [5.19940834 5.19940834 5.19940834 ... 5.19940834 5.19940834 5.19940834]\n",
      " [5.19940834 5.19940834 5.19940834 ... 5.19940834 5.19940834 5.19940834]]\n",
      "Eq7\n",
      "variances [[[5.19940834 5.19940834 5.19940834 ... 5.19940834 5.19940834 5.19940834]\n",
      "  [5.19940834 5.19940834 5.19940834 ... 5.19940834 5.19940834 5.19940834]\n",
      "  [5.19940834 5.19940834 5.19940834 ... 5.19940834 5.19940834 5.19940834]\n",
      "  ...\n",
      "  [5.19940834 5.19940834 5.19940834 ... 5.19940834 5.19940834 5.19940834]\n",
      "  [5.19940834 5.19940834 5.19940834 ... 5.19940834 5.19940834 5.19940834]\n",
      "  [5.19940834 5.19940834 5.19940834 ... 5.19940834 5.19940834 5.19940834]]\n",
      "\n",
      " [[5.39946685 5.39946685 5.39946685 ... 5.39946685 5.39946685 5.39946685]\n",
      "  [5.39946685 5.39946685 5.39946685 ... 5.39946685 5.39946685 5.39946685]\n",
      "  [5.39946685 5.39946685 5.39946685 ... 5.39946685 5.39946685 5.39946685]\n",
      "  ...\n",
      "  [5.39946685 5.39946685 5.39946685 ... 5.39946685 5.39946685 5.39946685]\n",
      "  [5.39946685 5.39946685 5.39946685 ... 5.39946685 5.39946685 5.39946685]\n",
      "  [5.39946685 5.39946685 5.39946685 ... 5.39946685 5.39946685 5.39946685]]\n",
      "\n",
      " [[5.95521455 5.95521455 5.95521455 ... 5.95521455 5.95521455 5.95521455]\n",
      "  [5.95521455 5.95521455 5.95521455 ... 5.95521455 5.95521455 5.95521455]\n",
      "  [5.95521455 5.95521455 5.95521455 ... 5.95521455 5.95521455 5.95521455]\n",
      "  ...\n",
      "  [5.95521455 5.95521455 5.95521455 ... 5.95521455 5.95521455 5.95521455]\n",
      "  [5.95521455 5.95521455 5.95521455 ... 5.95521455 5.95521455 5.95521455]\n",
      "  [5.95521455 5.95521455 5.95521455 ... 5.95521455 5.95521455 5.95521455]]\n",
      "\n",
      " ...\n",
      "\n",
      " [[6.09507326 6.09507326 6.09507326 ... 6.09507326 6.09507326 6.09507326]\n",
      "  [6.09507326 6.09507326 6.09507326 ... 6.09507326 6.09507326 6.09507326]\n",
      "  [6.09507326 6.09507326 6.09507326 ... 6.09507326 6.09507326 6.09507326]\n",
      "  ...\n",
      "  [6.09507326 6.09507326 6.09507326 ... 6.09507326 6.09507326 6.09507326]\n",
      "  [6.09507326 6.09507326 6.09507326 ... 6.09507326 6.09507326 6.09507326]\n",
      "  [6.09507326 6.09507326 6.09507326 ... 6.09507326 6.09507326 6.09507326]]\n",
      "\n",
      " [[4.90957625 4.90957625 4.90957625 ... 4.90957625 4.90957625 4.90957625]\n",
      "  [4.90957625 4.90957625 4.90957625 ... 4.90957625 4.90957625 4.90957625]\n",
      "  [4.90957625 4.90957625 4.90957625 ... 4.90957625 4.90957625 4.90957625]\n",
      "  ...\n",
      "  [4.90957625 4.90957625 4.90957625 ... 4.90957625 4.90957625 4.90957625]\n",
      "  [4.90957625 4.90957625 4.90957625 ... 4.90957625 4.90957625 4.90957625]\n",
      "  [4.90957625 4.90957625 4.90957625 ... 4.90957625 4.90957625 4.90957625]]\n",
      "\n",
      " [[5.02546255 5.02546255 5.02546255 ... 5.02546255 5.02546255 5.02546255]\n",
      "  [5.02546255 5.02546255 5.02546255 ... 5.02546255 5.02546255 5.02546255]\n",
      "  [5.02546255 5.02546255 5.02546255 ... 5.02546255 5.02546255 5.02546255]\n",
      "  ...\n",
      "  [5.02546255 5.02546255 5.02546255 ... 5.02546255 5.02546255 5.02546255]\n",
      "  [5.02546255 5.02546255 5.02546255 ... 5.02546255 5.02546255 5.02546255]\n",
      "  [5.02546255 5.02546255 5.02546255 ... 5.02546255 5.02546255 5.02546255]]]\n",
      "Eq8\n",
      "Iteration, 3\n",
      "min gamma 0.007414730598121601\n",
      "Estep\n",
      "Nk [ 23.97034108  27.29955512  38.61888285  46.60899654  27.29955512\n",
      "  26.63371231  28.63124073  41.94809689  81.23282254  62.58922392\n",
      " 169.78991597  23.30449827  25.9678695   27.96539792  24.63618389\n",
      "   9.98764212  45.94315373  41.28225408  77.23776569  50.60405339\n",
      "  27.96539792  47.27483935  42.61393969  14.64854177  49.27236777\n",
      "  47.94068216  71.91102323  23.30449827  39.95056846  80.56697973]\n",
      "means [0.00000000e+00 1.95341500e-02 3.26837416e-01 7.38817743e-01\n",
      " 7.40627320e-01 3.63307350e-01 8.46789161e-02 8.30549369e-03\n",
      " 3.71195249e-04 1.24628805e-01 6.42306978e-01 7.49211210e-01\n",
      " 6.50287676e-01 5.17167780e-01 1.17483296e-01 7.37750557e-03\n",
      " 2.31997030e-04 1.58871566e-01 6.07785820e-01 4.46223088e-01\n",
      " 4.49703044e-01 4.95313660e-01 1.13724944e-01 3.20155902e-03\n",
      " 9.27988122e-05 1.44858946e-01 5.57442465e-01 5.56236080e-01\n",
      " 6.20545657e-01 4.72485152e-01 1.47410913e-01 1.39198218e-04\n",
      " 0.00000000e+00 1.39151819e-01 4.71649963e-01 5.71315887e-01\n",
      " 6.45230141e-01 5.38836303e-01 1.79380104e-01 0.00000000e+00\n",
      " 6.95991091e-04 9.61859688e-02 4.29612101e-01 4.59586117e-01\n",
      " 4.80280252e-01 5.13919822e-01 2.14550854e-01 1.94877506e-03\n",
      " 5.56792873e-04 4.44042316e-02 4.72717149e-01 6.04445063e-01\n",
      " 5.90339644e-01 5.53730512e-01 2.34920193e-01 1.30846325e-02\n",
      " 4.63994061e-05 1.71213808e-02 3.48413140e-01 7.53758352e-01\n",
      " 7.39188938e-01 4.26085746e-01 1.32238307e-01 2.38028953e-02]\n",
      "Eq6\n",
      "[[4.70541595 4.70541595 4.70541595 ... 4.70541595 4.70541595 4.70541595]\n",
      " [4.70541595 4.70541595 4.70541595 ... 4.70541595 4.70541595 4.70541595]\n",
      " [4.70541595 4.70541595 4.70541595 ... 4.70541595 4.70541595 4.70541595]\n",
      " ...\n",
      " [4.70541595 4.70541595 4.70541595 ... 4.70541595 4.70541595 4.70541595]\n",
      " [4.70541595 4.70541595 4.70541595 ... 4.70541595 4.70541595 4.70541595]\n",
      " [4.70541595 4.70541595 4.70541595 ... 4.70541595 4.70541595 4.70541595]]\n",
      "Eq7\n",
      "variances [[[4.70541595 4.70541595 4.70541595 ... 4.70541595 4.70541595 4.70541595]\n",
      "  [4.70541595 4.70541595 4.70541595 ... 4.70541595 4.70541595 4.70541595]\n",
      "  [4.70541595 4.70541595 4.70541595 ... 4.70541595 4.70541595 4.70541595]\n",
      "  ...\n",
      "  [4.70541595 4.70541595 4.70541595 ... 4.70541595 4.70541595 4.70541595]\n",
      "  [4.70541595 4.70541595 4.70541595 ... 4.70541595 4.70541595 4.70541595]\n",
      "  [4.70541595 4.70541595 4.70541595 ... 4.70541595 4.70541595 4.70541595]]\n",
      "\n",
      " [[4.70962786 4.70962786 4.70962786 ... 4.70962786 4.70962786 4.70962786]\n",
      "  [4.70962786 4.70962786 4.70962786 ... 4.70962786 4.70962786 4.70962786]\n",
      "  [4.70962786 4.70962786 4.70962786 ... 4.70962786 4.70962786 4.70962786]\n",
      "  ...\n",
      "  [4.70962786 4.70962786 4.70962786 ... 4.70962786 4.70962786 4.70962786]\n",
      "  [4.70962786 4.70962786 4.70962786 ... 4.70962786 4.70962786 4.70962786]\n",
      "  [4.70962786 4.70962786 4.70962786 ... 4.70962786 4.70962786 4.70962786]]\n",
      "\n",
      " [[4.70541595 4.70541595 4.70541595 ... 4.70541595 4.70541595 4.70541595]\n",
      "  [4.70541595 4.70541595 4.70541595 ... 4.70541595 4.70541595 4.70541595]\n",
      "  [4.70541595 4.70541595 4.70541595 ... 4.70541595 4.70541595 4.70541595]\n",
      "  ...\n",
      "  [4.70541595 4.70541595 4.70541595 ... 4.70541595 4.70541595 4.70541595]\n",
      "  [4.70541595 4.70541595 4.70541595 ... 4.70541595 4.70541595 4.70541595]\n",
      "  [4.70541595 4.70541595 4.70541595 ... 4.70541595 4.70541595 4.70541595]]\n",
      "\n",
      " ...\n",
      "\n",
      " [[4.70541595 4.70541595 4.70541595 ... 4.70541595 4.70541595 4.70541595]\n",
      "  [4.70541595 4.70541595 4.70541595 ... 4.70541595 4.70541595 4.70541595]\n",
      "  [4.70541595 4.70541595 4.70541595 ... 4.70541595 4.70541595 4.70541595]\n",
      "  ...\n",
      "  [4.70541595 4.70541595 4.70541595 ... 4.70541595 4.70541595 4.70541595]\n",
      "  [4.70541595 4.70541595 4.70541595 ... 4.70541595 4.70541595 4.70541595]\n",
      "  [4.70541595 4.70541595 4.70541595 ... 4.70541595 4.70541595 4.70541595]]\n",
      "\n",
      " [[4.72548304 4.72548304 4.72548304 ... 4.72548304 4.72548304 4.72548304]\n",
      "  [4.72548304 4.72548304 4.72548304 ... 4.72548304 4.72548304 4.72548304]\n",
      "  [4.72548304 4.72548304 4.72548304 ... 4.72548304 4.72548304 4.72548304]\n",
      "  ...\n",
      "  [4.72548304 4.72548304 4.72548304 ... 4.72548304 4.72548304 4.72548304]\n",
      "  [4.72548304 4.72548304 4.72548304 ... 4.72548304 4.72548304 4.72548304]\n",
      "  [4.72548304 4.72548304 4.72548304 ... 4.72548304 4.72548304 4.72548304]]\n",
      "\n",
      " [[4.70541595 4.70541595 4.70541595 ... 4.70541595 4.70541595 4.70541595]\n",
      "  [4.70541595 4.70541595 4.70541595 ... 4.70541595 4.70541595 4.70541595]\n",
      "  [4.70541595 4.70541595 4.70541595 ... 4.70541595 4.70541595 4.70541595]\n",
      "  ...\n",
      "  [4.70541595 4.70541595 4.70541595 ... 4.70541595 4.70541595 4.70541595]\n",
      "  [4.70541595 4.70541595 4.70541595 ... 4.70541595 4.70541595 4.70541595]\n",
      "  [4.70541595 4.70541595 4.70541595 ... 4.70541595 4.70541595 4.70541595]]]\n",
      "Eq8\n"
     ]
    },
    {
     "name": "stdout",
     "output_type": "stream",
     "text": [
      "GMM for digits dataset with k_means init converged in 3 iterations. Final log-likelihood of data: -992506.9591584492\n",
      "means (30, 64)\n",
      "variance (30, 64, 64)\n",
      "firstsa  10\n",
      "firstsa  <class 'numpy.ndarray'>\n"
     ]
    },
    {
     "name": "stderr",
     "output_type": "stream",
     "text": [
      "C:\\Users\\Takato\\Anaconda3\\lib\\site-packages\\ipykernel_launcher.py:284: RuntimeWarning: invalid value encountered in sqrt\n"
     ]
    },
    {
     "name": "stdout",
     "output_type": "stream",
     "text": [
      "Iteration, 0\n"
     ]
    },
    {
     "name": "stderr",
     "output_type": "stream",
     "text": [
      "C:\\Users\\Takato\\Anaconda3\\lib\\site-packages\\numpy\\core\\fromnumeric.py:83: RuntimeWarning: invalid value encountered in reduce\n",
      "  return ufunc.reduce(obj, axis, dtype, out, **passkwargs)\n",
      "C:\\Users\\Takato\\Anaconda3\\lib\\site-packages\\numpy\\core\\_methods.py:28: RuntimeWarning: invalid value encountered in reduce\n",
      "  return umr_maximum(a, axis, None, out, keepdims, initial)\n",
      "C:\\Users\\Takato\\Anaconda3\\lib\\site-packages\\numpy\\linalg\\linalg.py:1794: RuntimeWarning: invalid value encountered in greater\n",
      "  return count_nonzero(S > tol, axis=-1)\n"
     ]
    },
    {
     "name": "stdout",
     "output_type": "stream",
     "text": [
      "min gamma nan\n",
      "Estep\n",
      "Nk [nan nan nan nan nan nan nan nan nan nan nan nan nan nan nan nan nan nan\n",
      " nan nan nan nan nan nan nan nan nan nan nan nan]\n",
      "means [nan nan nan nan nan nan nan nan nan nan nan nan nan nan nan nan nan nan\n",
      " nan nan nan nan nan nan nan nan nan nan nan nan nan nan nan nan nan nan\n",
      " nan nan nan nan nan nan nan nan nan nan nan nan nan nan nan nan nan nan\n",
      " nan nan nan nan nan nan nan nan nan nan]\n",
      "Eq6\n",
      "[[nan nan nan ... nan nan nan]\n",
      " [nan nan nan ... nan nan nan]\n",
      " [nan nan nan ... nan nan nan]\n",
      " ...\n",
      " [nan nan nan ... nan nan nan]\n",
      " [nan nan nan ... nan nan nan]\n",
      " [nan nan nan ... nan nan nan]]\n",
      "Eq7\n",
      "variances [[[nan nan nan ... nan nan nan]\n",
      "  [nan nan nan ... nan nan nan]\n",
      "  [nan nan nan ... nan nan nan]\n",
      "  ...\n",
      "  [nan nan nan ... nan nan nan]\n",
      "  [nan nan nan ... nan nan nan]\n",
      "  [nan nan nan ... nan nan nan]]\n",
      "\n",
      " [[nan nan nan ... nan nan nan]\n",
      "  [nan nan nan ... nan nan nan]\n",
      "  [nan nan nan ... nan nan nan]\n",
      "  ...\n",
      "  [nan nan nan ... nan nan nan]\n",
      "  [nan nan nan ... nan nan nan]\n",
      "  [nan nan nan ... nan nan nan]]\n",
      "\n",
      " [[nan nan nan ... nan nan nan]\n",
      "  [nan nan nan ... nan nan nan]\n",
      "  [nan nan nan ... nan nan nan]\n",
      "  ...\n",
      "  [nan nan nan ... nan nan nan]\n",
      "  [nan nan nan ... nan nan nan]\n",
      "  [nan nan nan ... nan nan nan]]\n",
      "\n",
      " ...\n",
      "\n",
      " [[nan nan nan ... nan nan nan]\n",
      "  [nan nan nan ... nan nan nan]\n",
      "  [nan nan nan ... nan nan nan]\n",
      "  ...\n",
      "  [nan nan nan ... nan nan nan]\n",
      "  [nan nan nan ... nan nan nan]\n",
      "  [nan nan nan ... nan nan nan]]\n",
      "\n",
      " [[nan nan nan ... nan nan nan]\n",
      "  [nan nan nan ... nan nan nan]\n",
      "  [nan nan nan ... nan nan nan]\n",
      "  ...\n",
      "  [nan nan nan ... nan nan nan]\n",
      "  [nan nan nan ... nan nan nan]\n",
      "  [nan nan nan ... nan nan nan]]\n",
      "\n",
      " [[nan nan nan ... nan nan nan]\n",
      "  [nan nan nan ... nan nan nan]\n",
      "  [nan nan nan ... nan nan nan]\n",
      "  ...\n",
      "  [nan nan nan ... nan nan nan]\n",
      "  [nan nan nan ... nan nan nan]\n",
      "  [nan nan nan ... nan nan nan]]]\n",
      "Eq8\n"
     ]
    }
   ],
   "source": [
    "import numpy as np\n",
    "from data_loader import toy_dataset, load_digits\n",
    "from utils import Figure\n",
    "from matplotlib.patches import Ellipse\n",
    "\n",
    "\n",
    "def compute_elipse_params(variance):\n",
    "    '''\n",
    "        Compute elipse params for plotting from variance\n",
    "    '''\n",
    "\n",
    "    # http://www.cs.cornell.edu/cv/OtherPdf/Ellipse.pdf Slide 17\n",
    "    # https://stackoverflow.com/a/41821484\n",
    "\n",
    "    variance_inv = np.linalg.inv(variance)\n",
    "    a = variance_inv[0, 0]\n",
    "    c = variance_inv[1, 1]\n",
    "    b = variance_inv[0, 1] + variance_inv[1, 0]\n",
    "\n",
    "    M = (variance_inv + variance_inv.T) / 2\n",
    "    eig, _ = np.linalg.eig(M)\n",
    "    if (np.abs(eig[0] - a) < np.abs(eig[0] - c)):\n",
    "        lambda1, lambda2 = eig\n",
    "    else:\n",
    "        lambda2, lambda1 = eig\n",
    "\n",
    "    angle = np.arctan(b / (a - c)) / 2\n",
    "    return np.sqrt(1 / lambda1), np.sqrt(1 / lambda2), angle\n",
    "\n",
    "\n",
    "################################################################################\n",
    "# GMM on 2D toy dataset\n",
    "# The dataset is generated from N gaussian distributions equally spaced on N radius circle.\n",
    "# Here, N=4\n",
    "# You should be able to visualize the learnt gaussian distribution in plots folder\n",
    "# Complete implementation of fit function for GMM class in gmm.py\n",
    "################################################################################\n",
    "x, y = toy_dataset(4, 100)\n",
    "init = ['k_means', 'random']\n",
    "'''\n",
    "for i in init:\n",
    "    n_cluster = 4\n",
    "    gmm = GMM(n_cluster=n_cluster, max_iter=1000, init=i, e=1e-6)\n",
    "    iterations = gmm.fit(x)\n",
    "    ll = gmm.compute_log_likelihood(x)\n",
    "\n",
    "    assert gmm.means.shape == (\n",
    "        n_cluster, 2), 'means should be numpy array with {}X2 shape'.format(n_cluster)\n",
    "\n",
    "    assert gmm.variances.shape == (\n",
    "        n_cluster, 2, 2), 'variances should be numpy array with {}X2X2 shape'.format(n_cluster)\n",
    "\n",
    "    assert gmm.pi_k.shape == (\n",
    "        n_cluster,), 'pi_k should be numpy vector of size'.format(n_cluster)\n",
    "\n",
    "    assert iterations > 0 and type(\n",
    "        iterations) == int, 'Number of updates should be positive integer'\n",
    "\n",
    "    assert type(ll) == float, 'log-likelihood should be float'\n",
    "\n",
    "    print('GMM for toy dataset with {} init converged in {} iteration. Final log-likelihood of data: {}'.format(\n",
    "        i, iterations, ll))\n",
    "\n",
    "    np.savez('results/gmm_toy_{}.npz'.format(i), iterations=iterations,\n",
    "             variances=gmm.variances, pi_k=gmm.pi_k, means=gmm.means, log_likelihood=ll, x=x, y=y)\n",
    "\n",
    "    # plot\n",
    "    fig = Figure()\n",
    "    fig.ax.scatter(x[:, 0], x[:, 1], c=y)\n",
    "    # fig.ax.scatter(gmm.means[:, 0], gmm.means[:, 1], c='red')\n",
    "    for component in range(n_cluster):\n",
    "        a, b, angle = compute_elipse_params(gmm.variances[component])\n",
    "        e = Ellipse(xy=gmm.means[component], width=a * 5, height=b * 5,\n",
    "                    angle=angle, alpha=gmm.pi_k[component])\n",
    "        fig.ax.add_artist(e)\n",
    "    fig.savefig('plots/gmm_toy_dataset_{}.png'.format(i))\n",
    "\n",
    "'''\n",
    "################################################################################\n",
    "# GMM on digits dataset\n",
    "# We fit a gaussian distribution on digits dataset and show generate samples from the distribution\n",
    "# Complete implementation of sample function for GMM class in gmm.py\n",
    "################################################################################\n",
    "\n",
    "x_train, x_test, y_train, y_test = load_digits()\n",
    "\n",
    "for i in init:\n",
    "    n_cluster = 30\n",
    "    gmm = GMM(n_cluster=n_cluster, max_iter=1000, init=i, e=1e-10)\n",
    "    iterations = gmm.fit(x_train)\n",
    "    ll = gmm.compute_log_likelihood(x_train)\n",
    "    print('GMM for digits dataset with {} init converged in {} iterations. Final log-likelihood of data: {}'.format(i, iterations, ll))\n",
    "\n",
    "    # plot cluster means\n",
    "    means = gmm.means\n",
    "    from matplotlib import pyplot as plt\n",
    "    l = int(np.ceil(np.sqrt(n_cluster)))\n",
    "\n",
    "    im = np.zeros((10 * l, 10 * l))\n",
    "    for m in range(l):\n",
    "        for n in range(l):\n",
    "            if (m * l + n < n_cluster):\n",
    "                im[10 * m:10 * m + 8, 10 * n:10 * n +\n",
    "                    8] = means[m * l + n].reshape([8, 8])\n",
    "    im = (im > 0) * im\n",
    "    plt.imsave('plots/means_{}.png'.format(i), im, cmap='Greys')\n",
    "\n",
    "    # plot samples\n",
    "    N = 100\n",
    "    l = int(np.ceil(np.sqrt(N)))\n",
    "    samples = gmm.sample(N)\n",
    "\n",
    "    assert samples.shape == (\n",
    "        N, x_train.shape[1]), 'Samples should be numpy array with dimensions {}X{}'.format(N, x_train.shape[1])\n",
    "\n",
    "    im = np.zeros((10 * l, 10 * l))\n",
    "    for m in range(l):\n",
    "        for n in range(l):\n",
    "            if (m * l + n < N):\n",
    "                im[10 * m: 10 * m + 8, 10 * n: 10 * n +\n",
    "                    8] = samples[m * l + n].reshape([8, 8])\n",
    "    im = (im > 0) * im\n",
    "    plt.imsave('plots/samples_{}.png'.format(i), im, cmap='Greys')\n",
    "\n",
    "    np.savez('results/gmm_digits_{}.npz'.format(i), iterations=np.array(\n",
    "        [iterations]), variances=gmm.variances, pi_k=gmm.pi_k, means=gmm.means, samples=samples, log_likelihood=ll, x=x_test, y=y_test)\n"
   ]
  },
  {
   "cell_type": "code",
   "execution_count": null,
   "metadata": {},
   "outputs": [
    {
     "name": "stderr",
     "output_type": "stream",
     "text": [
      "C:\\Users\\Takato\\Anaconda3\\lib\\site-packages\\ipykernel_launcher.py:281: RuntimeWarning: invalid value encountered in sqrt\n"
     ]
    },
    {
     "name": "stdout",
     "output_type": "stream",
     "text": [
      "Iteration, 0\n"
     ]
    },
    {
     "name": "stderr",
     "output_type": "stream",
     "text": [
      "C:\\Users\\Takato\\Anaconda3\\lib\\site-packages\\numpy\\core\\fromnumeric.py:83: RuntimeWarning: invalid value encountered in reduce\n",
      "  return ufunc.reduce(obj, axis, dtype, out, **passkwargs)\n",
      "C:\\Users\\Takato\\Anaconda3\\lib\\site-packages\\numpy\\core\\_methods.py:28: RuntimeWarning: invalid value encountered in reduce\n",
      "  return umr_maximum(a, axis, None, out, keepdims, initial)\n",
      "C:\\Users\\Takato\\Anaconda3\\lib\\site-packages\\numpy\\linalg\\linalg.py:1794: RuntimeWarning: invalid value encountered in greater\n",
      "  return count_nonzero(S > tol, axis=-1)\n"
     ]
    },
    {
     "name": "stdout",
     "output_type": "stream",
     "text": [
      "min gamma nan\n",
      "Estep\n",
      "Nk [nan nan nan nan nan nan nan nan nan nan nan nan nan nan nan nan nan nan\n",
      " nan nan nan nan nan nan nan nan nan nan nan nan]\n",
      "means [nan nan]\n",
      "Eq6\n",
      "[[nan nan]\n",
      " [nan nan]]\n",
      "Eq7\n",
      "variances [[[nan nan]\n",
      "  [nan nan]]\n",
      "\n",
      " [[nan nan]\n",
      "  [nan nan]]\n",
      "\n",
      " [[nan nan]\n",
      "  [nan nan]]\n",
      "\n",
      " [[nan nan]\n",
      "  [nan nan]]\n",
      "\n",
      " [[nan nan]\n",
      "  [nan nan]]\n",
      "\n",
      " [[nan nan]\n",
      "  [nan nan]]\n",
      "\n",
      " [[nan nan]\n",
      "  [nan nan]]\n",
      "\n",
      " [[nan nan]\n",
      "  [nan nan]]\n",
      "\n",
      " [[nan nan]\n",
      "  [nan nan]]\n",
      "\n",
      " [[nan nan]\n",
      "  [nan nan]]\n",
      "\n",
      " [[nan nan]\n",
      "  [nan nan]]\n",
      "\n",
      " [[nan nan]\n",
      "  [nan nan]]\n",
      "\n",
      " [[nan nan]\n",
      "  [nan nan]]\n",
      "\n",
      " [[nan nan]\n",
      "  [nan nan]]\n",
      "\n",
      " [[nan nan]\n",
      "  [nan nan]]\n",
      "\n",
      " [[nan nan]\n",
      "  [nan nan]]\n",
      "\n",
      " [[nan nan]\n",
      "  [nan nan]]\n",
      "\n",
      " [[nan nan]\n",
      "  [nan nan]]\n",
      "\n",
      " [[nan nan]\n",
      "  [nan nan]]\n",
      "\n",
      " [[nan nan]\n",
      "  [nan nan]]\n",
      "\n",
      " [[nan nan]\n",
      "  [nan nan]]\n",
      "\n",
      " [[nan nan]\n",
      "  [nan nan]]\n",
      "\n",
      " [[nan nan]\n",
      "  [nan nan]]\n",
      "\n",
      " [[nan nan]\n",
      "  [nan nan]]\n",
      "\n",
      " [[nan nan]\n",
      "  [nan nan]]\n",
      "\n",
      " [[nan nan]\n",
      "  [nan nan]]\n",
      "\n",
      " [[nan nan]\n",
      "  [nan nan]]\n",
      "\n",
      " [[nan nan]\n",
      "  [nan nan]]\n",
      "\n",
      " [[nan nan]\n",
      "  [nan nan]]\n",
      "\n",
      " [[nan nan]\n",
      "  [nan nan]]]\n",
      "Eq8\n"
     ]
    }
   ],
   "source": [
    "n_cluster = 30\n",
    "gmm = GMM(n_cluster=n_cluster, max_iter=1000, init='random', e=1e-10)\n",
    "gmm.fit(x)\n",
    "N = 100\n",
    "l = int(np.ceil(np.sqrt(N)))\n",
    "samples = gmm.sample(N)"
   ]
  },
  {
   "cell_type": "code",
   "execution_count": null,
   "metadata": {},
   "outputs": [],
   "source": []
  },
  {
   "cell_type": "code",
   "execution_count": 6,
   "metadata": {},
   "outputs": [
    {
     "data": {
      "text/plain": [
       "False"
      ]
     },
     "execution_count": 6,
     "metadata": {},
     "output_type": "execute_result"
    }
   ],
   "source": [
    "np.isnan(3)"
   ]
  },
  {
   "cell_type": "code",
   "execution_count": 2,
   "metadata": {},
   "outputs": [
    {
     "data": {
      "text/plain": [
       "1.0"
      ]
     },
     "execution_count": 2,
     "metadata": {},
     "output_type": "execute_result"
    }
   ],
   "source": [
    "2.902e-320/2.902e-320"
   ]
  },
  {
   "cell_type": "code",
   "execution_count": 5,
   "metadata": {},
   "outputs": [
    {
     "data": {
      "text/plain": [
       "array([0., 1., 0., 0.])"
      ]
     },
     "execution_count": 5,
     "metadata": {},
     "output_type": "execute_result"
    }
   ],
   "source": [
    "np.array([0.000e+000, 2.902e-320, 0.000e+000, 0.000e+000])/2.902e-320"
   ]
  },
  {
   "cell_type": "code",
   "execution_count": 6,
   "metadata": {},
   "outputs": [
    {
     "name": "stderr",
     "output_type": "stream",
     "text": [
      "C:\\Users\\Takato\\Anaconda3\\lib\\site-packages\\ipykernel_launcher.py:2: RuntimeWarning: divide by zero encountered in log\n",
      "  \n"
     ]
    },
    {
     "data": {
      "text/plain": [
       "array([         -inf, -735.76178081,          -inf,          -inf])"
      ]
     },
     "execution_count": 6,
     "metadata": {},
     "output_type": "execute_result"
    }
   ],
   "source": [
    "bb = np.array([0.000e+000, 2.902e-320, 0.000e+000, 0.000e+000])\n"
   ]
  },
  {
   "cell_type": "code",
   "execution_count": 18,
   "metadata": {},
   "outputs": [
    {
     "data": {
      "text/plain": [
       "1e-323"
      ]
     },
     "execution_count": 18,
     "metadata": {},
     "output_type": "execute_result"
    }
   ],
   "source": [
    "1e-323"
   ]
  },
  {
   "cell_type": "code",
   "execution_count": 19,
   "metadata": {},
   "outputs": [
    {
     "data": {
      "text/plain": [
       "0.0"
      ]
     },
     "execution_count": 19,
     "metadata": {},
     "output_type": "execute_result"
    }
   ],
   "source": [
    "1e-324"
   ]
  },
  {
   "cell_type": "code",
   "execution_count": 6,
   "metadata": {},
   "outputs": [
    {
     "data": {
      "text/plain": [
       "numpy.float64"
      ]
     },
     "execution_count": 6,
     "metadata": {},
     "output_type": "execute_result"
    }
   ],
   "source": [
    "type(ll)"
   ]
  },
  {
   "cell_type": "code",
   "execution_count": 10,
   "metadata": {},
   "outputs": [
    {
     "data": {
      "text/plain": [
       "float"
      ]
     },
     "execution_count": 10,
     "metadata": {},
     "output_type": "execute_result"
    }
   ],
   "source": [
    "type(ll.tolist())"
   ]
  },
  {
   "cell_type": "code",
   "execution_count": 7,
   "metadata": {},
   "outputs": [
    {
     "data": {
      "image/png": "[encoded data removed]",
      "text/plain": [
       "<Figure size 432x288 with 1 Axes>"
      ]
     },
     "metadata": {
      "needs_background": "light"
     },
     "output_type": "display_data"
    }
   ],
   "source": [
    "%matplotlib inline\n",
    "mean = [0, 0]\n",
    "cov = [[1, 0], [0, 100]] \n",
    "\n",
    "import matplotlib.pyplot as plt\n",
    "x, y = np.random.multivariate_normal(mean, cov, 1000).T\n",
    "plt.plot(x, y, 'x')\n",
    "plt.axis('equal')\n",
    "plt.show()"
   ]
  },
  {
   "cell_type": "code",
   "execution_count": 8,
   "metadata": {},
   "outputs": [
    {
     "data": {
      "text/plain": [
       "array([3, 2, 3], dtype=int64)"
      ]
     },
     "execution_count": 8,
     "metadata": {},
     "output_type": "execute_result"
    }
   ],
   "source": [
    "np.random.choice(5, 3, p=[0.1, 0, 0.3, 0.6, 0])"
   ]
  },
  {
   "cell_type": "code",
   "execution_count": 10,
   "metadata": {},
   "outputs": [
    {
     "data": {
      "text/plain": [
       "array([0, 2, 3, 0, 1, 2, 0, 0, 3, 0, 3, 1, 3, 2, 0, 1, 3, 3, 3, 1])"
      ]
     },
     "execution_count": 10,
     "metadata": {},
     "output_type": "execute_result"
    }
   ],
   "source": [
    "np.random.choice(4, 20)"
   ]
  },
  {
   "cell_type": "code",
   "execution_count": 13,
   "metadata": {},
   "outputs": [
    {
     "data": {
      "text/plain": [
       "array([[0.83785379],\n",
       "       [9.19560547]])"
      ]
     },
     "execution_count": 13,
     "metadata": {},
     "output_type": "execute_result"
    }
   ],
   "source": [
    "np.random.multivariate_normal(mean, cov, 1).T"
   ]
  },
  {
   "cell_type": "code",
   "execution_count": 5,
   "metadata": {},
   "outputs": [
    {
     "name": "stderr",
     "output_type": "stream",
     "text": [
      "C:\\Users\\Takato\\Anaconda3\\lib\\site-packages\\ipykernel_launcher.py:3: RuntimeWarning: covariance is not symmetric positive-semidefinite.\n",
      "  This is separate from the ipykernel package so we can avoid doing imports until\n"
     ]
    },
    {
     "data": {
      "text/plain": [
       "array([[ 0.59145171, -6.14549855, -1.37112586]])"
      ]
     },
     "execution_count": 5,
     "metadata": {},
     "output_type": "execute_result"
    }
   ],
   "source": [
    "mean2 = [0.1, -0.1, 0]\n",
    "cov2 = [[1.1, 0,0.1], [0, 100.6,0], [0, 0.6, 10]] \n",
    "np.random.multivariate_normal(mean2, cov2, 1)"
   ]
  },
  {
   "cell_type": "code",
   "execution_count": 6,
   "metadata": {},
   "outputs": [
    {
     "name": "stderr",
     "output_type": "stream",
     "text": [
      "C:\\Users\\Takato\\Anaconda3\\lib\\site-packages\\ipykernel_launcher.py:1: RuntimeWarning: covariance is not symmetric positive-semidefinite.\n",
      "  \"\"\"Entry point for launching an IPython kernel.\n"
     ]
    },
    {
     "data": {
      "text/plain": [
       "array([-0.01355634, -7.19886701,  2.24800598])"
      ]
     },
     "execution_count": 6,
     "metadata": {},
     "output_type": "execute_result"
    }
   ],
   "source": [
    "np.random.multivariate_normal(mean2, cov2)"
   ]
  },
  {
   "cell_type": "code",
   "execution_count": 14,
   "metadata": {},
   "outputs": [],
   "source": [
    "ccc=np.array(range(27)).reshape((3,3,3))"
   ]
  },
  {
   "cell_type": "code",
   "execution_count": 16,
   "metadata": {},
   "outputs": [
    {
     "data": {
      "text/plain": [
       "array([[0, 1, 2],\n",
       "       [3, 4, 5],\n",
       "       [6, 7, 8]])"
      ]
     },
     "execution_count": 16,
     "metadata": {},
     "output_type": "execute_result"
    }
   ],
   "source": [
    "ccc[0]"
   ]
  },
  {
   "cell_type": "code",
   "execution_count": 17,
   "metadata": {},
   "outputs": [
    {
     "data": {
      "text/plain": [
       "array([[[ 0,  1,  2],\n",
       "        [ 3,  4,  5],\n",
       "        [ 6,  7,  8]],\n",
       "\n",
       "       [[ 9, 10, 11],\n",
       "        [12, 13, 14],\n",
       "        [15, 16, 17]],\n",
       "\n",
       "       [[18, 19, 20],\n",
       "        [21, 22, 23],\n",
       "        [24, 25, 26]]])"
      ]
     },
     "execution_count": 17,
     "metadata": {},
     "output_type": "execute_result"
    }
   ],
   "source": [
    "ccc"
   ]
  },
  {
   "cell_type": "code",
   "execution_count": null,
   "metadata": {},
   "outputs": [],
   "source": []
  }
 ],
 "metadata": {
  "kernelspec": {
   "display_name": "Python 3",
   "language": "python",
   "name": "python3"
  },
  "language_info": {
   "codemirror_mode": {
    "name": "ipython",
    "version": 3
   },
   "file_extension": ".py",
   "mimetype": "text/x-python",
   "name": "python",
   "nbconvert_exporter": "python",
   "pygments_lexer": "ipython3",
   "version": "3.7.0"
  }
 },
 "nbformat": 4,
 "nbformat_minor": 2
}

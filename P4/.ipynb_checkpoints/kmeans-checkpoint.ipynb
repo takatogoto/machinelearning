{
 "cells": [
  {
   "cell_type": "code",
   "execution_count": 1,
   "metadata": {},
   "outputs": [],
   "source": [
    "import numpy as np\n",
    "\n",
    "\n",
    "class KMeans():\n",
    "\n",
    "    '''\n",
    "        Class KMeans:\n",
    "        Attr:\n",
    "            n_cluster - Number of cluster for kmeans clustering (Int)\n",
    "            max_iter - maximum updates for kmeans clustering (Int) \n",
    "            e - error tolerance (Float)\n",
    "    '''\n",
    "\n",
    "    def __init__(self, n_cluster, max_iter=100, e=0.0001):\n",
    "        self.n_cluster = n_cluster\n",
    "        self.max_iter = max_iter\n",
    "        self.e = e\n",
    "\n",
    "    def fit(self, x):\n",
    "        '''\n",
    "            Finds n_cluster in the data x\n",
    "            params:\n",
    "                x - N X D numpy array\n",
    "            returns:\n",
    "                A tuple\n",
    "                (centroids a n_cluster X D numpy array,\n",
    "                y a size (N,) numpy array where cell i is the ith sample's assigned cluster,\n",
    "                number_of_updates an Int)\n",
    "            Note: Number of iterations is the number of time you update the assignment\n",
    "        ''' \n",
    "        assert len(x.shape) == 2, \"fit function takes 2-D numpy arrays as input\"\n",
    "        np.random.seed(42)\n",
    "        N, D = x.shape\n",
    "\n",
    "        # TODO:\n",
    "        # - comment/remove the exception.\n",
    "        # - Initialize means by picking self.n_cluster from N data points\n",
    "        # - Update means and membership until convergence or until you have made self.max_iter updates.\n",
    "        # - return (means, membership, number_of_updates)\n",
    "\n",
    "        # DONOT CHANGE CODE ABOVE THIS LINE\n",
    "        #raise Exception(\n",
    "        #    'Implement fit function in KMeans class (filename: kmeans.py)')\n",
    "        # initialize mu and J\n",
    "        mu0_idx = np.random.choice(range(N), self.n_cluster)\n",
    "        mu = x[mu0_idx,:]\n",
    "        j = 1e10\n",
    "\n",
    "        def compute_ridx(x, mu):\n",
    "            A = np.sum(x**2,axis=1).reshape(x.shape[0],1)\n",
    "            B = np.sum(mu**2,axis=1).reshape(mu.shape[0],1)\n",
    "            AB = np.dot(x, np.transpose(mu))\n",
    "            dists = np.sqrt(-2*AB + A + np.transpose(B))\n",
    "    \n",
    "            # because r is {0,1}, just return index \n",
    "            r = np.argmin(np.transpose(dists), axis=1)\n",
    "            return np.ravel(r)\n",
    "\n",
    "\n",
    "\n",
    "        for itr in range(self.max_iter):    \n",
    "    \n",
    "            r_idx = compute_ridx(mu, x)\n",
    "    \n",
    "            # r_ik = 0 if xi not in k\n",
    "            # mu[r_idx,:] means mu_k when r_ik = 1, size N X D\n",
    "            #j1 = sum(np.sum(np.multiply((x - mu[r_idx,:]), (x - mu[r_idx,:])), axis=1))\n",
    "            j2 = np.sum(np.multiply((mu[r_idx,:] - x ), (mu[r_idx,:] - x)))\n",
    "            #print(j-j2)\n",
    "            \n",
    "            # stop condition\n",
    "            if abs(j-j2) < self.e:\n",
    "                break\n",
    "            \n",
    "            j = j2\n",
    "            # r_idx is asigned index for each class\n",
    "            mu = np.array(\n",
    "                [np.average(x[r_idx==i,:], axis=0) for i in range(self.n_cluster)])\n",
    "            \n",
    "        y = compute_ridx(mu, x)\n",
    "        return (mu, y, itr)\n",
    "        \n",
    "        # DONOT CHANGE CODE BELOW THIS LINE\n",
    "\n",
    "class KMeansClassifier():\n",
    "\n",
    "    '''\n",
    "        Class KMeansClassifier:\n",
    "        Attr:\n",
    "            n_cluster - Number of cluster for kmeans clustering (Int)\n",
    "            max_iter - maximum updates for kmeans clustering (Int) \n",
    "            e - error tolerance (Float) \n",
    "    '''\n",
    "\n",
    "    def __init__(self, n_cluster, max_iter=100, e=1e-6):\n",
    "        self.n_cluster = n_cluster\n",
    "        self.max_iter = max_iter\n",
    "        self.e = e\n",
    "\n",
    "    def fit(self, x, y):\n",
    "        '''\n",
    "            Train the classifier\n",
    "            params:\n",
    "                x - N X D size  numpy array\n",
    "                y - (N,) size numpy array of labels\n",
    "            returns:\n",
    "                None\n",
    "            Stores following attributes:\n",
    "                self.centroids : centroids obtained by kmeans clustering (n_cluster X D numpy array)\n",
    "                self.centroid_labels : labels of each centroid obtained by \n",
    "                    majority voting ((N,) numpy array) \n",
    "        '''\n",
    "\n",
    "        assert len(x.shape) == 2, \"x should be a 2-D numpy array\"\n",
    "        assert len(y.shape) == 1, \"y should be a 1-D numpy array\"\n",
    "        assert y.shape[0] == x.shape[0], \"y and x should have same rows\"\n",
    "\n",
    "        np.random.seed(42)\n",
    "        N, D = x.shape\n",
    "        # TODO:\n",
    "        # - comment/remove the exception.\n",
    "        # - Implement the classifier\n",
    "        # - assign means to centroids\n",
    "        # - assign labels to centroid_labels\n",
    "\n",
    "        # DONOT CHANGE CODE ABOVE THIS LINE\n",
    "        raise Exception(\n",
    "            'Implement fit function in KMeansClassifier class (filename: kmeans.py)')\n",
    "\n",
    "        # DONOT CHANGE CODE BELOW THIS LINE\n",
    "\n",
    "        self.centroid_labels = centroid_labels\n",
    "        self.centroids = centroids\n",
    "\n",
    "        assert self.centroid_labels.shape == (self.n_cluster,), 'centroid_labels should be a numpy array of shape ({},)'.format(\n",
    "            self.n_cluster)\n",
    "\n",
    "        assert self.centroids.shape == (self.n_cluster, D), 'centroid should be a numpy array of shape {} X {}'.format(\n",
    "            self.n_cluster, D)\n",
    "\n",
    "    def predict(self, x):\n",
    "        '''\n",
    "            Predict function\n",
    "\n",
    "            params:\n",
    "                x - N X D size  numpy array\n",
    "            returns:\n",
    "                predicted labels - numpy array of size (N,)\n",
    "        '''\n",
    "\n",
    "        assert len(x.shape) == 2, \"x should be a 2-D numpy array\"\n",
    "\n",
    "        np.random.seed(42)\n",
    "        N, D = x.shape\n",
    "        # TODO:\n",
    "        # - comment/remove the exception.\n",
    "        # - Implement the prediction algorithm\n",
    "        # - return labels\n",
    "\n",
    "        # DONOT CHANGE CODE ABOVE THIS LINE\n",
    "        raise Exception(\n",
    "            'Implement predict function in KMeansClassifier class (filename: kmeans.py)')\n",
    "        # DONOT CHANGE CODE BELOW THIS LINE\n",
    "        return labels\n",
    "\n"
   ]
  },
  {
   "cell_type": "code",
   "execution_count": 2,
   "metadata": {},
   "outputs": [],
   "source": [
    "import numpy as np\n",
    "from data_loader import toy_dataset, load_digits\n",
    "from sklearn.linear_model import LogisticRegression\n",
    "from sklearn.neighbors import KNeighborsClassifier\n",
    "from utils import Figure\n",
    "\n",
    "import matplotlib\n",
    "matplotlib.use('Agg')\n",
    "import matplotlib.pyplot as plt\n",
    "x, y = toy_dataset(4)\n"
   ]
  },
  {
   "cell_type": "markdown",
   "metadata": {},
   "source": [
    "### 1.1"
   ]
  },
  {
   "cell_type": "code",
   "execution_count": 3,
   "metadata": {},
   "outputs": [
    {
     "name": "stdout",
     "output_type": "stream",
     "text": [
      "200 2\n"
     ]
    }
   ],
   "source": [
    "#type(x)\n",
    "N, D = x.shape\n",
    "print(N,D)"
   ]
  },
  {
   "cell_type": "code",
   "execution_count": 4,
   "metadata": {},
   "outputs": [],
   "source": [
    "np.random.seed(42)\n",
    "\n",
    "n_cluster = 5\n",
    "max_iter = 100\n",
    "e = 0.0001"
   ]
  },
  {
   "cell_type": "code",
   "execution_count": 5,
   "metadata": {},
   "outputs": [
    {
     "name": "stdout",
     "output_type": "stream",
     "text": [
      "[-5.37766937 -0.93782504]\n",
      "[-4.83651121 -0.36487946]\n",
      "[-4.88316325 -0.13992194]\n",
      "[-4.89069392  0.0557828 ]\n",
      "[-4.84703256  0.08214575]\n",
      "[-4.84703256  0.08214575]\n",
      "[-4.84703256  0.08214575]\n",
      "[3]\n",
      "(200,)\n",
      "5\n",
      "<class 'tuple'>\n"
     ]
    },
    {
     "name": "stderr",
     "output_type": "stream",
     "text": [
      "C:\\Users\\Takato\\Anaconda3\\lib\\site-packages\\ipykernel_launcher.py:10: RuntimeWarning: invalid value encountered in sqrt\n",
      "  # Remove the CWD from sys.path while we load stuff.\n"
     ]
    }
   ],
   "source": [
    "# initialize mu and J\n",
    "mu0_idx = np.random.choice(range(N), n_cluster)\n",
    "mu = x[mu0_idx,:]\n",
    "j = 1e15\n",
    "\n",
    "def compute_ridx(x, mu):\n",
    "    A = np.sum(x**2,axis=1).reshape(x.shape[0],1)\n",
    "    B = np.sum(mu**2,axis=1).reshape(mu.shape[0],1)\n",
    "    AB = np.dot(x, np.transpose(mu))\n",
    "    dists = np.sqrt(-2*AB + A + np.transpose(B))\n",
    "    \n",
    "    # because r is {0,1}, just return index \n",
    "    r = np.argmin(np.transpose(dists), axis=1)\n",
    "    return np.ravel(r)\n",
    "\n",
    "\n",
    "for itr in range(100):\n",
    "    print(mu[0,:])\n",
    "    \n",
    "    \n",
    "    r_idx = compute_ridx(mu, x)\n",
    "    \n",
    "    # r_ik = 0 if xi not in k\n",
    "    # mu[r_idx,:] means mu_k when r_ik = 1, size N X D\n",
    "    #j1 = sum(np.sum(np.multiply((x - mu[r_idx,:]), (x - mu[r_idx,:])), axis=1))\n",
    "    j2 = np.sum(np.multiply((mu[r_idx,:] - x ), (mu[r_idx,:] - x)))\n",
    "    if abs(j-j2) < e:\n",
    "        break\n",
    "    j = j2\n",
    "    # r_idx\n",
    "    mu = np.array([np.average(x[r_idx==i,:], axis=0) for i in range(n_cluster)])\n",
    "print(mu[0,:])\n",
    "y = compute_ridx(mu, x)\n",
    "print(y[10:11])\n",
    "print(y.shape)\n",
    "print(itr)\n",
    "retup = (mu, y, itr)\n",
    "print(type(retup))"
   ]
  },
  {
   "cell_type": "code",
   "execution_count": 6,
   "metadata": {},
   "outputs": [
    {
     "data": {
      "text/plain": [
       "array([[5.        , 1.41421356, 1.41421356, 1.41421356, 2.82842712],\n",
       "       [3.60555128, 0.        , 2.        , 2.82842712, 1.41421356]])"
      ]
     },
     "execution_count": 6,
     "metadata": {},
     "output_type": "execute_result"
    }
   ],
   "source": [
    "ma = np.array([[1,1],[2,2]])\n",
    "xb = np.array([[4,5],[2,2],[0,2],[0,0],[3,3]])\n",
    "A = np.sum(ma**2,axis=1).reshape(2,1)\n",
    "B = np.sum(xb**2,axis=1).reshape(5,1)\n",
    "AB = np.dot(ma,np.transpose(xb))\n",
    "dists = np.sqrt(-2*AB + A + np.transpose(B))\n",
    "dists"
   ]
  },
  {
   "cell_type": "code",
   "execution_count": 7,
   "metadata": {},
   "outputs": [
    {
     "data": {
      "text/plain": [
       "array([1, 1, 0, 0, 1], dtype=int64)"
      ]
     },
     "execution_count": 7,
     "metadata": {},
     "output_type": "execute_result"
    }
   ],
   "source": [
    "r = compute_ridx(ma, xb)\n",
    "r"
   ]
  },
  {
   "cell_type": "code",
   "execution_count": 8,
   "metadata": {},
   "outputs": [
    {
     "name": "stdout",
     "output_type": "stream",
     "text": [
      "[2 2]\n",
      "[2 2]\n",
      "[1 1]\n",
      "[1 1]\n",
      "[2 2]\n"
     ]
    }
   ],
   "source": [
    "for i in list(r):\n",
    "    print(ma[i,:])"
   ]
  },
  {
   "cell_type": "code",
   "execution_count": 9,
   "metadata": {},
   "outputs": [
    {
     "data": {
      "text/plain": [
       "array([[2, 2],\n",
       "       [2, 2],\n",
       "       [1, 1],\n",
       "       [1, 1],\n",
       "       [2, 2]])"
      ]
     },
     "execution_count": 9,
     "metadata": {},
     "output_type": "execute_result"
    }
   ],
   "source": [
    "ma[r,:]"
   ]
  },
  {
   "cell_type": "code",
   "execution_count": 10,
   "metadata": {},
   "outputs": [
    {
     "name": "stdout",
     "output_type": "stream",
     "text": [
      "[[2 2]\n",
      " [2 2]\n",
      " [1 1]\n",
      " [1 1]\n",
      " [2 2]]\n",
      "[[ 2  3]\n",
      " [ 0  0]\n",
      " [-1  1]\n",
      " [-1 -1]\n",
      " [ 1  1]]\n"
     ]
    },
    {
     "data": {
      "text/plain": [
       "array([13,  0,  2,  2,  2])"
      ]
     },
     "execution_count": 10,
     "metadata": {},
     "output_type": "execute_result"
    }
   ],
   "source": [
    "print(ma[r,:])\n",
    "print(xb - ma[r,:])\n",
    "np.sum(np.multiply((xb - ma[r,:]), (xb - ma[r,:])), axis=1)"
   ]
  },
  {
   "cell_type": "code",
   "execution_count": 11,
   "metadata": {},
   "outputs": [
    {
     "data": {
      "text/plain": [
       "array([41,  8,  4,  0, 18])"
      ]
     },
     "execution_count": 11,
     "metadata": {},
     "output_type": "execute_result"
    }
   ],
   "source": [
    "np.sum(np.multiply(xb, xb), axis=1)"
   ]
  },
  {
   "cell_type": "code",
   "execution_count": 12,
   "metadata": {},
   "outputs": [
    {
     "data": {
      "text/plain": [
       "[0, 1]"
      ]
     },
     "execution_count": 12,
     "metadata": {},
     "output_type": "execute_result"
    }
   ],
   "source": [
    "[i for i in set(list(r))]"
   ]
  },
  {
   "cell_type": "code",
   "execution_count": 13,
   "metadata": {},
   "outputs": [
    {
     "data": {
      "text/plain": [
       "array([[4, 5],\n",
       "       [2, 2],\n",
       "       [3, 3]])"
      ]
     },
     "execution_count": 13,
     "metadata": {},
     "output_type": "execute_result"
    }
   ],
   "source": [
    "xb[r==1,:]"
   ]
  },
  {
   "cell_type": "code",
   "execution_count": 14,
   "metadata": {},
   "outputs": [
    {
     "data": {
      "text/plain": [
       "array([3.        , 3.33333333])"
      ]
     },
     "execution_count": 14,
     "metadata": {},
     "output_type": "execute_result"
    }
   ],
   "source": [
    "np.average(xb[r==1,:], axis=0)"
   ]
  },
  {
   "cell_type": "code",
   "execution_count": 15,
   "metadata": {},
   "outputs": [
    {
     "data": {
      "text/plain": [
       "[array([0., 1.]), array([3.        , 3.33333333])]"
      ]
     },
     "execution_count": 15,
     "metadata": {},
     "output_type": "execute_result"
    }
   ],
   "source": [
    "[np.average(xb[r==i,:], axis=0) for i in set(list(r))]"
   ]
  },
  {
   "cell_type": "code",
   "execution_count": 16,
   "metadata": {},
   "outputs": [
    {
     "data": {
      "text/plain": [
       "array([[0.        , 1.        ],\n",
       "       [3.        , 3.33333333]])"
      ]
     },
     "execution_count": 16,
     "metadata": {},
     "output_type": "execute_result"
    }
   ],
   "source": [
    "np.array([np.average(xb[r==i,:], axis=0) for i in set(list(r))])"
   ]
  },
  {
   "cell_type": "markdown",
   "metadata": {},
   "source": [
    "### 1.2"
   ]
  },
  {
   "cell_type": "code",
   "execution_count": 13,
   "metadata": {},
   "outputs": [
    {
     "name": "stdout",
     "output_type": "stream",
     "text": [
      "4 3\n",
      "[[ 1 10  1]\n",
      " [40 20 90]\n",
      " [80 45 15]\n",
      " [80 45 15]]\n"
     ]
    }
   ],
   "source": [
    "imx = np.array([[1,10,1],[40,20,90],[80,45,15],[80,45,15]])\n",
    "immu = np.array([13,44,77])\n",
    "\n",
    "ax0, ax1 = imx.shape\n",
    "print(ax0, ax1)\n",
    "imx0 = np.ravel(imx)\n",
    "imxre = imx0.reshape((ax0, ax1))\n",
    "print(imxre)"
   ]
  },
  {
   "cell_type": "code",
   "execution_count": 16,
   "metadata": {},
   "outputs": [
    {
     "name": "stdout",
     "output_type": "stream",
     "text": [
      "44\n"
     ]
    }
   ],
   "source": [
    "def nearest_value(mu, targetn):\n",
    "    # mu: K X 1 numpy array\n",
    "    # targetn: scalar\n",
    "    # reterun nearest value\n",
    "    idx = np.abs(np.asarray(mu) - targetn).argmin()\n",
    "    return mu[idx]\n",
    "\n",
    "print(nearest_value(immu, 30))"
   ]
  },
  {
   "cell_type": "code",
   "execution_count": 19,
   "metadata": {},
   "outputs": [
    {
     "data": {
      "text/plain": [
       "array([[13, 13, 13],\n",
       "       [44, 13, 77],\n",
       "       [77, 44, 13],\n",
       "       [77, 44, 13]])"
      ]
     },
     "execution_count": 19,
     "metadata": {},
     "output_type": "execute_result"
    }
   ],
   "source": [
    "np.array([nearest_value(immu, i) for i in list(imx0)]).reshape((ax0, ax1))"
   ]
  },
  {
   "cell_type": "code",
   "execution_count": 24,
   "metadata": {},
   "outputs": [
    {
     "data": {
      "text/plain": [
       "2"
      ]
     },
     "execution_count": 24,
     "metadata": {},
     "output_type": "execute_result"
    }
   ],
   "source": [
    "z2 = np.zeros((2,2,2))\n",
    "\n",
    "z2a , z2b = z2.shape[0:2]\n",
    "z2a"
   ]
  },
  {
   "cell_type": "markdown",
   "metadata": {},
   "source": [
    "### 1.3"
   ]
  },
  {
   "cell_type": "code",
   "execution_count": 13,
   "metadata": {},
   "outputs": [],
   "source": [
    "        #def fit(self, x, y):\n",
    "        '''\n",
    "            Train the classifier\n",
    "            params:\n",
    "                x - N X D size  numpy array\n",
    "                y - (N,) size numpy array of labels\n",
    "            returns:\n",
    "                None\n",
    "            Stores following attributes:\n",
    "                self.centroids : centroids obtained by kmeans clustering (n_cluster X D numpy array)\n",
    "                self.centroid_labels : labels of each centroid obtained by \n",
    "                    majority voting ((N,) numpy array) \n",
    "        '''\n",
    "\n",
    "        np.random.seed(42)\n",
    "        N, D = x.shape\n",
    "        # TODO:\n",
    "        # - comment/remove the exception.\n",
    "        # - Implement the classifier\n",
    "        # - assign means to centroids\n",
    "        # - assign labels to centroid_labels\n",
    "\n",
    "        # DONOT CHANGE CODE ABOVE THIS LINE\n",
    "        #raise Exception(\n",
    "        #    'Implement fit function in KMeansClassifier class (filename: kmeans.py)')\n",
    "        \n",
    "        \n",
    "\n",
    "        # DONOT CHANGE CODE BELOW THIS LINE"
   ]
  },
  {
   "cell_type": "markdown",
   "metadata": {},
   "source": [
    "## ~ Test ~"
   ]
  },
  {
   "cell_type": "code",
   "execution_count": 10,
   "metadata": {},
   "outputs": [
    {
     "name": "stdout",
     "output_type": "stream",
     "text": [
      "RGB centroids computed in 99 iteration\n"
     ]
    },
    {
     "ename": "Exception",
     "evalue": "Implement transform_image function (filename:kmeansTest.py)",
     "output_type": "error",
     "traceback": [
      "\u001b[1;31m---------------------------------------------------------------------------\u001b[0m",
      "\u001b[1;31mException\u001b[0m                                 Traceback (most recent call last)",
      "\u001b[1;32m<ipython-input-10-548f192dfa3e>\u001b[0m in \u001b[0;36m<module>\u001b[1;34m\u001b[0m\n\u001b[0;32m    162\u001b[0m \u001b[1;32mif\u001b[0m \u001b[0m__name__\u001b[0m \u001b[1;33m==\u001b[0m \u001b[1;34m'__main__'\u001b[0m\u001b[1;33m:\u001b[0m\u001b[1;33m\u001b[0m\u001b[0m\n\u001b[0;32m    163\u001b[0m \u001b[1;31m#    kmeans_toy()\u001b[0m\u001b[1;33m\u001b[0m\u001b[1;33m\u001b[0m\u001b[0m\n\u001b[1;32m--> 164\u001b[1;33m     \u001b[0mkmeans_image_compression\u001b[0m\u001b[1;33m(\u001b[0m\u001b[1;33m)\u001b[0m\u001b[1;33m\u001b[0m\u001b[0m\n\u001b[0m\u001b[0;32m    165\u001b[0m \u001b[1;31m#    kmeans_classification()\u001b[0m\u001b[1;33m\u001b[0m\u001b[1;33m\u001b[0m\u001b[0m\n",
      "\u001b[1;32m<ipython-input-10-548f192dfa3e>\u001b[0m in \u001b[0;36mkmeans_image_compression\u001b[1;34m()\u001b[0m\n\u001b[0;32m     97\u001b[0m \u001b[1;33m\u001b[0m\u001b[0m\n\u001b[0;32m     98\u001b[0m     \u001b[0mprint\u001b[0m\u001b[1;33m(\u001b[0m\u001b[1;34m'RGB centroids computed in {} iteration'\u001b[0m\u001b[1;33m.\u001b[0m\u001b[0mformat\u001b[0m\u001b[1;33m(\u001b[0m\u001b[0mi\u001b[0m\u001b[1;33m)\u001b[0m\u001b[1;33m)\u001b[0m\u001b[1;33m\u001b[0m\u001b[0m\n\u001b[1;32m---> 99\u001b[1;33m     \u001b[0mnew_im\u001b[0m \u001b[1;33m=\u001b[0m \u001b[0mtransform_image\u001b[0m\u001b[1;33m(\u001b[0m\u001b[0mim\u001b[0m\u001b[1;33m,\u001b[0m \u001b[0mcentroids\u001b[0m\u001b[1;33m)\u001b[0m\u001b[1;33m\u001b[0m\u001b[0m\n\u001b[0m\u001b[0;32m    100\u001b[0m \u001b[1;33m\u001b[0m\u001b[0m\n\u001b[0;32m    101\u001b[0m     \u001b[1;32massert\u001b[0m \u001b[0mnew_im\u001b[0m\u001b[1;33m.\u001b[0m\u001b[0mshape\u001b[0m \u001b[1;33m==\u001b[0m \u001b[0mim\u001b[0m\u001b[1;33m.\u001b[0m\u001b[0mshape\u001b[0m\u001b[1;33m,\u001b[0m\u001b[0;31m \u001b[0m\u001b[0;31m\\\u001b[0m\u001b[1;33m\u001b[0m\u001b[0m\n",
      "\u001b[1;32m<ipython-input-10-548f192dfa3e>\u001b[0m in \u001b[0;36mtransform_image\u001b[1;34m(image, code_vectors)\u001b[0m\n\u001b[0;32m     32\u001b[0m     \u001b[1;31m# DONOT CHANGE CODE ABOVE THIS LINE\u001b[0m\u001b[1;33m\u001b[0m\u001b[1;33m\u001b[0m\u001b[0m\n\u001b[0;32m     33\u001b[0m     raise Exception(\n\u001b[1;32m---> 34\u001b[1;33m         'Implement transform_image function (filename:kmeansTest.py)')\n\u001b[0m\u001b[0;32m     35\u001b[0m     \u001b[1;31m# DONOT CHANGE CODE BELOW THIS LINE\u001b[0m\u001b[1;33m\u001b[0m\u001b[1;33m\u001b[0m\u001b[0m\n\u001b[0;32m     36\u001b[0m     \u001b[1;32mreturn\u001b[0m \u001b[0mnew_im\u001b[0m\u001b[1;33m\u001b[0m\u001b[0m\n",
      "\u001b[1;31mException\u001b[0m: Implement transform_image function (filename:kmeansTest.py)"
     ]
    }
   ],
   "source": [
    "import numpy as np\n",
    "from data_loader import toy_dataset, load_digits\n",
    "from sklearn.linear_model import LogisticRegression\n",
    "from sklearn.neighbors import KNeighborsClassifier\n",
    "from utils import Figure\n",
    "\n",
    "import matplotlib\n",
    "matplotlib.use('Agg')\n",
    "import matplotlib.pyplot as plt\n",
    "\n",
    "\n",
    "def transform_image(image, code_vectors):\n",
    "    '''\n",
    "        Quantize image using the code_vectors\n",
    "\n",
    "        Return new image from the image by replacing each RGB value in image with nearest code vectors (nearest in euclidean distance sense)\n",
    "\n",
    "        returns:\n",
    "            numpy array of shape image.shape\n",
    "    '''\n",
    "\n",
    "    assert image.shape[2] == 3 and len(image.shape) == 3, \\\n",
    "        'Image should be a 3-D array with size (?,?,3)'\n",
    "\n",
    "    assert code_vectors.shape[1] == 3 and len(code_vectors.shape) == 2, \\\n",
    "        'code_vectors should be a 2-D array with size (?,3)'\n",
    "\n",
    "    # TODO\n",
    "    # - comment/remove the exception\n",
    "    # - implement the function\n",
    "\n",
    "    # DONOT CHANGE CODE ABOVE THIS LINE\n",
    "    #raise Exception(\n",
    "    #    'Implement transform_image function (filename:kmeansTest.py)')\n",
    "    \n",
    "    def nearest_value(mu, targetn):\n",
    "        # mu: K X 1 numpy array\n",
    "        # targetn: scalar\n",
    "        # reterun nearest value\n",
    "        idx = np.abs(np.asarray(mu) - targetn).argmin()\n",
    "        return mu[idx]\n",
    "    \n",
    "    ax0, ax1, ax2 = imx.shape\n",
    "    new_im = np.zeros((ax0, ax1, ax2))\n",
    "    \n",
    "    for k in range(3):\n",
    "        imx0 = np.ravel(image[:,:,k])\n",
    "        new_im[:,:,k] = np.array([nearest_value(code_vectors, i) for i in list(imx0)]).reshape((ax0, ax1)) \n",
    "    \n",
    "    \n",
    "    # DONOT CHANGE CODE BELOW THIS LINE\n",
    "    return new_im\n",
    "\n",
    "################################################################################\n",
    "# KMeans on 2D toy dataset\n",
    "# The dataset is generated from N gaussian distributions equally spaced on N radius circle.\n",
    "# Here, N=4\n",
    "# KMeans on this dataset should be able to identify the 4 clusters almost clearly.\n",
    "################################################################################\n",
    "\n",
    "\n",
    "def kmeans_toy():\n",
    "    x, y = toy_dataset(4)\n",
    "    fig = Figure()\n",
    "    fig.ax.scatter(x[:, 0], x[:, 1], c=y)\n",
    "    fig.savefig('plots/toy_dataset_real_labels.png')\n",
    "\n",
    "    fig.ax.scatter(x[:, 0], x[:, 1])\n",
    "    fig.savefig('plots/toy_dataset.png')\n",
    "    n_cluster = 4\n",
    "    k_means = KMeans(n_cluster=n_cluster, max_iter=100, e=1e-8)\n",
    "    centroids, membership, i = k_means.fit(x)\n",
    "\n",
    "    assert centroids.shape == (n_cluster, 2), \\\n",
    "        ('centroids for toy dataset should be numpy array of size {} X 2'\n",
    "            .format(n_cluster))\n",
    "\n",
    "    assert membership.shape == (50 * n_cluster,), \\\n",
    "        'membership for toy dataset should be a vector of size 200'\n",
    "\n",
    "    assert type(i) == int and i > 0,  \\\n",
    "        'Number of updates for toy datasets should be integer and positive'\n",
    "\n",
    "    print('[success] : kmeans clustering done on toy dataset')\n",
    "    print('Toy dataset K means clustering converged in {} steps'.format(i))\n",
    "\n",
    "    fig = Figure()\n",
    "    fig.ax.scatter(x[:, 0], x[:, 1], c=membership)\n",
    "    fig.ax.scatter(centroids[:, 0], centroids[:, 1], c='red')\n",
    "    fig.savefig('plots/toy_dataset_predicted_labels.png')\n",
    "\n",
    "    np.savez('results/k_means_toy.npz',\n",
    "             centroids=centroids, step=i, membership=membership, y=y)\n",
    "\n",
    "################################################################################\n",
    "# KMeans for image compression\n",
    "# Here we use k-means for compressing an image\n",
    "# We load an image 'baboon.tiff',  scale it to [0,1] and compress it.\n",
    "# The problem can be rephrased as --- \"each pixel is a 3-D data point (RGB) and we want to map each point to N points or N clusters.\n",
    "################################################################################\n",
    "\n",
    "\n",
    "def kmeans_image_compression():\n",
    "    im = plt.imread('baboon.tiff')\n",
    "    N, M = im.shape[:2]\n",
    "    im = im / 255\n",
    "\n",
    "    # convert to RGB array\n",
    "    data = im.reshape(N * M, 3)\n",
    "\n",
    "    k_means = KMeans(n_cluster=16, max_iter=100, e=1e-6)\n",
    "    centroids, _, i = k_means.fit(data)\n",
    "\n",
    "    print('RGB centroids computed in {} iteration'.format(i))\n",
    "    new_im = transform_image(im, centroids)\n",
    "\n",
    "    assert new_im.shape == im.shape, \\\n",
    "        'Shape of transformed image should be same as image'\n",
    "\n",
    "    mse = np.sum((im - new_im)**2) / (N * M)\n",
    "    print('Mean square error per pixel is {}'.format(mse))\n",
    "    plt.imsave('plots/compressed_baboon.png', new_im)\n",
    "\n",
    "    np.savez('results/k_means_compression.npz', im=im, centroids=centroids,\n",
    "             step=i, new_image=new_im, pixel_error=mse)\n",
    "\n",
    "\n",
    "################################################################################\n",
    "# Kmeans for classification\n",
    "# Here we use k-means for classifying digits\n",
    "# We find N clusters in the data and label each cluster with the maximal class that belongs to that cluster.\n",
    "# Test samples are labeled based on which cluster they belong to\n",
    "################################################################################\n",
    "\n",
    "def kmeans_classification():\n",
    "    x_train, x_test, y_train, y_test = load_digits()\n",
    "\n",
    "    # plot some train data\n",
    "    N = 25\n",
    "    l = int(np.ceil(np.sqrt(N)))\n",
    "\n",
    "    im = np.zeros((10 * l, 10 * l))\n",
    "    for m in range(l):\n",
    "        for n in range(l):\n",
    "            if (m * l + n < N):\n",
    "                im[10 * m:10 * m + 8, 10 * n:10 * n +\n",
    "                    8] = x_train[m * l + n].reshape([8, 8])\n",
    "    plt.imsave('plots/digits.png', im, cmap='Greys')\n",
    "\n",
    "    n_cluster = 30\n",
    "    classifier = KMeansClassifier(n_cluster=n_cluster, max_iter=100, e=1e-6)\n",
    "\n",
    "    classifier.fit(x_train, y_train)\n",
    "    y_hat_test = classifier.predict(x_test)\n",
    "\n",
    "    assert y_hat_test.shape == y_test.shape, \\\n",
    "        'y_hat_test and y_test should have same shape'\n",
    "\n",
    "    print('Prediction accuracy of K-means classifier with {} cluster is {}'.\n",
    "          format(n_cluster, np.mean(y_hat_test == y_test)))\n",
    "\n",
    "    linear_classifier = LogisticRegression()\n",
    "    linear_classifier.fit(x_train, y_train)\n",
    "    y_hat_test = linear_classifier.predict(x_test)\n",
    "    print('Accuracy of logistic regression classifier is {}'\n",
    "          .format(np.mean(y_hat_test == y_test)))\n",
    "\n",
    "    KNNClassifier = KNeighborsClassifier()\n",
    "    KNNClassifier.fit(x_train, y_train)\n",
    "    y_hat_test = KNNClassifier.predict(x_test)\n",
    "    print('Accuracy of Nearest Neighbour classifier is {}'\n",
    "          .format(np.mean(y_hat_test == y_test)))\n",
    "\n",
    "    np.savez('results/k_means_classification.npz',\n",
    "             y_hat_test=y_hat_test, y_test=y_test, centroids=classifier.centroids, centroid_labels=classifier.centroid_labels)\n",
    "\n",
    "\n",
    "if __name__ == '__main__':\n",
    "#    kmeans_toy()\n",
    "    kmeans_image_compression()\n",
    "#    kmeans_classification()\n"
   ]
  },
  {
   "cell_type": "code",
   "execution_count": null,
   "metadata": {},
   "outputs": [],
   "source": []
  },
  {
   "cell_type": "code",
   "execution_count": null,
   "metadata": {},
   "outputs": [],
   "source": []
  }
 ],
 "metadata": {
  "kernelspec": {
   "display_name": "Python 3",
   "language": "python",
   "name": "python3"
  },
  "language_info": {
   "codemirror_mode": {
    "name": "ipython",
    "version": 3
   },
   "file_extension": ".py",
   "mimetype": "text/x-python",
   "name": "python",
   "nbconvert_exporter": "python",
   "pygments_lexer": "ipython3",
   "version": "3.6.6"
  }
 },
 "nbformat": 4,
 "nbformat_minor": 2
}

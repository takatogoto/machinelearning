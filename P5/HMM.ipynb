{
 "cells": [
  {
   "cell_type": "code",
   "execution_count": 1,
   "metadata": {},
   "outputs": [],
   "source": [
    "from __future__ import print_function\n",
    "import json\n",
    "import numpy as np\n",
    "import sys\n",
    "\n",
    "def forward(pi, A, B, O):\n",
    "    \"\"\"\n",
    "    Forward algorithm\n",
    "\n",
    "    Inputs:\n",
    "    - pi: A numpy array of initial probabilities. pi[i] = P(Z_1 = s_i)\n",
    "    - A: A numpy array of transition probabilities. A[i, j] = P(Z_t = s_j|Z_t-1 = s_i)\n",
    "    - B: A numpy array of observation probabilities. B[i, k] = P(X_t = o_k| Z_t = s_i)\n",
    "    - O: A list of observation sequence (in terms of index, not the actual symbol)\n",
    "\n",
    "    Returns:\n",
    "    - alpha: A numpy array alpha[j, t-1] = P(Z_t = s_j, X_{1:t}=x_{1:t})\n",
    "    \"\"\"\n",
    "    S = len(pi)\n",
    "    N = len(O)\n",
    "    alpha = np.zeros([S, N])\n",
    "    ###################################################\n",
    "    # Q3.1 Edit here\n",
    "    ###################################################\n",
    "    # alpha[j, t-1] = b_s,x_t\n",
    "    \n",
    "    # initialize\n",
    "    #for j in range(S):\n",
    "    #    alpha[j, 0] = pi[j] * B[j, O[0]]\n",
    "    alpha[:, 0] = pi * B[:, O[0]]\n",
    "    \n",
    "    for t in range(N-1):\n",
    "        for j in range(S):\n",
    "            #alpha[j, t+1] = B[j, O[t+1]] * np.sum(np.multiply(A[:, j], alpha[j, t]))\n",
    "            alpha[j, t+1] = B[j, O[t+1]] * np.sum(A[:, j] * alpha[:, t])\n",
    "\n",
    "    return alpha\n",
    "\n",
    "\n",
    "def backward(pi, A, B, O):\n",
    "    \"\"\"\n",
    "    Backward algorithm\n",
    "\n",
    "    Inputs:\n",
    "    - pi: A numpy array of initial probabilities. pi[i] = P(Z_1 = s_i)\n",
    "    - A: A numpy array of transition probabilities. A[i, j] = P(Z_t = s_j|Z_t-1 = s_i)\n",
    "    - B: A numpy array of observation probabilities. B[i, k] = P(X_t = o_k| Z_t = s_i)\n",
    "    - O: A list of observation sequence (in terms of index, not the actual symbol)\n",
    "\n",
    "    Returns:\n",
    "    - beta: A numpy array beta[j, t-1] = P(X_{t+1:N}=x_{t+1:N} | Z_t = s_j)\n",
    "    \"\"\"\n",
    "    S = len(pi)\n",
    "    N = len(O)\n",
    "    beta = np.zeros([S, N])\n",
    "    ###################################################\n",
    "    # Q3.1 Edit here\n",
    "    ###################################################\n",
    "\n",
    "    # initialize\n",
    "    beta[:, N-1] = np.ones(S)\n",
    "\n",
    "    for t in range(N-1)[::-1]:\n",
    "        print(t)\n",
    "        for j in range(S):\n",
    "            #beta[j, t] = np.sum(A[:, j] * B[:, O[t+1]] * beta[:, t+1])\n",
    "            beta[j, t] = np.sum(A[j, :] * B[:, O[t+1]] * beta[:, t+1])\n",
    "            \n",
    "    return beta\n",
    "\n",
    "def seqprob_forward(alpha):\n",
    "    \"\"\"\n",
    "    Total probability of observing the whole sequence using the forward messages\n",
    "\n",
    "    Inputs:\n",
    "    - alpha: A numpy array alpha[j, t-1] = P(Z_t = s_j, X_{1:t}=x_{1:t})\n",
    "\n",
    "    Returns:\n",
    "    - prob: A float number of P(X_{1:N}=O)\n",
    "    \"\"\"\n",
    "    prob = 0\n",
    "    ###################################################\n",
    "    # Q3.2 Edit here\n",
    "    ###################################################\n",
    "    \n",
    "    return prob\n",
    "\n",
    "\n",
    "def seqprob_backward(beta, pi, B, O):\n",
    "    \"\"\"\n",
    "    Total probability of observing the whole sequence using the backward messages\n",
    "\n",
    "    Inputs:\n",
    "    - beta: A numpy array beta: A numpy array beta[j, t-1] = P(X_{t+1:N}=x_{t+1:N} | Z_t = s_j)\n",
    "    - pi: A numpy array of initial probabilities. pi[i] = P(Z_1 = s_i)\n",
    "    - B: A numpy array of observation probabilities. B[i, k] = P(X_t = o_k| Z_t = s_i)\n",
    "    - O: A list of observation sequence\n",
    "            (in terms of the observation index, not the actual symbol)\n",
    "\n",
    "    Returns:\n",
    "    - prob: A float number of P(X_{1:N}=O)\n",
    "    \"\"\"\n",
    "    prob = 0\n",
    "    ###################################################\n",
    "    # Q3.2 Edit here\n",
    "    ###################################################\n",
    "    \n",
    "    return prob\n",
    "\n",
    "def viterbi(pi, A, B, O):\n",
    "    \"\"\"\n",
    "    Viterbi algorithm\n",
    "\n",
    "    Inputs:\n",
    "    - pi: A numpy array of initial probabilities. pi[i] = P(Z_1 = s_i)\n",
    "    - A: A numpy array of transition probabilities. A[i, j] = P(Z_t = s_j|Z_t-1 = s_i)\n",
    "    - B: A numpy array of observation probabilities. B[i, k] = P(X_t = o_k| Z_t = s_i)\n",
    "    - O: A list of observation sequence (in terms of index, not the actual symbol)\n",
    "\n",
    "    Returns:\n",
    "    - path: A list of the most likely hidden state path (in terms of the state index)\n",
    "    \"\"\"\n",
    "    path = []\n",
    "    ###################################################\n",
    "    # Q3.3 Edit here\n",
    "    ###################################################\n",
    "    \n",
    "    return path\n",
    "\n",
    "\n",
    "##### DO NOT MODIFY ANYTHING BELOW THIS ###################\n",
    "def main():\n",
    "    #model_file = sys.argv[1]\n",
    "    #Osymbols = sys.argv[2]\n",
    "    model_file = 'hmm_model.json'\n",
    "    Osymbols = 'AGCGTA'\n",
    "    \n",
    "    #### load data ####\n",
    "    with open(model_file, 'r') as f:\n",
    "        data = json.load(f)\n",
    "    A = np.array(data['A'])\n",
    "    B = np.array(data['B'])\n",
    "    pi = np.array(data['pi'])\n",
    "    #### observation symbols #####\n",
    "    obs_symbols = data['observations']\n",
    "    #### state symbols #####\n",
    "    states_symbols = data['states']\n",
    "\n",
    "    N = len(Osymbols)\n",
    "    O = [obs_symbols[j] for j in Osymbols]\n",
    "\n",
    "    alpha = forward(pi, A, B, O)\n",
    "    beta = backward(pi, A, B, O)\n",
    "\n",
    "    prob1 = seqprob_forward(alpha)\n",
    "    prob2 = seqprob_backward(beta, pi, B, O)\n",
    "    print('Total log probability of observing the sequence %s is %g, %g.' % (Osymbols, np.log(prob1), np.log(prob2)))\n",
    "\n",
    "    viterbi_path = viterbi(pi, A, B, O)\n",
    "\n",
    "    print('Viterbi best path is ')\n",
    "    for j in viterbi_path:\n",
    "        print(states_symbols[j], end=' ')\n",
    "\n",
    "#if __name__ == \"__main__\":\n",
    "#    main()"
   ]
  },
  {
   "cell_type": "code",
   "execution_count": 2,
   "metadata": {},
   "outputs": [],
   "source": [
    "    model_file = 'hmm_model.json'\n",
    "    Osymbols = 'AGCGTA'\n",
    "    \n",
    "    #### load data ####\n",
    "    with open(model_file, 'r') as f:\n",
    "        data = json.load(f)\n",
    "    A = np.array(data['A'])\n",
    "    B = np.array(data['B'])\n",
    "    pi = np.array(data['pi'])\n",
    "    #### observation symbols #####\n",
    "    obs_symbols = data['observations']\n",
    "    #### state symbols #####\n",
    "    states_symbols = data['states']\n",
    "\n",
    "    N = len(Osymbols)\n",
    "    O = [obs_symbols[j] for j in Osymbols]"
   ]
  },
  {
   "cell_type": "markdown",
   "metadata": {},
   "source": [
    "## 1.1"
   ]
  },
  {
   "cell_type": "code",
   "execution_count": 3,
   "metadata": {},
   "outputs": [
    {
     "name": "stdout",
     "output_type": "stream",
     "text": [
      "t is 4 X[t+1] is  0\n",
      "t is 3 X[t+1] is  3\n",
      "t is 2 X[t+1] is  2\n",
      "t is 1 X[t+1] is  1\n",
      "t is 0 X[t+1] is  2\n"
     ]
    }
   ],
   "source": [
    "    #def forward(pi, A, B, O):\n",
    "    \"\"\"\n",
    "    Forward algorithm\n",
    "\n",
    "    Inputs:\n",
    "    - pi: A numpy array of initial probabilities. pi[i] = P(Z_1 = s_i)\n",
    "    - A: A numpy array of transition probabilities. A[i, j] = P(Z_t = s_j|Z_t-1 = s_i)\n",
    "    - B: A numpy array of observation probabilities. B[i, k] = P(X_t = o_k| Z_t = s_i)\n",
    "    - O: A list of observation sequence (in terms of index, not the actual symbol)\n",
    "\n",
    "    Returns:\n",
    "    - alpha: A numpy array alpha[j, t-1] = P(Z_t = s_j, X_{1:t}=x_{1:t})\n",
    "    \"\"\"    \n",
    "    S = len(pi)\n",
    "    N = len(O)\n",
    "    alpha = np.zeros([S, N])\n",
    "    ###################################################\n",
    "    # Q3.1 Edit here\n",
    "    ###################################################\n",
    "    # alpha[j, t-1] = b_s,x_t\n",
    "    \n",
    "    # initialize\n",
    "    alpha[:, 0] = pi * B[:, O[0]]\n",
    "        \n",
    "    for t in range(N-1):\n",
    "        for j in range(S):\n",
    "            #alpha[j, t+1] = B[j, O[t+1]] * np.sum(A[:, j] * alpha[j, t])\n",
    "            alpha[j, t+1] = B[j, O[t+1]] * np.sum(A[:, j] * alpha[:, t])\n",
    "        #alpha[:, t+1] = B[:, O[t+1]] * np.sum(A[:, j] * alpha[:, t])\n",
    "            \n",
    "    #def backward(pi, A, B, O):\n",
    "    \"\"\"\n",
    "    Backward algorithm\n",
    "\n",
    "    Inputs:\n",
    "    - pi: A numpy array of initial probabilities. pi[i] = P(Z_1 = s_i)\n",
    "    - A: A numpy array of transition probabilities. A[i, j] = P(Z_t = s_j|Z_t-1 = s_i)\n",
    "    - B: A numpy array of observation probabilities. B[i, k] = P(X_t = o_k| Z_t = s_i)\n",
    "    - O: A list of observation sequence (in terms of index, not the actual symbol)\n",
    "\n",
    "    Returns:\n",
    "    - beta: A numpy array beta[j, t-1] = P(X_{t+1:N}=x_{t+1:N} | Z_t = s_j)\n",
    "    \"\"\"\n",
    "    #S = len(pi)\n",
    "    #N = len(O)\n",
    "    beta = np.zeros([S, N])\n",
    "    ###################################################\n",
    "    # Q3.1 Edit here\n",
    "    ###################################################\n",
    "    # initialize\n",
    "    beta[:, -1] = np.ones(S)\n",
    "\n",
    "    for t in range(N-1)[::-1]:\n",
    "        print('t is', t,'X[t+1] is ', O[t+1])\n",
    "        for j in range(S):\n",
    "            beta[j, t] = np.sum(A[j, :] * B[:, O[t+1]] * beta[:, t+1])"
   ]
  },
  {
   "cell_type": "code",
   "execution_count": 4,
   "metadata": {},
   "outputs": [
    {
     "data": {
      "text/plain": [
       "0.4"
      ]
     },
     "execution_count": 4,
     "metadata": {},
     "output_type": "execute_result"
    }
   ],
   "source": [
    "B[0, O[5]]"
   ]
  },
  {
   "cell_type": "code",
   "execution_count": 5,
   "metadata": {},
   "outputs": [
    {
     "data": {
      "text/plain": [
       "array([[2.80000000e-01, 9.92000000e-02, 8.67200000e-03, 4.25728000e-03,\n",
       "        3.98924800e-04, 2.10532352e-04],\n",
       "       [6.00000000e-02, 1.84000000e-02, 9.26400000e-03, 1.45856000e-03,\n",
       "        5.17977600e-04, 7.81143040e-05]])"
      ]
     },
     "execution_count": 5,
     "metadata": {},
     "output_type": "execute_result"
    }
   ],
   "source": [
    "alpha"
   ]
  },
  {
   "cell_type": "code",
   "execution_count": 6,
   "metadata": {},
   "outputs": [
    {
     "data": {
      "text/plain": [
       "array([0.2, 0.6])"
      ]
     },
     "execution_count": 6,
     "metadata": {},
     "output_type": "execute_result"
    }
   ],
   "source": [
    "A[:, j]"
   ]
  },
  {
   "cell_type": "code",
   "execution_count": 7,
   "metadata": {},
   "outputs": [
    {
     "data": {
      "text/plain": [
       "array([[2.80000000e-01, 9.92000000e-02, 8.67200000e-03, 4.25728000e-03,\n",
       "        3.98924800e-04, 2.10532352e-04],\n",
       "       [6.00000000e-02, 1.84000000e-02, 9.26400000e-03, 1.45856000e-03,\n",
       "        5.17977600e-04, 7.81143040e-05]])"
      ]
     },
     "execution_count": 7,
     "metadata": {},
     "output_type": "execute_result"
    }
   ],
   "source": [
    "alpha"
   ]
  },
  {
   "cell_type": "code",
   "execution_count": 8,
   "metadata": {},
   "outputs": [
    {
     "data": {
      "text/plain": [
       "array([[8.653056e-04, 2.279040e-03, 1.718400e-02, 4.560000e-02,\n",
       "        3.600000e-01, 1.000000e+00],\n",
       "       [7.726848e-04, 3.400320e-03, 1.507200e-02, 6.480000e-02,\n",
       "        2.800000e-01, 1.000000e+00]])"
      ]
     },
     "execution_count": 8,
     "metadata": {},
     "output_type": "execute_result"
    }
   ],
   "source": [
    "beta"
   ]
  },
  {
   "cell_type": "code",
   "execution_count": 9,
   "metadata": {},
   "outputs": [
    {
     "name": "stdout",
     "output_type": "stream",
     "text": [
      "[[0.8 0.2]\n",
      " [0.4 0.6]]\n",
      "<class 'numpy.ndarray'>\n"
     ]
    }
   ],
   "source": [
    "print(A)\n",
    "print(type(A))"
   ]
  },
  {
   "cell_type": "code",
   "execution_count": 10,
   "metadata": {},
   "outputs": [
    {
     "name": "stdout",
     "output_type": "stream",
     "text": [
      "[[0.4 0.1 0.4 0.1]\n",
      " [0.2 0.3 0.2 0.3]]\n",
      "<class 'numpy.ndarray'>\n"
     ]
    }
   ],
   "source": [
    "print(B)\n",
    "print(type(B))"
   ]
  },
  {
   "cell_type": "code",
   "execution_count": 11,
   "metadata": {},
   "outputs": [
    {
     "name": "stdout",
     "output_type": "stream",
     "text": [
      "[0.7 0.3]\n",
      "<class 'numpy.ndarray'>\n"
     ]
    }
   ],
   "source": [
    "print(pi)\n",
    "print(type(pi))"
   ]
  },
  {
   "cell_type": "code",
   "execution_count": 12,
   "metadata": {},
   "outputs": [
    {
     "name": "stdout",
     "output_type": "stream",
     "text": [
      "{'A': 0, 'C': 1, 'T': 3, 'G': 2}\n",
      "<class 'dict'>\n"
     ]
    }
   ],
   "source": [
    "print(obs_symbols)\n",
    "print(type(obs_symbols))"
   ]
  },
  {
   "cell_type": "code",
   "execution_count": 13,
   "metadata": {},
   "outputs": [
    {
     "name": "stdout",
     "output_type": "stream",
     "text": [
      "['1', '2']\n",
      "<class 'list'>\n"
     ]
    }
   ],
   "source": [
    "print(states_symbols)\n",
    "print(type(states_symbols))"
   ]
  },
  {
   "cell_type": "code",
   "execution_count": 14,
   "metadata": {},
   "outputs": [
    {
     "name": "stdout",
     "output_type": "stream",
     "text": [
      "6\n",
      "<class 'int'>\n"
     ]
    }
   ],
   "source": [
    "print(N)\n",
    "print(type(N))"
   ]
  },
  {
   "cell_type": "code",
   "execution_count": 15,
   "metadata": {},
   "outputs": [
    {
     "name": "stdout",
     "output_type": "stream",
     "text": [
      "[0, 2, 1, 2, 3, 0]\n",
      "<class 'list'>\n"
     ]
    }
   ],
   "source": [
    "print(O)\n",
    "print(type(O))"
   ]
  },
  {
   "cell_type": "code",
   "execution_count": 16,
   "metadata": {},
   "outputs": [
    {
     "data": {
      "text/plain": [
       "array([0.4, 0.1, 0.4, 0.1])"
      ]
     },
     "execution_count": 16,
     "metadata": {},
     "output_type": "execute_result"
    }
   ],
   "source": [
    "B[0,:]"
   ]
  },
  {
   "cell_type": "code",
   "execution_count": 17,
   "metadata": {},
   "outputs": [
    {
     "data": {
      "text/plain": [
       "2"
      ]
     },
     "execution_count": 17,
     "metadata": {},
     "output_type": "execute_result"
    }
   ],
   "source": [
    "S"
   ]
  },
  {
   "cell_type": "code",
   "execution_count": 18,
   "metadata": {},
   "outputs": [
    {
     "data": {
      "text/plain": [
       "(2, 6)"
      ]
     },
     "execution_count": 18,
     "metadata": {},
     "output_type": "execute_result"
    }
   ],
   "source": [
    "alpha.shape"
   ]
  },
  {
   "cell_type": "code",
   "execution_count": 19,
   "metadata": {},
   "outputs": [
    {
     "data": {
      "text/plain": [
       "[0, 2, 1, 2, 3, 0]"
      ]
     },
     "execution_count": 19,
     "metadata": {},
     "output_type": "execute_result"
    }
   ],
   "source": [
    "O"
   ]
  },
  {
   "cell_type": "code",
   "execution_count": 20,
   "metadata": {},
   "outputs": [
    {
     "name": "stdout",
     "output_type": "stream",
     "text": [
      "0\n",
      "0\n"
     ]
    }
   ],
   "source": [
    "print(O[0])\n",
    "print(O[-1])"
   ]
  },
  {
   "cell_type": "code",
   "execution_count": 21,
   "metadata": {},
   "outputs": [
    {
     "name": "stdout",
     "output_type": "stream",
     "text": [
      "0.4\n",
      "[0.4 0.2]\n"
     ]
    }
   ],
   "source": [
    "print(B[0,O[0]])\n",
    "print(B[:,O[0]])"
   ]
  },
  {
   "cell_type": "code",
   "execution_count": 22,
   "metadata": {},
   "outputs": [
    {
     "data": {
      "text/plain": [
       "array([0.224, 0.024])"
      ]
     },
     "execution_count": 22,
     "metadata": {},
     "output_type": "execute_result"
    }
   ],
   "source": [
    "np.multiply(A[:, 0], alpha[:, 0])"
   ]
  },
  {
   "cell_type": "code",
   "execution_count": 23,
   "metadata": {},
   "outputs": [
    {
     "data": {
      "text/plain": [
       "array([0.8, 0.4])"
      ]
     },
     "execution_count": 23,
     "metadata": {},
     "output_type": "execute_result"
    }
   ],
   "source": [
    "A[:, 0]"
   ]
  },
  {
   "cell_type": "code",
   "execution_count": 24,
   "metadata": {},
   "outputs": [
    {
     "data": {
      "text/plain": [
       "array([0.28, 0.06])"
      ]
     },
     "execution_count": 24,
     "metadata": {},
     "output_type": "execute_result"
    }
   ],
   "source": [
    "alpha[:, 0]"
   ]
  },
  {
   "cell_type": "code",
   "execution_count": 25,
   "metadata": {},
   "outputs": [
    {
     "name": "stdout",
     "output_type": "stream",
     "text": [
      "4\n",
      "3\n",
      "2\n",
      "1\n",
      "0\n"
     ]
    }
   ],
   "source": [
    "for n in range(N-1)[::-1]:\n",
    "    print(n)"
   ]
  },
  {
   "cell_type": "code",
   "execution_count": 26,
   "metadata": {},
   "outputs": [],
   "source": [
    "XA = np.array([1, -1, 1])\n",
    "XB = np.array([2, 3, 4])\n",
    "XC = np.array([4, 3, 2])\n"
   ]
  },
  {
   "cell_type": "code",
   "execution_count": 27,
   "metadata": {},
   "outputs": [
    {
     "data": {
      "text/plain": [
       "array([ 2, -3,  4])"
      ]
     },
     "execution_count": 27,
     "metadata": {},
     "output_type": "execute_result"
    }
   ],
   "source": [
    "np.multiply(XA, XB)\n"
   ]
  },
  {
   "cell_type": "code",
   "execution_count": 28,
   "metadata": {},
   "outputs": [
    {
     "data": {
      "text/plain": [
       "array([8, 9, 8])"
      ]
     },
     "execution_count": 28,
     "metadata": {},
     "output_type": "execute_result"
    }
   ],
   "source": [
    "np.multiply(XB, XC)"
   ]
  },
  {
   "cell_type": "code",
   "execution_count": 29,
   "metadata": {},
   "outputs": [
    {
     "data": {
      "text/plain": [
       "array([2, 3, 4])"
      ]
     },
     "execution_count": 29,
     "metadata": {},
     "output_type": "execute_result"
    }
   ],
   "source": [
    "XB"
   ]
  },
  {
   "cell_type": "code",
   "execution_count": 30,
   "metadata": {},
   "outputs": [
    {
     "data": {
      "text/plain": [
       "array([4, 3, 2])"
      ]
     },
     "execution_count": 30,
     "metadata": {},
     "output_type": "execute_result"
    }
   ],
   "source": [
    "XC"
   ]
  },
  {
   "cell_type": "code",
   "execution_count": 31,
   "metadata": {},
   "outputs": [
    {
     "data": {
      "text/plain": [
       "array([ 8, -9,  8])"
      ]
     },
     "execution_count": 31,
     "metadata": {},
     "output_type": "execute_result"
    }
   ],
   "source": [
    "XA * XB * XC"
   ]
  },
  {
   "cell_type": "markdown",
   "metadata": {},
   "source": [
    "## 1.2"
   ]
  },
  {
   "cell_type": "code",
   "execution_count": 32,
   "metadata": {},
   "outputs": [
    {
     "name": "stdout",
     "output_type": "stream",
     "text": [
      "0.00028864665600000013\n"
     ]
    }
   ],
   "source": [
    "    #def seqprob_forward(alpha):\n",
    "    \"\"\"\n",
    "    Total probability of observing the whole sequence using the forward messages\n",
    "\n",
    "    Inputs:\n",
    "    - alpha: A numpy array alpha[j, t-1] = P(Z_t = s_j, X_{1:t}=x_{1:t})\n",
    "\n",
    "    Returns:\n",
    "    - prob: A float number of P(X_{1:N}=O)\n",
    "    \"\"\"\n",
    "    prob = 0\n",
    "    ###################################################\n",
    "    # Q3.2 Edit here\n",
    "    ###################################################\n",
    "    prob = np.sum(alpha[:, -1])\n",
    "    \n",
    "    print(prob)"
   ]
  },
  {
   "cell_type": "code",
   "execution_count": 33,
   "metadata": {},
   "outputs": [
    {
     "name": "stdout",
     "output_type": "stream",
     "text": [
      "0.0002886466560000002\n"
     ]
    }
   ],
   "source": [
    "    #def seqprob_backward(beta, pi, B, O):\n",
    "    \"\"\"\n",
    "    Total probability of observing the whole sequence using the backward messages\n",
    "\n",
    "    Inputs:\n",
    "    - beta: A numpy array beta: A numpy array beta[j, t-1] = P(X_{t+1:N}=x_{t+1:N} | Z_t = s_j)\n",
    "    - pi: A numpy array of initial probabilities. pi[i] = P(Z_1 = s_i)\n",
    "    - B: A numpy array of observation probabilities. B[i, k] = P(X_t = o_k| Z_t = s_i)\n",
    "    - O: A list of observation sequence\n",
    "            (in terms of the observation index, not the actual symbol)\n",
    "\n",
    "    Returns:\n",
    "    - prob: A float number of P(X_{1:N}=O)\n",
    "    \"\"\"\n",
    "    prob = 0\n",
    "    ###################################################\n",
    "    # Q3.2 Edit here\n",
    "    ###################################################\n",
    "    # B[j, O[0]] * pi(j) * beta[j, 0]\n",
    "    prob = np.sum(B[:, O[0]] * pi * beta[:, 0])\n",
    "    #    return prob\n",
    "    print(prob)"
   ]
  },
  {
   "cell_type": "markdown",
   "metadata": {},
   "source": [
    "### confirm"
   ]
  },
  {
   "cell_type": "markdown",
   "metadata": {},
   "source": [
    "$$\\gamma = \\alpha_s(t)\\beta_s(t) $$\n",
    "$$P(X_{1:T}=x_{1:T}) =\\sum_{s}\\alpha_s(t)\\beta_s(t)$$  for all t"
   ]
  },
  {
   "cell_type": "code",
   "execution_count": 34,
   "metadata": {},
   "outputs": [
    {
     "name": "stdout",
     "output_type": "stream",
     "text": [
      "0.0002886466560000002\n",
      "0.00028864665600000013\n",
      "0.00028864665600000013\n",
      "0.00028864665600000013\n",
      "0.00028864665600000013\n",
      "0.00028864665600000013\n"
     ]
    }
   ],
   "source": [
    "for n in range(N):\n",
    "    print(np.sum(alpha[:,n] * beta[:,n]))"
   ]
  },
  {
   "cell_type": "code",
   "execution_count": 35,
   "metadata": {},
   "outputs": [
    {
     "data": {
      "text/plain": [
       "0.0008653056000000007"
      ]
     },
     "execution_count": 35,
     "metadata": {},
     "output_type": "execute_result"
    }
   ],
   "source": [
    "j = 0\n",
    "beta[j,0]"
   ]
  },
  {
   "cell_type": "code",
   "execution_count": 36,
   "metadata": {},
   "outputs": [
    {
     "data": {
      "text/plain": [
       "0.7"
      ]
     },
     "execution_count": 36,
     "metadata": {},
     "output_type": "execute_result"
    }
   ],
   "source": [
    "pi[j]"
   ]
  },
  {
   "cell_type": "code",
   "execution_count": 37,
   "metadata": {},
   "outputs": [
    {
     "data": {
      "text/plain": [
       "0.0002886466560000002"
      ]
     },
     "execution_count": 37,
     "metadata": {},
     "output_type": "execute_result"
    }
   ],
   "source": [
    "np.sum(alpha[:,0] * beta[:,0])"
   ]
  },
  {
   "cell_type": "code",
   "execution_count": 38,
   "metadata": {},
   "outputs": [
    {
     "data": {
      "text/plain": [
       "array([0.4, 0.1, 0.4, 0.1])"
      ]
     },
     "execution_count": 38,
     "metadata": {},
     "output_type": "execute_result"
    }
   ],
   "source": [
    "B[O[0]]"
   ]
  },
  {
   "cell_type": "markdown",
   "metadata": {},
   "source": [
    "## 1.3"
   ]
  },
  {
   "cell_type": "code",
   "execution_count": 39,
   "metadata": {},
   "outputs": [
    {
     "name": "stdout",
     "output_type": "stream",
     "text": [
      "0 [0.224 0.024]\n",
      "1 [0.056 0.036]\n",
      "0 [0.07168 0.00448]\n",
      "1 [0.01792 0.00672]\n",
      "0 [0.0057344 0.0021504]\n",
      "1 [0.0014336 0.0032256]\n",
      "0 [0.00183501 0.00025805]\n",
      "1 [0.00045875 0.00038707]\n",
      "0 [1.4680064e-04 5.5050240e-05]\n",
      "1 [3.670016e-05 8.257536e-05]\n",
      "first z is  [-1 -1 -1 -1 -1  0]\n",
      "t is  4\n",
      "z*t is 0\n",
      "next z is  [-1 -1 -1 -1  0  0]\n",
      "t is  3\n",
      "z*t is 0\n",
      "next z is  [-1 -1 -1  0  0  0]\n",
      "t is  2\n",
      "z*t is 0\n",
      "next z is  [-1 -1  0  0  0  0]\n",
      "t is  1\n",
      "z*t is 0\n",
      "next z is  [-1  0  0  0  0  0]\n",
      "t is  0\n",
      "z*t is 0\n",
      "next z is  [0 0 0 0 0 0]\n"
     ]
    }
   ],
   "source": [
    "    #def viterbi(pi, A, B, O):\n",
    "    \"\"\"\n",
    "    Viterbi algorithm\n",
    "\n",
    "    Inputs:\n",
    "    - pi: A numpy array of initial probabilities. pi[i] = P(Z_1 = s_i)\n",
    "    - A: A numpy array of transition probabilities. A[i, j] = P(Z_t = s_j|Z_t-1 = s_i)\n",
    "    - B: A numpy array of observation probabilities. B[i, k] = P(X_t = o_k| Z_t = s_i)\n",
    "    - O: A list of observation sequence (in terms of index, not the actual symbol)\n",
    "\n",
    "    Returns:\n",
    "    - path: A list of the most likely hidden state path (in terms of the state index)\n",
    "    \"\"\"\n",
    "    path = []\n",
    "    ###################################################\n",
    "    # Q3.3 Edit here\n",
    "    ###################################################\n",
    "    S = len(pi)\n",
    "    N = len(O)\n",
    "    \n",
    "    \"\"\"\n",
    "    - delta: A numpy array of the most likely path for time 1 : t ending at state s\n",
    "        delta[s, t] = max P(Z_t = s, Z_1:t-1 = z_1:t-1, X_1:t = x_1:t)\n",
    "    - Delta: A numpy array of argmax of delta Delta = argmax(delta[s, t])\n",
    "    \"\"\"\n",
    "    delta = np.zeros([S, N])\n",
    "    Delta = -np.ones([S, N]).astype(int)\n",
    "    \n",
    "    delta[:, 0] = pi * B[:, O[0]]\n",
    "    for t in range(N-1):\n",
    "        for s in range(S):\n",
    "            delta[s, t+1] = B[s, O[t+1]] * np.max(A[:, s] * delta[:, t])\n",
    "            Delta[s, t+1] = np.argmax(A[:, s] * delta[:, t])\n",
    "            #delta[s, t+1] = B[s, O[t+1]] * np.max(A[s, :] * delta[:, t])\n",
    "            #Delta[s, t+1] = np.argmax(A[s, :] * delta[:, t])\n",
    "            print(s, A[:, s] * delta[:, t])\n",
    "    \n",
    "    z = -np.ones(N).astype(int)\n",
    "    z[-1] = np.argmax(delta[:, -1]).astype(int)\n",
    "    print('first z is ', z)\n",
    "    for t in range(N-1)[::-1]:\n",
    "        print('t is ', t)\n",
    "        print('z*t is', z[t+1])\n",
    "        \n",
    "        z[t] = Delta[z[t+1], t+1]\n",
    "        print('next z is ', z)\n",
    "    path = z.tolist()\n",
    "    # return path"
   ]
  },
  {
   "cell_type": "code",
   "execution_count": 40,
   "metadata": {},
   "outputs": [
    {
     "data": {
      "text/plain": [
       "array([0.7, 0.3])"
      ]
     },
     "execution_count": 40,
     "metadata": {},
     "output_type": "execute_result"
    }
   ],
   "source": [
    "pi"
   ]
  },
  {
   "cell_type": "code",
   "execution_count": 41,
   "metadata": {},
   "outputs": [
    {
     "data": {
      "text/plain": [
       "array([[0.8, 0.2],\n",
       "       [0.4, 0.6]])"
      ]
     },
     "execution_count": 41,
     "metadata": {},
     "output_type": "execute_result"
    }
   ],
   "source": [
    "A"
   ]
  },
  {
   "cell_type": "code",
   "execution_count": 42,
   "metadata": {},
   "outputs": [
    {
     "name": "stdout",
     "output_type": "stream",
     "text": [
      "[0.224 0.024]\n",
      "0.22399999999999998\n"
     ]
    }
   ],
   "source": [
    "s = 0\n",
    "print(A[:, s] * delta[:, 0])\n",
    "print(np.max(A[:, s] * delta[:, 0]))"
   ]
  },
  {
   "cell_type": "code",
   "execution_count": 43,
   "metadata": {},
   "outputs": [
    {
     "name": "stdout",
     "output_type": "stream",
     "text": [
      "0\n",
      "5.8720256000000014e-05\n",
      "1.6515072e-05\n"
     ]
    }
   ],
   "source": [
    "print(np.argmax(delta[:, -1]))\n",
    "print(delta[0,-1])\n",
    "print(delta[1,-1])"
   ]
  },
  {
   "cell_type": "code",
   "execution_count": 44,
   "metadata": {},
   "outputs": [
    {
     "data": {
      "text/plain": [
       "array([[-1,  0,  0,  0,  0,  0],\n",
       "       [-1,  0,  0,  1,  0,  1]])"
      ]
     },
     "execution_count": 44,
     "metadata": {},
     "output_type": "execute_result"
    }
   ],
   "source": [
    "Delta"
   ]
  },
  {
   "cell_type": "code",
   "execution_count": 45,
   "metadata": {},
   "outputs": [
    {
     "data": {
      "text/plain": [
       "array([[2.8000000e-01, 8.9600000e-02, 7.1680000e-03, 2.2937600e-03,\n",
       "        1.8350080e-04, 5.8720256e-05],\n",
       "       [6.0000000e-02, 1.1200000e-02, 5.3760000e-03, 6.4512000e-04,\n",
       "        1.3762560e-04, 1.6515072e-05]])"
      ]
     },
     "execution_count": 45,
     "metadata": {},
     "output_type": "execute_result"
    }
   ],
   "source": [
    "delta"
   ]
  },
  {
   "cell_type": "code",
   "execution_count": 46,
   "metadata": {},
   "outputs": [
    {
     "data": {
      "text/plain": [
       "array([0, 0, 0, 0, 0, 0])"
      ]
     },
     "execution_count": 46,
     "metadata": {},
     "output_type": "execute_result"
    }
   ],
   "source": [
    "z"
   ]
  },
  {
   "cell_type": "code",
   "execution_count": 47,
   "metadata": {},
   "outputs": [
    {
     "data": {
      "text/plain": [
       "numpy.int64"
      ]
     },
     "execution_count": 47,
     "metadata": {},
     "output_type": "execute_result"
    }
   ],
   "source": [
    "type(z[5])"
   ]
  },
  {
   "cell_type": "code",
   "execution_count": 48,
   "metadata": {},
   "outputs": [
    {
     "data": {
      "text/plain": [
       "[0, 0, 0, 0, 0, 0]"
      ]
     },
     "execution_count": 48,
     "metadata": {},
     "output_type": "execute_result"
    }
   ],
   "source": [
    "path"
   ]
  },
  {
   "cell_type": "code",
   "execution_count": 49,
   "metadata": {},
   "outputs": [
    {
     "data": {
      "text/plain": [
       "array([0.28, 0.06])"
      ]
     },
     "execution_count": 49,
     "metadata": {},
     "output_type": "execute_result"
    }
   ],
   "source": [
    "pi * B[:, O[0]]"
   ]
  },
  {
   "cell_type": "code",
   "execution_count": null,
   "metadata": {},
   "outputs": [],
   "source": []
  }
 ],
 "metadata": {
  "kernelspec": {
   "display_name": "Python 3",
   "language": "python",
   "name": "python3"
  },
  "language_info": {
   "codemirror_mode": {
    "name": "ipython",
    "version": 3
   },
   "file_extension": ".py",
   "mimetype": "text/x-python",
   "name": "python",
   "nbconvert_exporter": "python",
   "pygments_lexer": "ipython3",
   "version": "3.6.6"
  }
 },
 "nbformat": 4,
 "nbformat_minor": 2
}

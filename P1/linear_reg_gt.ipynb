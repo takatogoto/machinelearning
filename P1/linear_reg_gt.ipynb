{
 "cells": [
  {
   "cell_type": "code",
   "execution_count": 12,
   "metadata": {},
   "outputs": [
    {
     "name": "stdout",
     "output_type": "stream",
     "text": [
      "======== Question 3.1 Linear Regression ========\n",
      "dimensionality of the model parameter is 12.\n",
      "model parameter is  [ 2.166e+02  1.145e-01 -1.824e+00 -1.065e-02  1.037e-01  1.546e-01\n",
      "  3.416e-03  2.347e-04 -2.173e+02  8.348e-01  7.366e-01  1.153e-01]\n",
      "\n",
      "\n",
      "======== Question 3.2 Regularized Linear Regression ========\n",
      "dimensionality of the model parameter is 12\n",
      "lambda = 5.0, model parameter is [ 6.324e-01 -2.854e-02 -1.641e+00 -3.577e-02  2.803e-02 -1.362e-01\n",
      "  5.259e-03 -8.421e-04  5.888e-01  2.887e-01  4.162e-01  3.768e-01]\n",
      "\n",
      "\n",
      "======== Question 3.3 tuning lambdas ========\n",
      "tuning lambda, the best lambda =  0.001\n",
      "\n",
      "\n",
      "======== Question 3.4 report MSE ========\n",
      "MSE on test is 0.512\n"
     ]
    }
   ],
   "source": [
    "\"\"\"\n",
    "Do not change the input and output format.\n",
    "If our script cannot run your code or the format is improper, your code will not be graded.\n",
    "\n",
    "The only functions you need to implement in this template is linear_regression_noreg, regularized_linear_regression,\n",
    "tune_lambda, and test_error.\n",
    "\"\"\"\n",
    "\n",
    "import numpy as np\n",
    "import pandas as pd\n",
    "\n",
    "###### Q4.1 ######\n",
    "def linear_regression_noreg(X, y):\n",
    "    \"\"\"\n",
    "    Compute the weight parameter given X and y.\n",
    "    Inputs:\n",
    "    - X: A numpy array of shape (num_samples, D) containing feature.\n",
    "    - y: A numpy array of shape (num_samples, ) containing label\n",
    "    Returns:\n",
    "    - w: a numpy array of shape (D, )\n",
    "  \"\"\"\n",
    "    #####################################################\n",
    "    ## w~* = (X~^t X~)^-1 X~^t y\n",
    "    w = np.linalg.inv(X.T @ X) @ X.T @ y\n",
    "    #####################################################\t\t \n",
    "    return w\n",
    "\n",
    "###### Q4.2 ######\n",
    "def regularized_linear_regression(X, y, lambd):\n",
    "    \"\"\"\n",
    "      Compute the weight parameter given X, y and lambda.\n",
    "      Inputs:\n",
    "      - X: A numpy array of shape (num_samples, D) containing feature.\n",
    "      - y: A numpy array of shape (num_samples, ) containing label\n",
    "      - lambd: a float number containing regularization strength\n",
    "      Returns:\n",
    "      - w: a numpy array of shape (D, )\n",
    "    \"\"\"\n",
    "    ####################################################\n",
    "    ## w~* = (X~^t X~ + lambd I)^-1 X~^t y\n",
    "    w = np.linalg.inv(X.T @ X + lambd*np.eye(X.shape[1])) @ X.T @ y\n",
    "    #####################################################\t\t \n",
    "    return w\n",
    "\n",
    "###### Q4.3 ######\n",
    "def tune_lambda(Xtrain, ytrain, Xval, yval, lambds):\n",
    "    \"\"\"\n",
    "    Find the best lambda value.\n",
    "    Inputs:\n",
    "    - Xtrain: A numpy array of shape (num_training_samples, D) containing training feature.\n",
    "    - ytrain: A numpy array of shape (num_training_samples, ) containing training label\n",
    "    - Xval: A numpy array of shape (num_val_samples, D) containing validation feature.\n",
    "    - yval: A numpy array of shape (num_val_samples, ) containing validation label\n",
    "    - lambds: a list of lambdas\n",
    "    Returns:\n",
    "    - bestlambda: the best lambda you find in lambds\n",
    "    \"\"\"\n",
    "    #####################################################\n",
    "    ##\n",
    "    w = regularized_linear_regression(Xtrain, ytrain, lambds[0])\n",
    "    err = test_error(w, Xval,yval)* yval.shape[0]\n",
    "    bestlambda = lambds[0]\n",
    "    for lambd in lambds[1:]:\n",
    "        w_temp = regularized_linear_regression(Xtrain, ytrain, lambd)\n",
    "        err_temp = test_error(w_temp, Xval, yval) * yval.shape[0]\n",
    "        if err > err_temp:\n",
    "            err = err_temp\n",
    "            bestlambda = lambd\n",
    "    #####################################################\n",
    "    return bestlambda\n",
    "\n",
    "###### Q4.4 ######\n",
    "def test_error(w, X, y):\n",
    "    \"\"\"\n",
    "      Compute the mean squre error on test set given X, y, and model parameter w.\n",
    "      Inputs:\n",
    "      - X: A numpy array of shape (num_samples, D) containing test feature.\n",
    "      - y: A numpy array of shape (num_samples, ) containing test label\n",
    "      - w: a numpy array of shape (D, )\n",
    "      Returns:\n",
    "      - err: the mean square error\n",
    "    \"\"\"\n",
    "    #####################################################\n",
    "    ## err = ||X*w -y||_2^2 / N\n",
    "    err = (np.linalg.norm(X @ w - y,2))**2 / y.shape[0]\n",
    "    #####################################################\n",
    "    return err\n",
    "\n",
    "\n",
    "\"\"\"\n",
    "NO MODIFICATIONS below this line.\n",
    "You should only write your code in the above functions.\n",
    "\"\"\"\n",
    "\n",
    "def data_processing():\n",
    "    white = pd.read_csv('winequality-white.csv', low_memory=False, sep=';').values\n",
    "\n",
    "    [N, d] = white.shape\n",
    "\n",
    "    np.random.seed(3)\n",
    "    # prepare data\n",
    "    ridx = np.random.permutation(N)\n",
    "    ntr = int(np.round(N * 0.8))\n",
    "    nval = int(np.round(N * 0.1))\n",
    "    ntest = N - ntr - nval\n",
    "\n",
    "  # spliting training, validation, and test\n",
    "\n",
    "    Xtrain = np.hstack([np.ones([ntr, 1]), white[ridx[0:ntr], 0:-1]])\n",
    "\n",
    "    ytrain = white[ridx[0:ntr], -1]\n",
    "  \n",
    "    Xval = np.hstack([np.ones([nval, 1]), white[ridx[ntr:ntr + nval], 0:-1]])\n",
    "    yval = white[ridx[ntr:ntr + nval], -1]\n",
    "\n",
    "    Xtest = np.hstack([np.ones([ntest, 1]), white[ridx[ntr + nval:], 0:-1]])\n",
    "    ytest = white[ridx[ntr + nval:], -1]\n",
    "    return Xtrain, ytrain, Xval, yval, Xtest, ytest\n",
    "\n",
    "\n",
    "def main():\n",
    "    np.set_printoptions(precision=3)\n",
    "    Xtrain, ytrain, Xval, yval, Xtest, ytest = data_processing()\n",
    "    # =========================Q3.1 linear_regression=================================\n",
    "    w = linear_regression_noreg(Xtrain, ytrain)\n",
    "    print(\"======== Question 3.1 Linear Regression ========\")\n",
    "    print(\"dimensionality of the model parameter is \", len(w), \".\", sep=\"\")\n",
    "    print(\"model parameter is \", np.array_str(w))\n",
    "  \n",
    "    # =========================Q3.2 regularized linear_regression=====================\n",
    "    lambd = 5.0\n",
    "    wl = regularized_linear_regression(Xtrain, ytrain, lambd)\n",
    "    print(\"\\n\")\n",
    "    print(\"======== Question 3.2 Regularized Linear Regression ========\")\n",
    "    print(\"dimensionality of the model parameter is \", len(wl), sep=\"\")\n",
    "    print(\"lambda = \", lambd, \", model parameter is \", np.array_str(wl), sep=\"\")\n",
    "\n",
    "    # =========================Q3.3 tuning lambda======================\n",
    "    lambds = [0, 10 ** -4, 10 ** -3, 10 ** -2, 10 ** -1, 1, 10, 10 ** 2]\n",
    "    bestlambd = tune_lambda(Xtrain, ytrain, Xval, yval, lambds)\n",
    "    print(\"\\n\")\n",
    "    print(\"======== Question 3.3 tuning lambdas ========\")\n",
    "    print(\"tuning lambda, the best lambda =  \", bestlambd, sep=\"\")\n",
    "\n",
    "    # =========================Q3.4 report mse on test ======================\n",
    "    wbest = regularized_linear_regression(Xtrain, ytrain, bestlambd)\n",
    "    mse = test_error(wbest, Xtest, ytest)\n",
    "    print(\"\\n\")\n",
    "    print(\"======== Question 3.4 report MSE ========\")\n",
    "    print(\"MSE on test is %.3f\" % mse)\n",
    "    \n",
    "if __name__ == \"__main__\":\n",
    "    main()"
   ]
  },
  {
   "cell_type": "code",
   "execution_count": 3,
   "metadata": {},
   "outputs": [],
   "source": [
    "Xtrain, ytrain, Xval, yval, Xtest, ytest = data_processing()"
   ]
  },
  {
   "cell_type": "code",
   "execution_count": 4,
   "metadata": {},
   "outputs": [
    {
     "data": {
      "text/plain": [
       "array([[ 1.   ,  4.9  ,  0.345, ...,  3.24 ,  0.4  , 10.1  ],\n",
       "       [ 1.   ,  8.3  ,  0.17 , ...,  3.12 ,  0.58 ,  9.4  ],\n",
       "       [ 1.   ,  7.5  ,  0.21 , ...,  3.51 ,  0.47 , 10.7  ],\n",
       "       ...,\n",
       "       [ 1.   ,  9.7  ,  0.14 , ...,  2.98 ,  0.62 ,  9.5  ],\n",
       "       [ 1.   ,  5.8  ,  0.32 , ...,  3.42 ,  0.42 , 11.8  ],\n",
       "       [ 1.   ,  8.6  ,  0.2  , ...,  3.11 ,  0.49 , 11.4  ]])"
      ]
     },
     "execution_count": 4,
     "metadata": {},
     "output_type": "execute_result"
    }
   ],
   "source": [
    "Xtrain"
   ]
  },
  {
   "cell_type": "code",
   "execution_count": 5,
   "metadata": {},
   "outputs": [
    {
     "data": {
      "text/plain": [
       "array([5., 6., 6., ..., 5., 7., 7.])"
      ]
     },
     "execution_count": 5,
     "metadata": {},
     "output_type": "execute_result"
    }
   ],
   "source": [
    "ytrain"
   ]
  },
  {
   "cell_type": "code",
   "execution_count": 9,
   "metadata": {},
   "outputs": [
    {
     "data": {
      "text/plain": [
       "array([1.0000e+00, 4.9000e+00, 3.4500e-01, 3.4000e-01, 1.0000e+00,\n",
       "       6.8000e-02, 3.2000e+01, 1.4300e+02, 9.9138e-01, 3.2400e+00,\n",
       "       4.0000e-01, 1.0100e+01])"
      ]
     },
     "execution_count": 9,
     "metadata": {},
     "output_type": "execute_result"
    }
   ],
   "source": [
    "Xtrain[0,:]"
   ]
  },
  {
   "cell_type": "code",
   "execution_count": 10,
   "metadata": {},
   "outputs": [
    {
     "data": {
      "text/plain": [
       "numpy.ndarray"
      ]
     },
     "execution_count": 10,
     "metadata": {},
     "output_type": "execute_result"
    }
   ],
   "source": [
    "type(Xtrain)"
   ]
  },
  {
   "cell_type": "code",
   "execution_count": 11,
   "metadata": {},
   "outputs": [
    {
     "data": {
      "text/plain": [
       "array([[ 1.   ,  1.   ,  1.   , ...,  1.   ,  1.   ,  1.   ],\n",
       "       [ 4.9  ,  8.3  ,  7.5  , ...,  9.7  ,  5.8  ,  8.6  ],\n",
       "       [ 0.345,  0.17 ,  0.21 , ...,  0.14 ,  0.32 ,  0.2  ],\n",
       "       ...,\n",
       "       [ 3.24 ,  3.12 ,  3.51 , ...,  2.98 ,  3.42 ,  3.11 ],\n",
       "       [ 0.4  ,  0.58 ,  0.47 , ...,  0.62 ,  0.42 ,  0.49 ],\n",
       "       [10.1  ,  9.4  , 10.7  , ...,  9.5  , 11.8  , 11.4  ]])"
      ]
     },
     "execution_count": 11,
     "metadata": {},
     "output_type": "execute_result"
    }
   ],
   "source": [
    "Xtrain.T"
   ]
  },
  {
   "cell_type": "code",
   "execution_count": 15,
   "metadata": {},
   "outputs": [
    {
     "data": {
      "text/plain": [
       "array([ 2.16557631e+02,  1.14470297e-01, -1.82449448e+00, -1.06525609e-02,\n",
       "        1.03719441e-01,  1.54637453e-01,  3.41633947e-03,  2.34694682e-04,\n",
       "       -2.17305280e+02,  8.34826139e-01,  7.36600071e-01,  1.15290882e-01])"
      ]
     },
     "execution_count": 15,
     "metadata": {},
     "output_type": "execute_result"
    }
   ],
   "source": [
    "## w~* = (X~^t X~)^-1 X~^t y\n",
    "np.linalg.inv(Xtrain.T @ Xtrain) @ Xtrain.T @ ytrain"
   ]
  },
  {
   "cell_type": "code",
   "execution_count": 17,
   "metadata": {},
   "outputs": [
    {
     "data": {
      "text/plain": [
       "12"
      ]
     },
     "execution_count": 17,
     "metadata": {},
     "output_type": "execute_result"
    }
   ],
   "source": [
    "Xtrain.shape[1]"
   ]
  },
  {
   "cell_type": "code",
   "execution_count": 19,
   "metadata": {},
   "outputs": [
    {
     "data": {
      "text/plain": [
       "array([[2., 0., 0., 0., 0., 0., 0., 0., 0., 0., 0., 0.],\n",
       "       [0., 2., 0., 0., 0., 0., 0., 0., 0., 0., 0., 0.],\n",
       "       [0., 0., 2., 0., 0., 0., 0., 0., 0., 0., 0., 0.],\n",
       "       [0., 0., 0., 2., 0., 0., 0., 0., 0., 0., 0., 0.],\n",
       "       [0., 0., 0., 0., 2., 0., 0., 0., 0., 0., 0., 0.],\n",
       "       [0., 0., 0., 0., 0., 2., 0., 0., 0., 0., 0., 0.],\n",
       "       [0., 0., 0., 0., 0., 0., 2., 0., 0., 0., 0., 0.],\n",
       "       [0., 0., 0., 0., 0., 0., 0., 2., 0., 0., 0., 0.],\n",
       "       [0., 0., 0., 0., 0., 0., 0., 0., 2., 0., 0., 0.],\n",
       "       [0., 0., 0., 0., 0., 0., 0., 0., 0., 2., 0., 0.],\n",
       "       [0., 0., 0., 0., 0., 0., 0., 0., 0., 0., 2., 0.],\n",
       "       [0., 0., 0., 0., 0., 0., 0., 0., 0., 0., 0., 2.]])"
      ]
     },
     "execution_count": 19,
     "metadata": {},
     "output_type": "execute_result"
    }
   ],
   "source": [
    "lambd =2\n",
    "lambd*np.eye(Xtrain.shape[1])"
   ]
  },
  {
   "cell_type": "code",
   "execution_count": 26,
   "metadata": {},
   "outputs": [
    {
     "data": {
      "text/plain": [
       "138784.99999999997"
      ]
     },
     "execution_count": 26,
     "metadata": {},
     "output_type": "execute_result"
    }
   ],
   "source": [
    "a=np.array([3,4])\n",
    "(np.linalg.norm(ytrain,2))**2"
   ]
  },
  {
   "cell_type": "code",
   "execution_count": 34,
   "metadata": {},
   "outputs": [
    {
     "name": "stdout",
     "output_type": "stream",
     "text": [
      "loop start\n",
      "0\n",
      "0.0001\n",
      "0.001\n",
      "0.01\n",
      "0.1\n",
      "1\n",
      "10\n",
      "100\n"
     ]
    }
   ],
   "source": [
    "lambds = [0, 10 ** -4, 10 ** -3, 10 ** -2, 10 ** -1, 1, 10, 10 ** 2]\n",
    "print('loop start')\n",
    "print(lambds[0])\n",
    "for lambd in lambds[1:]:\n",
    "  print(lambd)"
   ]
  },
  {
   "cell_type": "code",
   "execution_count": 59,
   "metadata": {},
   "outputs": [
    {
     "name": "stdout",
     "output_type": "stream",
     "text": [
      "======== Question 3.1 Linear Regression ========\n",
      "dimensionality of the model parameter is 12.\n",
      "model parameter is  [ 2.166e+02  1.145e-01 -1.824e+00 -1.065e-02  1.037e-01  1.546e-01\n",
      "  3.416e-03  2.347e-04 -2.173e+02  8.348e-01  7.366e-01  1.153e-01]\n",
      "\n",
      "\n",
      "======== Question 3.2 Regularized Linear Regression ========\n",
      "dimensionality of the model parameter is 12\n",
      "lambda = 5.0, model parameter is [ 6.324e-01 -2.854e-02 -1.641e+00 -3.577e-02  2.803e-02 -1.362e-01\n",
      "  5.259e-03 -8.421e-04  5.888e-01  2.887e-01  4.162e-01  3.768e-01]\n",
      "\n",
      "\n",
      "======== Question 3.3 tuning lambdas ========\n",
      "tuning lambda, the best lambda =  0.1\n",
      "\n",
      "\n",
      "======== Question 3.4 report MSE ========\n",
      "MSE on test is 254.453\n"
     ]
    }
   ],
   "source": [
    "if __name__ == \"__main__\":\n",
    "    main()"
   ]
  },
  {
   "cell_type": "code",
   "execution_count": null,
   "metadata": {},
   "outputs": [],
   "source": []
  }
 ],
 "metadata": {
  "kernelspec": {
   "display_name": "Python 3",
   "language": "python",
   "name": "python3"
  },
  "language_info": {
   "codemirror_mode": {
    "name": "ipython",
    "version": 3
   },
   "file_extension": ".py",
   "mimetype": "text/x-python",
   "name": "python",
   "nbconvert_exporter": "python",
   "pygments_lexer": "ipython3",
   "version": "3.6.6"
  }
 },
 "nbformat": 4,
 "nbformat_minor": 2
}

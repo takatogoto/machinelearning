{
 "cells": [
  {
   "cell_type": "code",
   "execution_count": 2,
   "metadata": {},
   "outputs": [
    {
     "name": "stdout",
     "output_type": "stream",
     "text": [
      "======== Question 3.1 Linear Regression ========\n",
      "dimensionality of the model parameter is 12.\n",
      "model parameter is  [ 2.166e+02  1.145e-01 -1.824e+00 -1.065e-02  1.037e-01  1.546e-01\n",
      "  3.416e-03  2.347e-04 -2.173e+02  8.348e-01  7.366e-01  1.153e-01]\n",
      "\n",
      "\n",
      "======== Question 3.2 Regularized Linear Regression ========\n",
      "dimensionality of the model parameter is 12\n",
      "lambda = 5.0, model parameter is [ 6.324e-01 -2.854e-02 -1.641e+00 -3.577e-02  2.803e-02 -1.362e-01\n",
      "  5.259e-03 -8.421e-04  5.888e-01  2.887e-01  4.162e-01  3.768e-01]\n",
      "\n",
      "\n",
      "======== Question 3.3 tuning lambdas ========\n",
      "tuning lambda, the best lambda =  0.001\n",
      "\n",
      "\n",
      "======== Question 3.4 report MSE ========\n",
      "MSE on test is 0.512\n"
     ]
    }
   ],
   "source": [
    "\"\"\"\n",
    "Do not change the input and output format.\n",
    "If our script cannot run your code or the format is improper, your code will not be graded.\n",
    "\n",
    "The only functions you need to implement in this template is linear_regression_noreg, regularized_linear_regression,\n",
    "tune_lambda, and test_error.\n",
    "\"\"\"\n",
    "\n",
    "import numpy as np\n",
    "import pandas as pd\n",
    "\n",
    "###### Q4.1 ######\n",
    "def linear_regression_noreg(X, y):\n",
    "    \"\"\"\n",
    "    Compute the weight parameter given X and y.\n",
    "    Inputs:\n",
    "    - X: A numpy array of shape (num_samples, D) containing feature.\n",
    "    - y: A numpy array of shape (num_samples, ) containing label\n",
    "    Returns:\n",
    "    - w: a numpy array of shape (D, )\n",
    "    \"\"\"\n",
    "    #####################################################\n",
    "    ## w~* = (X~^t X~)^-1 X~^t y\n",
    "    w = np.linalg.inv(X.T @ X) @ X.T @ y\n",
    "    #####################################################\t\t \n",
    "    return w\n",
    "\n",
    "###### Q4.2 ######\n",
    "def regularized_linear_regression(X, y, lambd):\n",
    "    \"\"\"\n",
    "    Compute the weight parameter given X, y and lambda.\n",
    "    Inputs:\n",
    "    - X: A numpy array of shape (num_samples, D) containing feature.\n",
    "    - y: A numpy array of shape (num_samples, ) containing label\n",
    "    - lambd: a float number containing regularization strength\n",
    "    Returns:\n",
    "    - w: a numpy array of shape (D, )\n",
    "    \"\"\"\n",
    "    ####################################################\n",
    "    ## w~* = (X~^t X~ + lambd I)^-1 X~^t y\n",
    "    w = np.linalg.inv(X.T @ X + lambd*np.eye(X.shape[1])) @ X.T @ y\n",
    "    #####################################################\t\t \n",
    "    return w\n",
    "\n",
    "###### Q4.3 ######\n",
    "def tune_lambda(Xtrain, ytrain, Xval, yval, lambds):\n",
    "    \"\"\"\n",
    "    Find the best lambda value.\n",
    "    Inputs:\n",
    "    - Xtrain: A numpy array of shape (num_training_samples, D) containing training feature.\n",
    "    - ytrain: A numpy array of shape (num_training_samples, ) containing training label\n",
    "    - Xval: A numpy array of shape (num_val_samples, D) containing validation feature.\n",
    "    - yval: A numpy array of shape (num_val_samples, ) containing validation label\n",
    "    - lambds: a list of lambdas\n",
    "    Returns:\n",
    "    - bestlambda: the best lambda you find in lambds\n",
    "    \"\"\"\n",
    "    #####################################################\n",
    "    ##\n",
    "    # initialize array\n",
    "    w = np.zeros([len(lambds), Xtrain.shape[1]], dtype=float)\n",
    "    err = np.zeros([len(lambds)], dtype=float)\n",
    "    i = 0\n",
    "    \n",
    "    # calculate w and erro for all lambda\n",
    "    for lambd in lambds:\n",
    "        w[i] = regularized_linear_regression(Xtrain, ytrain, lambd)\n",
    "        err[i] = test_error(w[i], Xval, yval) * yval.shape[0] \n",
    "        i += 1\n",
    "    bestlambda = lambds[np.argmin(err)]\n",
    "    \n",
    "    #####################################################\t\t \n",
    "    return bestlambda\n",
    "\n",
    "###### Q4.4 ######\n",
    "def test_error(w, X, y):\n",
    "    \"\"\"\n",
    "    Compute the mean squre error on test set given X, y, and model parameter w.\n",
    "    Inputs:\n",
    "    - X: A numpy array of shape (num_samples, D) containing test feature.\n",
    "    - y: A numpy array of shape (num_samples, ) containing test label\n",
    "    - w: a numpy array of shape (D, )\n",
    "    Returns:\n",
    "    - err: the mean square error\n",
    "    \"\"\"\n",
    "    #####################################################\n",
    "    ## err = ||X*w -y||_2^2 / N\n",
    "    err = (np.linalg.norm(X @ w - y,2))**2 / y.shape[0]\n",
    "    #####################################################\n",
    "    return err\n",
    "\n",
    "\n",
    "\"\"\"\n",
    "NO MODIFICATIONS below this line.\n",
    "You should only write your code in the above functions.\n",
    "\"\"\"\n",
    "\n",
    "def data_processing():\n",
    "    white = pd.read_csv('winequality-white.csv', low_memory=False, sep=';').values\n",
    "\n",
    "    [N, d] = white.shape\n",
    "\n",
    "    np.random.seed(3)\n",
    "    # prepare data\n",
    "    ridx = np.random.permutation(N)\n",
    "    ntr = int(np.round(N * 0.8))\n",
    "    nval = int(np.round(N * 0.1))\n",
    "    ntest = N - ntr - nval\n",
    "\n",
    "  # spliting training, validation, and test\n",
    "\n",
    "    Xtrain = np.hstack([np.ones([ntr, 1]), white[ridx[0:ntr], 0:-1]])\n",
    "\n",
    "    ytrain = white[ridx[0:ntr], -1]\n",
    "\n",
    "    Xval = np.hstack([np.ones([nval, 1]), white[ridx[ntr:ntr + nval], 0:-1]])\n",
    "    yval = white[ridx[ntr:ntr + nval], -1]\n",
    "\n",
    "    Xtest = np.hstack([np.ones([ntest, 1]), white[ridx[ntr + nval:], 0:-1]])\n",
    "    ytest = white[ridx[ntr + nval:], -1]\n",
    "    return Xtrain, ytrain, Xval, yval, Xtest, ytest\n",
    "\n",
    "\n",
    "def main():\n",
    "    np.set_printoptions(precision=3)\n",
    "    Xtrain, ytrain, Xval, yval, Xtest, ytest = data_processing()\n",
    "    # =========================Q3.1 linear_regression=================================\n",
    "    w = linear_regression_noreg(Xtrain, ytrain)\n",
    "    print(\"======== Question 3.1 Linear Regression ========\")\n",
    "    print(\"dimensionality of the model parameter is \", len(w), \".\", sep=\"\")\n",
    "    print(\"model parameter is \", np.array_str(w))\n",
    "  \n",
    "  # =========================Q3.2 regularized linear_regression=====================\n",
    "    lambd = 5.0\n",
    "    wl = regularized_linear_regression(Xtrain, ytrain, lambd)\n",
    "    print(\"\\n\")\n",
    "    print(\"======== Question 3.2 Regularized Linear Regression ========\")\n",
    "    print(\"dimensionality of the model parameter is \", len(wl), sep=\"\")\n",
    "    print(\"lambda = \", lambd, \", model parameter is \", np.array_str(wl), sep=\"\")\n",
    "\n",
    "  # =========================Q3.3 tuning lambda======================\n",
    "    lambds = [0, 10 ** -4, 10 ** -3, 10 ** -2, 10 ** -1, 1, 10, 10 ** 2]\n",
    "    bestlambd = tune_lambda(Xtrain, ytrain, Xval, yval, lambds)\n",
    "    print(\"\\n\")\n",
    "    print(\"======== Question 3.3 tuning lambdas ========\")\n",
    "    print(\"tuning lambda, the best lambda =  \", bestlambd, sep=\"\")\n",
    "\n",
    "  # =========================Q3.4 report mse on test ======================\n",
    "    wbest = regularized_linear_regression(Xtrain, ytrain, bestlambd)\n",
    "    mse = test_error(wbest, Xtest, ytest)\n",
    "    print(\"\\n\")\n",
    "    print(\"======== Question 3.4 report MSE ========\")\n",
    "    print(\"MSE on test is %.3f\" % mse)\n",
    "\n",
    "if __name__ == \"__main__\":\n",
    "        main()"
   ]
  },
  {
   "cell_type": "code",
   "execution_count": 27,
   "metadata": {},
   "outputs": [
    {
     "data": {
      "text/plain": [
       "array([[0., 0., 0., 0.],\n",
       "       [0., 0., 0., 0.],\n",
       "       [0., 0., 0., 0.]])"
      ]
     },
     "execution_count": 27,
     "metadata": {},
     "output_type": "execute_result"
    }
   ],
   "source": [
    "a = np.zeros([3,4], dtype=float)\n",
    "a"
   ]
  },
  {
   "cell_type": "code",
   "execution_count": 28,
   "metadata": {},
   "outputs": [],
   "source": [
    "b = np.array([1, 2, 3, 4])"
   ]
  },
  {
   "cell_type": "code",
   "execution_count": 29,
   "metadata": {},
   "outputs": [],
   "source": [
    "a[1] = b"
   ]
  },
  {
   "cell_type": "code",
   "execution_count": 30,
   "metadata": {},
   "outputs": [
    {
     "data": {
      "text/plain": [
       "array([[0., 0., 0., 0.],\n",
       "       [1., 2., 3., 4.],\n",
       "       [0., 0., 0., 0.]])"
      ]
     },
     "execution_count": 30,
     "metadata": {},
     "output_type": "execute_result"
    }
   ],
   "source": [
    "a"
   ]
  },
  {
   "cell_type": "code",
   "execution_count": 31,
   "metadata": {},
   "outputs": [
    {
     "data": {
      "text/plain": [
       "array([0., 0., 0.])"
      ]
     },
     "execution_count": 31,
     "metadata": {},
     "output_type": "execute_result"
    }
   ],
   "source": [
    "aa = np.zeros([3], dtype=float)\n",
    "aa"
   ]
  },
  {
   "cell_type": "code",
   "execution_count": 32,
   "metadata": {},
   "outputs": [
    {
     "data": {
      "text/plain": [
       "array([0., 5., 0.])"
      ]
     },
     "execution_count": 32,
     "metadata": {},
     "output_type": "execute_result"
    }
   ],
   "source": [
    "aa[1]=5\n",
    "aa"
   ]
  },
  {
   "cell_type": "code",
   "execution_count": 33,
   "metadata": {},
   "outputs": [
    {
     "data": {
      "text/plain": [
       "1"
      ]
     },
     "execution_count": 33,
     "metadata": {},
     "output_type": "execute_result"
    }
   ],
   "source": [
    "np.argmax(aa)"
   ]
  },
  {
   "cell_type": "code",
   "execution_count": 36,
   "metadata": {},
   "outputs": [
    {
     "name": "stdout",
     "output_type": "stream",
     "text": [
      "======== Question 3.1 Linear Regression ========\n",
      "dimensionality of the model parameter is 12.\n",
      "model parameter is  [ 2.166e+02  1.145e-01 -1.824e+00 -1.065e-02  1.037e-01  1.546e-01\n",
      "  3.416e-03  2.347e-04 -2.173e+02  8.348e-01  7.366e-01  1.153e-01]\n",
      "\n",
      "\n",
      "======== Question 3.2 Regularized Linear Regression ========\n",
      "dimensionality of the model parameter is 12\n",
      "lambda = 5.0, model parameter is [ 6.324e-01 -2.854e-02 -1.641e+00 -3.577e-02  2.803e-02 -1.362e-01\n",
      "  5.259e-03 -8.421e-04  5.888e-01  2.887e-01  4.162e-01  3.768e-01]\n",
      "\n",
      "\n",
      "======== Question 3.3 tuning lambdas ========\n",
      "tuning lambda, the best lambda =  0.1\n",
      "\n",
      "\n",
      "======== Question 3.4 report MSE ========\n",
      "MSE on test is 254.453\n"
     ]
    }
   ],
   "source": [
    "if __name__ == \"__main__\":\n",
    "    main()"
   ]
  },
  {
   "cell_type": "code",
   "execution_count": 41,
   "metadata": {},
   "outputs": [],
   "source": [
    "x1 = np.array([[1,1],[1,2.1],[1,3]])\n",
    "y1 = np.array([2,4,6])"
   ]
  },
  {
   "cell_type": "code",
   "execution_count": 42,
   "metadata": {},
   "outputs": [
    {
     "data": {
      "text/plain": [
       "array([-0.053,  1.993])"
      ]
     },
     "execution_count": 42,
     "metadata": {},
     "output_type": "execute_result"
    }
   ],
   "source": [
    "linear_regression_noreg(x1, y1)"
   ]
  },
  {
   "cell_type": "code",
   "execution_count": 43,
   "metadata": {},
   "outputs": [
    {
     "data": {
      "text/plain": [
       "array([-0.053,  1.993])"
      ]
     },
     "execution_count": 43,
     "metadata": {},
     "output_type": "execute_result"
    }
   ],
   "source": [
    "regularized_linear_regression(x1,y1,0)"
   ]
  },
  {
   "cell_type": "code",
   "execution_count": 45,
   "metadata": {},
   "outputs": [
    {
     "data": {
      "text/plain": [
       "array([0.113, 1.91 ])"
      ]
     },
     "execution_count": 45,
     "metadata": {},
     "output_type": "execute_result"
    }
   ],
   "source": [
    "regularized_linear_regression(x1,y1,0.1)"
   ]
  },
  {
   "cell_type": "code",
   "execution_count": null,
   "metadata": {},
   "outputs": [],
   "source": []
  }
 ],
 "metadata": {
  "kernelspec": {
   "display_name": "Python 3",
   "language": "python",
   "name": "python3"
  },
  "language_info": {
   "codemirror_mode": {
    "name": "ipython",
    "version": 3
   },
   "file_extension": ".py",
   "mimetype": "text/x-python",
   "name": "python",
   "nbconvert_exporter": "python",
   "pygments_lexer": "ipython3",
   "version": "3.6.6"
  }
 },
 "nbformat": 4,
 "nbformat_minor": 2
}

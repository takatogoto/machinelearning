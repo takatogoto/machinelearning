{
 "cells": [
  {
   "cell_type": "code",
   "execution_count": 1,
   "metadata": {},
   "outputs": [],
   "source": [
    "import numpy as np\n",
    "import json\n",
    "\n",
    "###### Q5.1 ######\n",
    "def compute_distances(Xtrain, X):\n",
    "    \"\"\"\n",
    "    Compute the distance between each test point in X and each training point\n",
    "    in Xtrain.\n",
    "    Inputs:\n",
    "    - Xtrain: A numpy array of shape (num_train, D) containing training data\n",
    "    - X: A numpy array of shape (num_test, D) containing test data.\n",
    "    Returns:\n",
    "    - dists: A numpy array of shape (num_test, num_train) where dists[i, j]\n",
    "      is the Euclidean distance between the ith test point and the jth training\n",
    "      point.\n",
    "    \"\"\"\n",
    "    #####################################################\n",
    "    #                 YOUR CODE HERE                                        #\n",
    "    dists = np.zeros([X.shape[0], Xtrain.shape[0]])\n",
    "    for i in range(X.shape[0]):\n",
    "        for j in range(Xtrain.shape[0]):\n",
    "            dists[i,j] = np.linalg.norm(X[i,:] - Xtrain[j,:],2)\n",
    "    #####################################################         \n",
    "    return dists\n",
    "\n",
    "###### Q5.2 ######\n",
    "def predict_labels(k, ytrain, dists):\n",
    "    \"\"\"\n",
    "    Given a matrix of distances between test points and training points,\n",
    "    predict a label for each test point.\n",
    "    Inputs:\n",
    "    - k: The number of nearest neighbors used for prediction.\n",
    "    - ytrain: A numpy array of shape (num_train,) where ytrain[i] is the label\n",
    "      of the ith training point.\n",
    "    - dists: A numpy array of shape (num_test, num_train) where dists[i, j]\n",
    "      gives the distance betwen the ith test point and the jth training point.\n",
    "    Returns:\n",
    "    - ypred: A numpy array of shape (num_test,) containing predicted labels for the\n",
    "      test data, where y[i] is the predicted label for the test point X[i]. \n",
    "    \"\"\"\n",
    "    #####################################################\n",
    "    #                 YOUR CODE HERE                                        #\n",
    "    c = 10 # number of class\n",
    "    vc = np.zeros([dists.shape[0], c], dtype=int)\n",
    "    ypred = -np.ones([dists.shape[0]], dtype=int)\n",
    "    \n",
    "    # index of distance from smallest to kth \n",
    "    knnind = np.argpartition(dists, k, axis = 1)[:,:k]\n",
    "    for i in range(dists.shape[0]):\n",
    "        nny = ytrain[knnind[i,:]]\n",
    "        for j in range(c):\n",
    "            vc[i,j] = np.sum(nny ==j)\n",
    "        ypred[i] = vc[i,:].argmax()\n",
    "    #####################################################\n",
    "    return ypred\n",
    "\n",
    "###### Q5.3 ######\n",
    "def compute_accuracy(y, ypred):\n",
    "    \"\"\"\n",
    "    Compute the accuracy of prediction based on the true labels.\n",
    "    Inputs:\n",
    "    - y: A numpy array with of shape (num_test,) where y[i] is the true label\n",
    "      of the ith test point.\n",
    "    - ypred: A numpy array with of shape (num_test,) where ypred[i] is the \n",
    "      prediction of the ith test point.\n",
    "    Returns:\n",
    "    - acc: The accuracy of prediction (scalar).\n",
    "    \"\"\"\n",
    "    #####################################################\n",
    "    #                 YOUR CODE HERE                                        #\n",
    "    acc = sum(y == ypred)/len(y)\n",
    "    #####################################################\n",
    "    return acc\n",
    "\n",
    "###### Q5.4 ######\n",
    "def find_best_k(K, ytrain, dists, yval):\n",
    "    \"\"\"\n",
    "    Find best k according to validation accuracy.\n",
    "    Inputs:\n",
    "    - K: A list of ks.\n",
    "    - ytrain: A numpy array of shape (num_train,) where ytrain[i] is the label\n",
    "      of the ith training point.\n",
    "    - dists: A numpy array of shape (num_test, num_train) where dists[i, j]\n",
    "      is the Euclidean distance between the ith test point and the jth training\n",
    "      point.\n",
    "    - yval: A numpy array with of shape (num_val,) where y[i] is the true label\n",
    "      of the ith validation point.\n",
    "    Returns:\n",
    "    - best_k: The k with the highest validation accuracy.\n",
    "    - validation_accuracy: A list of accuracies of different ks in K.\n",
    "    \"\"\"\n",
    "    \n",
    "    #####################################################\n",
    "    #                 YOUR CODE HERE                                        #\n",
    "    all_acc = np.zeros([len(K)])\n",
    "    all_ypred = -np.ones([len(K), len(yval)])\n",
    "    i = 0\n",
    "    for k in K:\n",
    "        all_ypred[i,:] = predict_labels(k, ytrain, dists)\n",
    "        all_acc[i] = compute_accuracy(y, all_ypred[i,:])\n",
    "        i += 1\n",
    "    best_k = K[np.argmax(all_acc)]\n",
    "    validation_accuracy = all_acc.tolist()\n",
    "    #####################################################\n",
    "    return best_k, validation_accuracy\n",
    "\n",
    "\n",
    "\"\"\"\n",
    "NO MODIFICATIONS below this line.\n",
    "You should only write your code in the above functions.\n",
    "\"\"\"\n",
    "\n",
    "def data_processing(data):\n",
    "    train_set, valid_set, test_set = data['train'], data['valid'], data['test']\n",
    "    Xtrain = train_set[0]\n",
    "    ytrain = train_set[1]\n",
    "    Xval = valid_set[0]\n",
    "    yval = valid_set[1]\n",
    "    Xtest = test_set[0]\n",
    "    ytest = test_set[1]\n",
    "    \n",
    "    Xtrain = np.array(Xtrain)\n",
    "    Xval = np.array(Xval)\n",
    "    Xtest = np.array(Xtest)\n",
    "    \n",
    "    ytrain = np.array(ytrain)\n",
    "    yval = np.array(yval)\n",
    "    ytest = np.array(ytest)\n",
    "    \n",
    "    return Xtrain, ytrain, Xval, yval, Xtest, ytest\n",
    "    \n",
    "def main():\n",
    "    input_file = 'mnist_subset.json'\n",
    "    output_file = 'knn_output.txt'\n",
    "\n",
    "    with open(input_file) as json_data:\n",
    "        data = json.load(json_data)\n",
    "    \n",
    "    #==================Compute distance matrix=======================\n",
    "    K=[1, 3, 5, 7, 9]    \n",
    "    \n",
    "    Xtrain, ytrain, Xval, yval, Xtest, ytest = data_processing(data)\n",
    "    \n",
    "    dists = compute_distances(Xtrain, Xval)\n",
    "    \n",
    "    #===============Compute validation accuracy when k=5=============\n",
    "    k = 5\n",
    "    ypred = predict_labels(k, ytrain, dists)\n",
    "    acc = compute_accuracy(yval, ypred)\n",
    "    print(\"The validation accuracy is\", acc, \"when k =\", k)\n",
    "    \n",
    "    #==========select the best k by using validation set==============\n",
    "    best_k,validation_accuracy = find_best_k(K, ytrain, dists, yval)\n",
    "\n",
    "    \n",
    "    #===============test the performance with your best k=============\n",
    "    dists = compute_distances(Xtrain, Xtest)\n",
    "    ypred = predict_labels(best_k, ytrain, dists)\n",
    "    test_accuracy = compute_accuracy(ytest, ypred)\n",
    "    \n",
    "    #====================write your results to file===================\n",
    "    f=open(output_file, 'w')\n",
    "    for i in range(len(K)):\n",
    "        f.write('%d %.3f' % (K[i], validation_accuracy[i])+'\\n')\n",
    "    f.write('%s %.3f' % ('test', test_accuracy))\n",
    "    f.close()\n",
    "    \n",
    "#if __name__ == \"__main__\":\n",
    "#    main()\n"
   ]
  },
  {
   "cell_type": "code",
   "execution_count": 2,
   "metadata": {},
   "outputs": [],
   "source": [
    "from sklearn.neighbors import KNeighborsClassifier\n",
    "\n",
    "input_file = 'mnist_subset.json'\n",
    "output_file = 'knn_output.txt'\n",
    "\n",
    "with open(input_file) as json_data:\n",
    "    data = json.load(json_data)\n",
    "    \n",
    "#==================Compute distance matrix=======================\n",
    "K=[1, 3, 5, 7, 9]    \n",
    "    \n",
    "Xtrain, ytrain, Xval, yval, Xtest, ytest = data_processing(data)"
   ]
  },
  {
   "cell_type": "code",
   "execution_count": 5,
   "metadata": {},
   "outputs": [
    {
     "name": "stdout",
     "output_type": "stream",
     "text": [
      "0.943\n",
      "0.932\n"
     ]
    }
   ],
   "source": [
    "skchek1 = KNeighborsClassifier( n_neighbors=1,  metric='euclidean' )\n",
    "skchek1.fit(Xtrain, ytrain)\n",
    "print(skchek1.score(Xval, yval))\n",
    "print(skchek1.score(Xtest, ytest))"
   ]
  },
  {
   "cell_type": "code",
   "execution_count": 6,
   "metadata": {},
   "outputs": [
    {
     "name": "stdout",
     "output_type": "stream",
     "text": [
      "0.938\n",
      "0.932\n"
     ]
    }
   ],
   "source": [
    "skchek3 = KNeighborsClassifier( n_neighbors=3,  metric='euclidean' )\n",
    "skchek3.fit(Xtrain, ytrain)\n",
    "print(skchek3.score(Xval, yval))\n",
    "print(skchek3.score(Xtest, ytest))"
   ]
  },
  {
   "cell_type": "code",
   "execution_count": 4,
   "metadata": {},
   "outputs": [
    {
     "name": "stdout",
     "output_type": "stream",
     "text": [
      "0.939\n",
      "0.927\n"
     ]
    }
   ],
   "source": [
    "skchek5 = KNeighborsClassifier( n_neighbors=5,  metric='euclidean' )\n",
    "skchek5.fit(Xtrain, ytrain)\n",
    "print(skchek5.score(Xval, yval))\n",
    "print(skchek5.score(Xtest, ytest))"
   ]
  },
  {
   "cell_type": "code",
   "execution_count": 7,
   "metadata": {},
   "outputs": [
    {
     "name": "stdout",
     "output_type": "stream",
     "text": [
      "0.928\n",
      "0.927\n"
     ]
    }
   ],
   "source": [
    "skchek7 = KNeighborsClassifier( n_neighbors=7,  metric='euclidean' )\n",
    "skchek7.fit(Xtrain, ytrain)\n",
    "print(skchek7.score(Xval, yval))\n",
    "print(skchek7.score(Xtest, ytest))"
   ]
  },
  {
   "cell_type": "code",
   "execution_count": 8,
   "metadata": {},
   "outputs": [
    {
     "name": "stdout",
     "output_type": "stream",
     "text": [
      "0.927\n",
      "0.928\n"
     ]
    }
   ],
   "source": [
    "skchek9 = KNeighborsClassifier( n_neighbors=9,  metric='euclidean' )\n",
    "skchek9.fit(Xtrain, ytrain)\n",
    "print(skchek9.score(Xval, yval))\n",
    "print(skchek9.score(Xtest, ytest))"
   ]
  },
  {
   "cell_type": "code",
   "execution_count": null,
   "metadata": {},
   "outputs": [],
   "source": []
  }
 ],
 "metadata": {
  "kernelspec": {
   "display_name": "Python 3",
   "language": "python",
   "name": "python3"
  },
  "language_info": {
   "codemirror_mode": {
    "name": "ipython",
    "version": 3
   },
   "file_extension": ".py",
   "mimetype": "text/x-python",
   "name": "python",
   "nbconvert_exporter": "python",
   "pygments_lexer": "ipython3",
   "version": "3.6.6"
  }
 },
 "nbformat": 4,
 "nbformat_minor": 2
}

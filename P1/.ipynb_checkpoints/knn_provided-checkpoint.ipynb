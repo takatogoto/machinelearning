{
 "cells": [
  {
   "cell_type": "markdown",
   "metadata": {},
   "source": [
    "# Confirm provided solution"
   ]
  },
  {
   "cell_type": "code",
   "execution_count": 1,
   "metadata": {},
   "outputs": [],
   "source": [
    "import numpy as np\n",
    "import json\n",
    "from itertools import groupby\n",
    "#===========================Q4.1=====================================\n",
    "def compute_distances(Xtrain,X):\n",
    "    num_test = X.shape[0]\n",
    "    num_train = Xtrain.shape[0]\n",
    "    dists = np.zeros((num_test, num_train)) \n",
    "    \n",
    "    # |A-B|^2 = |A|^2 +|B|^2 - 2(A*B)\n",
    "    # numpy.array(D=1).T is not changed (A.T = A = ([0,1,2,3]))\n",
    "    # A.reshape(A.shape[0],1) = ([[0],[1],[2],[3]]) \n",
    "    A = np.sum(X**2,axis=1).reshape(num_test,1)\n",
    "    B = np.sum(Xtrain**2,axis=1).reshape(num_train,1)\n",
    "    AB = np.dot(X,np.transpose(Xtrain))\n",
    "    dists = np.sqrt(-2*AB + A + np.transpose(B))\n",
    "    return dists\n",
    "\n",
    "#==========================Q4.2======================================\n",
    "def predict_labels(k,ytrain,dists):\n",
    "    \n",
    "    num_test = dists.shape[0]\n",
    "    ypred = np.zeros(num_test)\n",
    "    for i in range(num_test):\n",
    "        # Returns the indices that would sort an array.\n",
    "        sort_list = np.argsort(dists[i])    \n",
    "        closest_y = []\n",
    "        for j in range(k):\n",
    "            closest_y.append(ytrain[sort_list[j]])\n",
    "        \n",
    "        # sort for using groupby \n",
    "        closest_y.sort()\n",
    "        \n",
    "        # each index of 'count' has number of label that is in 'key' \n",
    "        count = [len(list(group)) for key, group in groupby(closest_y)]\n",
    "        key = [key for key, group in groupby(closest_y)]\n",
    "        \n",
    "        # max is prediction\n",
    "        max_val = max(count)\n",
    "        for temp in range(len(count)):\n",
    "            if count[temp] == max_val:\n",
    "                ypred[i] = key[temp]\n",
    "                break\n",
    "        \n",
    "    #print(ypred)\n",
    "    return ypred\n",
    "\n",
    "#===========================Q4.3=====================================\n",
    "def compute_accuracy(y,ypred):\n",
    "    cnt = 0\n",
    "    for i in range(len(ypred)):\n",
    "        if y[i] == ypred[i]:\n",
    "            cnt+=1\n",
    "    acc = float(cnt)/len(ypred)\n",
    "    return acc\n",
    "\n",
    "#==========================Q4.4=====================================\n",
    "def find_best_k(K,ytrain,dists,yval):\n",
    "    validation_accuracy = []\n",
    "    for k in K:\n",
    "        ypred = predict_labels(k,ytrain,dists)\n",
    "        acc = compute_accuracy(yval,ypred)\n",
    "        validation_accuracy.append(acc)\n",
    "        print(\"The validation accuracy is\",acc,\"when k =\",k)\n",
    "    a = max(validation_accuracy)\n",
    "    idx = validation_accuracy.index(a)\n",
    "    best_k = K[idx]\n",
    "    print(best_k)\n",
    "    return best_k,validation_accuracy\n",
    "\n",
    "\n",
    "\n",
    "#============================END=====================================\n",
    "\n",
    "'''\n",
    "Please DO NOT CHANGE ANY CODE below this line.\n",
    "You should only write your code in the above functions.\n",
    "'''\n",
    "\n",
    "def data_processing(data):\n",
    "    train_set, valid_set,test_set = data['train'],data['valid'],data['test']\n",
    "    Xtrain = train_set[0]\n",
    "    ytrain = train_set[1]\n",
    "    Xval = valid_set[0]\n",
    "    yval = valid_set[1]\n",
    "    Xtest = test_set[0]\n",
    "    ytest = test_set[1]\n",
    "    \n",
    "    Xtrain = np.array(Xtrain)\n",
    "    Xval = np.array(Xval)\n",
    "    Xtest = np.array(Xtest)\n",
    "    \n",
    "    ytrain = np.array(ytrain)\n",
    "    yval = np.array(yval)\n",
    "    ytest = np.array(ytest)\n",
    "    \n",
    "    return Xtrain,ytrain,Xval,yval,Xtest,ytest\n",
    "    \n",
    "def main():\n",
    "    input_file = 'mnist_subset.json'\n",
    "    output_file = 'knn_output.txt'\n",
    "\n",
    "    with open(input_file) as json_data:\n",
    "        data = json.load(json_data)\n",
    "    \n",
    "    #==================Compute distance matrix=======================\n",
    "    K=[1,3,5,7,9]    \n",
    "    \n",
    "    Xtrain,ytrain,Xval,yval,Xtest,ytest = data_processing(data)\n",
    "    \n",
    "    dists = compute_distances(Xtrain,Xval)\n",
    "    \n",
    "    #===============Compute validation accuracy when k=5=============\n",
    "    ypred = predict_labels(5,ytrain,dists)\n",
    "    acc = compute_accuracy(yval,ypred)\n",
    "    \n",
    "    \n",
    "    #==========select the best k by using validation set==============\n",
    "    best_k,validation_accuracy = find_best_k(K,ytrain,dists,yval)\n",
    "\n",
    "    \n",
    "    #===============test the performance with your best k=============\n",
    "    dists = compute_distances(Xtrain,Xtest)\n",
    "    ypred = predict_labels(best_k,ytrain,dists)\n",
    "    test_accuracy = compute_accuracy(ytest,ypred)\n",
    "    \n",
    "    #====================write your results to file===================\n",
    "    f=open(output_file,'w')\n",
    "    for i in range(len(K)):\n",
    "        f.write('%d %.3f' % (K[i], validation_accuracy[i])+'\\n')\n",
    "    f.write('%s %.3f' % ('test', test_accuracy))\n",
    "    f.close()\n",
    "    \n",
    "#if __name__ == \"__main__\":\n",
    "#    main()"
   ]
  },
  {
   "cell_type": "code",
   "execution_count": 2,
   "metadata": {},
   "outputs": [],
   "source": [
    "    input_file = 'mnist_subset.json'\n",
    "    output_file = 'knn_output.txt'\n",
    "\n",
    "    with open(input_file) as json_data:\n",
    "        data = json.load(json_data)\n",
    "    \n",
    "    #==================Compute distance matrix=======================\n",
    "    K=[1,3,5,7,9]    \n",
    "    \n",
    "    Xtrain,ytrain,Xval,yval,Xtest,ytest = data_processing(data)"
   ]
  },
  {
   "cell_type": "code",
   "execution_count": 3,
   "metadata": {},
   "outputs": [
    {
     "name": "stdout",
     "output_type": "stream",
     "text": [
      "[[ 0  1]\n",
      " [ 2  3]\n",
      " [ 4  5]\n",
      " [ 6  7]\n",
      " [ 8  9]\n",
      " [10 11]\n",
      " [12 13]\n",
      " [14 15]\n",
      " [16 17]\n",
      " [18 19]]\n"
     ]
    }
   ],
   "source": [
    "a = np.arange(20).reshape(10,2)\n",
    "print(a)"
   ]
  },
  {
   "cell_type": "code",
   "execution_count": 25,
   "metadata": {},
   "outputs": [
    {
     "name": "stdout",
     "output_type": "stream",
     "text": [
      "[[1 3]\n",
      " [5 0]\n",
      " [4 2]]\n"
     ]
    }
   ],
   "source": [
    "b = np.arange(6)\n",
    "np.random.shuffle(b)\n",
    "b = b.reshape(3,2)\n",
    "print(b)"
   ]
  },
  {
   "cell_type": "code",
   "execution_count": 26,
   "metadata": {},
   "outputs": [
    {
     "name": "stdout",
     "output_type": "stream",
     "text": [
      "A is\n",
      "[  1  13  41  85 145 221 313 421 545 685]\n",
      "B is\n",
      "[10 25 20]\n",
      "AB is\n",
      "[[  3   0   2]\n",
      " [ 11  10  14]\n",
      " [ 19  20  26]\n",
      " [ 27  30  38]\n",
      " [ 35  40  50]\n",
      " [ 43  50  62]\n",
      " [ 51  60  74]\n",
      " [ 59  70  86]\n",
      " [ 67  80  98]\n",
      " [ 75  90 110]]\n"
     ]
    }
   ],
   "source": [
    "A = np.sum(a**2, axis=1)\n",
    "print(\"A is\")\n",
    "print(A)\n",
    "B = np.sum(b**2, axis=1)\n",
    "print(\"B is\")\n",
    "print(B)\n",
    "AB = np.dot(a,np.transpose(b))\n",
    "print(\"AB is\")\n",
    "print(AB)"
   ]
  },
  {
   "cell_type": "code",
   "execution_count": 37,
   "metadata": {},
   "outputs": [
    {
     "data": {
      "text/plain": [
       "array([[  5,  26,  17],\n",
       "       [  1,  18,   5],\n",
       "       [ 13,  26,   9],\n",
       "       [ 41,  50,  29],\n",
       "       [ 85,  90,  65],\n",
       "       [145, 146, 117],\n",
       "       [221, 218, 185],\n",
       "       [313, 306, 269],\n",
       "       [421, 410, 369],\n",
       "       [545, 530, 485]])"
      ]
     },
     "execution_count": 37,
     "metadata": {},
     "output_type": "execute_result"
    }
   ],
   "source": [
    "-2*AB + A.reshape(10,1) + B"
   ]
  },
  {
   "cell_type": "code",
   "execution_count": 39,
   "metadata": {},
   "outputs": [
    {
     "data": {
      "text/plain": [
       "array([[  5,  26,  17],\n",
       "       [  1,  18,   5],\n",
       "       [ 13,  26,   9],\n",
       "       [ 41,  50,  29],\n",
       "       [ 85,  90,  65],\n",
       "       [145, 146, 117],\n",
       "       [221, 218, 185],\n",
       "       [313, 306, 269],\n",
       "       [421, 410, 369],\n",
       "       [545, 530, 485]])"
      ]
     },
     "execution_count": 39,
     "metadata": {},
     "output_type": "execute_result"
    }
   ],
   "source": [
    "-2*AB + A.reshape(10,1) + np.transpose(B.reshape(3,1))"
   ]
  },
  {
   "cell_type": "code",
   "execution_count": 32,
   "metadata": {},
   "outputs": [
    {
     "data": {
      "text/plain": [
       "array([  1,  13,  41,  85, 145, 221, 313, 421, 545, 685])"
      ]
     },
     "execution_count": 32,
     "metadata": {},
     "output_type": "execute_result"
    }
   ],
   "source": [
    "np.transpose(A)"
   ]
  },
  {
   "cell_type": "code",
   "execution_count": 33,
   "metadata": {},
   "outputs": [
    {
     "data": {
      "text/plain": [
       "array([  1,  13,  41,  85, 145, 221, 313, 421, 545, 685])"
      ]
     },
     "execution_count": 33,
     "metadata": {},
     "output_type": "execute_result"
    }
   ],
   "source": [
    "A"
   ]
  },
  {
   "cell_type": "code",
   "execution_count": 34,
   "metadata": {},
   "outputs": [
    {
     "data": {
      "text/plain": [
       "array([[  1],\n",
       "       [ 13],\n",
       "       [ 41],\n",
       "       [ 85],\n",
       "       [145],\n",
       "       [221],\n",
       "       [313],\n",
       "       [421],\n",
       "       [545],\n",
       "       [685]])"
      ]
     },
     "execution_count": 34,
     "metadata": {},
     "output_type": "execute_result"
    }
   ],
   "source": [
    "A.reshape(10,1)"
   ]
  },
  {
   "cell_type": "code",
   "execution_count": 35,
   "metadata": {},
   "outputs": [
    {
     "data": {
      "text/plain": [
       "array([10, 25, 20])"
      ]
     },
     "execution_count": 35,
     "metadata": {},
     "output_type": "execute_result"
    }
   ],
   "source": [
    "B"
   ]
  },
  {
   "cell_type": "code",
   "execution_count": 36,
   "metadata": {},
   "outputs": [
    {
     "data": {
      "text/plain": [
       "array([[10],\n",
       "       [25],\n",
       "       [20]])"
      ]
     },
     "execution_count": 36,
     "metadata": {},
     "output_type": "execute_result"
    }
   ],
   "source": [
    "B.reshape(3,1)"
   ]
  },
  {
   "cell_type": "code",
   "execution_count": 38,
   "metadata": {},
   "outputs": [
    {
     "data": {
      "text/plain": [
       "array([[10, 25, 20]])"
      ]
     },
     "execution_count": 38,
     "metadata": {},
     "output_type": "execute_result"
    }
   ],
   "source": [
    "np.transpose(B.reshape(3,1))"
   ]
  },
  {
   "cell_type": "code",
   "execution_count": 3,
   "metadata": {},
   "outputs": [],
   "source": [
    "dists = compute_distances(Xtrain,Xval)"
   ]
  },
  {
   "cell_type": "code",
   "execution_count": 4,
   "metadata": {},
   "outputs": [
    {
     "data": {
      "text/plain": [
       "1000"
      ]
     },
     "execution_count": 4,
     "metadata": {},
     "output_type": "execute_result"
    }
   ],
   "source": [
    "dists.shape[0]"
   ]
  },
  {
   "cell_type": "code",
   "execution_count": 5,
   "metadata": {},
   "outputs": [
    {
     "data": {
      "text/plain": [
       "array([3372, 3502, 4817, ..., 2794, 1863, 2772])"
      ]
     },
     "execution_count": 5,
     "metadata": {},
     "output_type": "execute_result"
    }
   ],
   "source": [
    "np.argsort(dists[1]) "
   ]
  },
  {
   "cell_type": "code",
   "execution_count": 8,
   "metadata": {},
   "outputs": [
    {
     "data": {
      "text/plain": [
       "array([3372, 3502, 4817, 4988, 1409])"
      ]
     },
     "execution_count": 8,
     "metadata": {},
     "output_type": "execute_result"
    }
   ],
   "source": [
    "np.argsort(dists[1])[0:5]"
   ]
  },
  {
   "cell_type": "code",
   "execution_count": 9,
   "metadata": {},
   "outputs": [
    {
     "data": {
      "text/plain": [
       "array([0, 0, 0, 0, 0])"
      ]
     },
     "execution_count": 9,
     "metadata": {},
     "output_type": "execute_result"
    }
   ],
   "source": [
    "ytrain[np.argsort(dists[1])[0:5]]"
   ]
  },
  {
   "cell_type": "code",
   "execution_count": 10,
   "metadata": {},
   "outputs": [
    {
     "data": {
      "text/plain": [
       "[0, 0, 0, 0, 0]"
      ]
     },
     "execution_count": 10,
     "metadata": {},
     "output_type": "execute_result"
    }
   ],
   "source": [
    "sort_list = np.argsort(dists[1])\n",
    "closest_y = []\n",
    "for j in range(5):\n",
    "    closest_y.append(ytrain[sort_list[j]])\n",
    "closest_y"
   ]
  },
  {
   "cell_type": "code",
   "execution_count": 12,
   "metadata": {},
   "outputs": [
    {
     "name": "stdout",
     "output_type": "stream",
     "text": [
      "[5]\n",
      "[0]\n"
     ]
    }
   ],
   "source": [
    "count = [len(list(group)) for key, group in groupby(closest_y)]\n",
    "key = [key for key, group in groupby(closest_y)]\n",
    "print(count)\n",
    "print(key)"
   ]
  },
  {
   "cell_type": "code",
   "execution_count": 14,
   "metadata": {},
   "outputs": [
    {
     "name": "stdout",
     "output_type": "stream",
     "text": [
      "[3, 1, 1, 1]\n",
      "[0, 1, 2, 3]\n"
     ]
    }
   ],
   "source": [
    "aa = np.array([0,0,0,1,2,3])\n",
    "count = [len(list(group)) for key, group in groupby(aa)]\n",
    "key = [key for key, group in groupby(aa)]\n",
    "print(count)\n",
    "print(key)"
   ]
  },
  {
   "cell_type": "code",
   "execution_count": 23,
   "metadata": {},
   "outputs": [
    {
     "name": "stdout",
     "output_type": "stream",
     "text": [
      "5\n",
      "[5, 5]\n",
      "0\n",
      "[0]\n",
      "1\n",
      "[1, 1]\n",
      "2\n",
      "[2]\n",
      "3\n",
      "[3]\n",
      "0\n",
      "[0]\n"
     ]
    }
   ],
   "source": [
    "bb = np.array([5,5,0,1,1,2,3,0])\n",
    "for key, group in groupby(bb):\n",
    "    print(key)\n",
    "    print(list(group))"
   ]
  },
  {
   "cell_type": "code",
   "execution_count": null,
   "metadata": {},
   "outputs": [],
   "source": [
    "\n",
    "\n",
    "num_test = dists.shape[0]\n",
    "ypred = np.zeros(num_test)\n",
    "for i in range(num_test):\n",
    "    sort_list = np.argsort(dists[i])    \n",
    "    closest_y = []\n",
    "    for j in range(k):\n",
    "        closest_y.append(ytrain[sort_list[j]])\n",
    "    closest_y.sort()    \n",
    "    count = [len(list(group)) for key, group in groupby(closest_y)]\n",
    "    key = [key for key, group in groupby(closest_y)]\n",
    "        \n",
    "    max_val = max(count)\n",
    "    for temp in range(len(count)):\n",
    "        if count[temp] == max_val:\n",
    "            ypred[i] = key[temp]\n",
    "            break"
   ]
  }
 ],
 "metadata": {
  "kernelspec": {
   "display_name": "Python 3",
   "language": "python",
   "name": "python3"
  },
  "language_info": {
   "codemirror_mode": {
    "name": "ipython",
    "version": 3
   },
   "file_extension": ".py",
   "mimetype": "text/x-python",
   "name": "python",
   "nbconvert_exporter": "python",
   "pygments_lexer": "ipython3",
   "version": "3.6.6"
  }
 },
 "nbformat": 4,
 "nbformat_minor": 2
}

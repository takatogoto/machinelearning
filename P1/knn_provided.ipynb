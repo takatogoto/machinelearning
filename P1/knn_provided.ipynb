{
 "cells": [
  {
   "cell_type": "markdown",
   "metadata": {},
   "source": [
    "# Confirm provided solution"
   ]
  },
  {
   "cell_type": "code",
   "execution_count": 1,
   "metadata": {},
   "outputs": [
    {
     "name": "stdout",
     "output_type": "stream",
     "text": [
      "The validation accuracy is 0.943 when k = 1\n",
      "The validation accuracy is 0.938 when k = 3\n",
      "The validation accuracy is 0.939 when k = 5\n",
      "The validation accuracy is 0.928 when k = 7\n",
      "The validation accuracy is 0.927 when k = 9\n",
      "1\n"
     ]
    }
   ],
   "source": [
    "import numpy as np\n",
    "import json\n",
    "from itertools import groupby\n",
    "#===========================Q4.1=====================================\n",
    "def compute_distances(Xtrain,X):\n",
    "    num_test = X.shape[0]\n",
    "    num_train = Xtrain.shape[0]\n",
    "    dists = np.zeros((num_test, num_train)) \n",
    "    A = np.sum(X**2,axis=1).reshape(num_test,1)\n",
    "    B = np.sum(Xtrain**2,axis=1).reshape(num_train,1)\n",
    "    AB = np.dot(X,np.transpose(Xtrain))\n",
    "    dists = np.sqrt(-2*AB + A + np.transpose(B))\n",
    "    return dists\n",
    "\n",
    "#==========================Q4.2======================================\n",
    "def predict_labels(k,ytrain,dists):\n",
    "    \n",
    "    num_test = dists.shape[0]\n",
    "    ypred = np.zeros(num_test)\n",
    "    for i in range(num_test):\n",
    "        sort_list = np.argsort(dists[i])    \n",
    "        closest_y = []\n",
    "        for j in range(k):\n",
    "            closest_y.append(ytrain[sort_list[j]])\n",
    "        closest_y.sort()    \n",
    "        count = [len(list(group)) for key, group in groupby(closest_y)]\n",
    "        key = [key for key, group in groupby(closest_y)]\n",
    "        \n",
    "        max_val = max(count)\n",
    "        for temp in range(len(count)):\n",
    "            if count[temp] == max_val:\n",
    "                ypred[i] = key[temp]\n",
    "                break\n",
    "        \n",
    "    #print(ypred)\n",
    "    return ypred\n",
    "\n",
    "#===========================Q4.3=====================================\n",
    "def compute_accuracy(y,ypred):\n",
    "    cnt = 0\n",
    "    for i in range(len(ypred)):\n",
    "        if y[i] == ypred[i]:\n",
    "            cnt+=1\n",
    "    acc = float(cnt)/len(ypred)\n",
    "    return acc\n",
    "\n",
    "#==========================Q4.4=====================================\n",
    "def find_best_k(K,ytrain,dists,yval):\n",
    "    validation_accuracy = []\n",
    "    for k in K:\n",
    "        ypred = predict_labels(k,ytrain,dists)\n",
    "        acc = compute_accuracy(yval,ypred)\n",
    "        validation_accuracy.append(acc)\n",
    "        print(\"The validation accuracy is\",acc,\"when k =\",k)\n",
    "    a = max(validation_accuracy)\n",
    "    idx = validation_accuracy.index(a)\n",
    "    best_k = K[idx]\n",
    "    print(best_k)\n",
    "    return best_k,validation_accuracy\n",
    "\n",
    "\n",
    "\n",
    "#============================END=====================================\n",
    "\n",
    "'''\n",
    "Please DO NOT CHANGE ANY CODE below this line.\n",
    "You should only write your code in the above functions.\n",
    "'''\n",
    "\n",
    "def data_processing(data):\n",
    "    train_set, valid_set,test_set = data['train'],data['valid'],data['test']\n",
    "    Xtrain = train_set[0]\n",
    "    ytrain = train_set[1]\n",
    "    Xval = valid_set[0]\n",
    "    yval = valid_set[1]\n",
    "    Xtest = test_set[0]\n",
    "    ytest = test_set[1]\n",
    "    \n",
    "    Xtrain = np.array(Xtrain)\n",
    "    Xval = np.array(Xval)\n",
    "    Xtest = np.array(Xtest)\n",
    "    \n",
    "    ytrain = np.array(ytrain)\n",
    "    yval = np.array(yval)\n",
    "    ytest = np.array(ytest)\n",
    "    \n",
    "    return Xtrain,ytrain,Xval,yval,Xtest,ytest\n",
    "    \n",
    "def main():\n",
    "    input_file = 'mnist_subset.json'\n",
    "    output_file = 'knn_output.txt'\n",
    "\n",
    "    with open(input_file) as json_data:\n",
    "        data = json.load(json_data)\n",
    "    \n",
    "    #==================Compute distance matrix=======================\n",
    "    K=[1,3,5,7,9]    \n",
    "    \n",
    "    Xtrain,ytrain,Xval,yval,Xtest,ytest = data_processing(data)\n",
    "    \n",
    "    dists = compute_distances(Xtrain,Xval)\n",
    "    \n",
    "    #===============Compute validation accuracy when k=5=============\n",
    "    ypred = predict_labels(5,ytrain,dists)\n",
    "    acc = compute_accuracy(yval,ypred)\n",
    "    \n",
    "    \n",
    "    #==========select the best k by using validation set==============\n",
    "    best_k,validation_accuracy = find_best_k(K,ytrain,dists,yval)\n",
    "\n",
    "    \n",
    "    #===============test the performance with your best k=============\n",
    "    dists = compute_distances(Xtrain,Xtest)\n",
    "    ypred = predict_labels(best_k,ytrain,dists)\n",
    "    test_accuracy = compute_accuracy(ytest,ypred)\n",
    "    \n",
    "    #====================write your results to file===================\n",
    "    f=open(output_file,'w')\n",
    "    for i in range(len(K)):\n",
    "        f.write('%d %.3f' % (K[i], validation_accuracy[i])+'\\n')\n",
    "    f.write('%s %.3f' % ('test', test_accuracy))\n",
    "    f.close()\n",
    "    \n",
    "#if __name__ == \"__main__\":\n",
    "#    main()"
   ]
  },
  {
   "cell_type": "code",
   "execution_count": 2,
   "metadata": {},
   "outputs": [],
   "source": [
    "    input_file = 'mnist_subset.json'\n",
    "    output_file = 'knn_output.txt'\n",
    "\n",
    "    with open(input_file) as json_data:\n",
    "        data = json.load(json_data)\n",
    "    \n",
    "    #==================Compute distance matrix=======================\n",
    "    K=[1,3,5,7,9]    \n",
    "    \n",
    "    Xtrain,ytrain,Xval,yval,Xtest,ytest = data_processing(data)"
   ]
  },
  {
   "cell_type": "code",
   "execution_count": 10,
   "metadata": {},
   "outputs": [
    {
     "name": "stdout",
     "output_type": "stream",
     "text": [
      "[[ 0  1]\n",
      " [ 2  3]\n",
      " [ 4  5]\n",
      " [ 6  7]\n",
      " [ 8  9]\n",
      " [10 11]\n",
      " [12 13]\n",
      " [14 15]\n",
      " [16 17]\n",
      " [18 19]]\n"
     ]
    }
   ],
   "source": [
    "a = np.arange(20).reshape(10,2)\n",
    "print(a)"
   ]
  },
  {
   "cell_type": "code",
   "execution_count": 23,
   "metadata": {},
   "outputs": [
    {
     "ename": "AttributeError",
     "evalue": "module 'numpy' has no attribute 'shuffle'",
     "output_type": "error",
     "traceback": [
      "\u001b[0;31m---------------------------------------------------------------------------\u001b[0m",
      "\u001b[0;31mAttributeError\u001b[0m                            Traceback (most recent call last)",
      "\u001b[0;32m<ipython-input-23-9e52731dd700>\u001b[0m in \u001b[0;36m<module>\u001b[0;34m()\u001b[0m\n\u001b[1;32m      2\u001b[0m \u001b[0;34m\u001b[0m\u001b[0m\n\u001b[1;32m      3\u001b[0m \u001b[0mb\u001b[0m \u001b[0;34m=\u001b[0m \u001b[0mnp\u001b[0m\u001b[0;34m.\u001b[0m\u001b[0marange\u001b[0m\u001b[0;34m(\u001b[0m\u001b[0;36m6\u001b[0m\u001b[0;34m)\u001b[0m\u001b[0;34m\u001b[0m\u001b[0m\n\u001b[0;32m----> 4\u001b[0;31m \u001b[0mc\u001b[0m\u001b[0;34m=\u001b[0m\u001b[0mnp\u001b[0m\u001b[0;34m.\u001b[0m\u001b[0mshuffle\u001b[0m\u001b[0;34m(\u001b[0m\u001b[0mb\u001b[0m\u001b[0;34m)\u001b[0m\u001b[0;34m\u001b[0m\u001b[0m\n\u001b[0m\u001b[1;32m      5\u001b[0m \u001b[0mprint\u001b[0m\u001b[0;34m(\u001b[0m\u001b[0mc\u001b[0m\u001b[0;34m)\u001b[0m\u001b[0;34m\u001b[0m\u001b[0m\n",
      "\u001b[0;31mAttributeError\u001b[0m: module 'numpy' has no attribute 'shuffle'"
     ]
    }
   ],
   "source": [
    "import random\n",
    "\n",
    "b = np.arange(6)\n",
    "c=np.shuffle(b)\n",
    "print(c)"
   ]
  },
  {
   "cell_type": "code",
   "execution_count": 24,
   "metadata": {},
   "outputs": [],
   "source": [
    "arr = np.arange(10)\n",
    "np.random.shuffle(arr)"
   ]
  },
  {
   "cell_type": "code",
   "execution_count": null,
   "metadata": {},
   "outputs": [],
   "source": []
  }
 ],
 "metadata": {
  "kernelspec": {
   "display_name": "Python 3",
   "language": "python",
   "name": "python3"
  },
  "language_info": {
   "codemirror_mode": {
    "name": "ipython",
    "version": 3
   },
   "file_extension": ".py",
   "mimetype": "text/x-python",
   "name": "python",
   "nbconvert_exporter": "python",
   "pygments_lexer": "ipython3",
   "version": "3.6.6"
  }
 },
 "nbformat": 4,
 "nbformat_minor": 2
}

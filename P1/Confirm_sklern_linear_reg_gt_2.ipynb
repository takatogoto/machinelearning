{
 "cells": [
  {
   "cell_type": "code",
   "execution_count": 42,
   "metadata": {},
   "outputs": [
    {
     "name": "stdout",
     "output_type": "stream",
     "text": [
      "======== Question 3.1 Linear Regression ========\n",
      "dimensionality of the model parameter is 12.\n",
      "model parameter is  [ 2.166e+02  1.145e-01 -1.824e+00 -1.065e-02  1.037e-01  1.546e-01\n",
      "  3.416e-03  2.347e-04 -2.173e+02  8.348e-01  7.366e-01  1.153e-01]\n",
      "\n",
      "\n",
      "======== Question 3.2 Regularized Linear Regression ========\n",
      "dimensionality of the model parameter is 12\n",
      "lambda = 5.0, model parameter is [ 6.324e-01 -2.854e-02 -1.641e+00 -3.577e-02  2.803e-02 -1.362e-01\n",
      "  5.259e-03 -8.421e-04  5.888e-01  2.887e-01  4.162e-01  3.768e-01]\n",
      "\n",
      "\n",
      "======== Question 3.3 tuning lambdas ========\n",
      "tuning lambda, the best lambda =  0.001\n",
      "\n",
      "\n",
      "======== Question 3.4 report MSE ========\n",
      "MSE on test is 0.512\n"
     ]
    }
   ],
   "source": [
    "\"\"\"\n",
    "Do not change the input and output format.\n",
    "If our script cannot run your code or the format is improper, your code will not be graded.\n",
    "\n",
    "The only functions you need to implement in this template is linear_regression_noreg, regularized_linear_regression,\n",
    "tune_lambda, and test_error.\n",
    "\"\"\"\n",
    "\n",
    "import numpy as np\n",
    "import pandas as pd\n",
    "\n",
    "###### Q4.1 ######\n",
    "def linear_regression_noreg(X, y):\n",
    "    \"\"\"\n",
    "    Compute the weight parameter given X and y.\n",
    "    Inputs:\n",
    "    - X: A numpy array of shape (num_samples, D) containing feature.\n",
    "    - y: A numpy array of shape (num_samples, ) containing label\n",
    "    Returns:\n",
    "    - w: a numpy array of shape (D, )\n",
    "  \"\"\"\n",
    "    #####################################################\n",
    "    ## w~* = (X~^t X~)^-1 X~^t y\n",
    "    w = np.linalg.inv(X.T @ X) @ X.T @ y\n",
    "    #####################################################\t\t \n",
    "    return w\n",
    "\n",
    "###### Q4.2 ######\n",
    "def regularized_linear_regression(X, y, lambd):\n",
    "    \"\"\"\n",
    "      Compute the weight parameter given X, y and lambda.\n",
    "      Inputs:\n",
    "      - X: A numpy array of shape (num_samples, D) containing feature.\n",
    "      - y: A numpy array of shape (num_samples, ) containing label\n",
    "      - lambd: a float number containing regularization strength\n",
    "      Returns:\n",
    "      - w: a numpy array of shape (D, )\n",
    "    \"\"\"\n",
    "    ####################################################\n",
    "    ## w~* = (X~^t X~ + lambd I)^-1 X~^t y\n",
    "    w = np.linalg.inv(X.T @ X + lambd * np.eye(X.shape[1])) @ X.T @ y\n",
    "    #####################################################\n",
    "    return w\n",
    "\n",
    "###### Q4.3 ######\n",
    "def tune_lambda(Xtrain, ytrain, Xval, yval, lambds):\n",
    "    \"\"\"\n",
    "    Find the best lambda value.\n",
    "    Inputs:\n",
    "    - Xtrain: A numpy array of shape (num_training_samples, D) containing training feature.\n",
    "    - ytrain: A numpy array of shape (num_training_samples, ) containing training label\n",
    "    - Xval: A numpy array of shape (num_val_samples, D) containing validation feature.\n",
    "    - yval: A numpy array of shape (num_val_samples, ) containing validation label\n",
    "    - lambds: a list of lambdas\n",
    "    Returns:\n",
    "    - bestlambda: the best lambda you find in lambds\n",
    "    \"\"\"\n",
    "    #####################################################\n",
    "    ##\n",
    "    w = regularized_linear_regression(Xtrain, ytrain, lambds[0])\n",
    "    \n",
    "    # err = test_error(w, Xval,yval) * yval.shape[0] + lambds[0] * np.linalg.norm(w,2)**2\n",
    "    err = test_error(w, Xval,yval) * yval.shape[0] \n",
    "    bestlambda = lambds[0]\n",
    "    for lambd in lambds[1:]:\n",
    "        w_temp = regularized_linear_regression(Xtrain, ytrain, lambd)\n",
    "        #err_temp = test_error(w_temp, Xval, yval) * yval.shape[0] + lambd * np.linalg.norm(w_temp,2)**2\n",
    "        err_temp = test_error(w_temp, Xval, yval) * yval.shape[0] \n",
    "        if err > err_temp:\n",
    "            err = err_temp\n",
    "            bestlambda = lambd\n",
    "    #####################################################\n",
    "    return bestlambda\n",
    "\n",
    "###### Q4.4 ######\n",
    "def test_error(w, X, y):\n",
    "    \"\"\"\n",
    "      Compute the mean squre error on test set given X, y, and model parameter w.\n",
    "      Inputs:\n",
    "      - X: A numpy array of shape (num_samples, D) containing test feature.\n",
    "      - y: A numpy array of shape (num_samples, ) containing test label\n",
    "      - w: a numpy array of shape (D, )\n",
    "      Returns:\n",
    "      - err: the mean square error\n",
    "    \"\"\"\n",
    "    #####################################################\n",
    "    ## err = ||X*w -y||_2^2 / N\n",
    "    err = (np.linalg.norm(X @ w - y,2))**2 / y.shape[0]\n",
    "    #####################################################\n",
    "    return err\n",
    "\n",
    "\n",
    "\"\"\"\n",
    "NO MODIFICATIONS below this line.\n",
    "You should only write your code in the above functions.\n",
    "\"\"\"\n",
    "\n",
    "def data_processing():\n",
    "    white = pd.read_csv('winequality-white.csv', low_memory=False, sep=';').values\n",
    "\n",
    "    [N, d] = white.shape\n",
    "\n",
    "    np.random.seed(3)\n",
    "    # prepare data\n",
    "    ridx = np.random.permutation(N)\n",
    "    ntr = int(np.round(N * 0.8))\n",
    "    nval = int(np.round(N * 0.1))\n",
    "    ntest = N - ntr - nval\n",
    "\n",
    "  # spliting training, validation, and test\n",
    "\n",
    "    Xtrain = np.hstack([np.ones([ntr, 1]), white[ridx[0:ntr], 0:-1]])\n",
    "\n",
    "    ytrain = white[ridx[0:ntr], -1]\n",
    "  \n",
    "    Xval = np.hstack([np.ones([nval, 1]), white[ridx[ntr:ntr + nval], 0:-1]])\n",
    "    yval = white[ridx[ntr:ntr + nval], -1]\n",
    "\n",
    "    Xtest = np.hstack([np.ones([ntest, 1]), white[ridx[ntr + nval:], 0:-1]])\n",
    "    ytest = white[ridx[ntr + nval:], -1]\n",
    "    return Xtrain, ytrain, Xval, yval, Xtest, ytest\n",
    "\n",
    "\n",
    "def main():\n",
    "    np.set_printoptions(precision=3)\n",
    "    Xtrain, ytrain, Xval, yval, Xtest, ytest = data_processing()\n",
    "    # =========================Q3.1 linear_regression=================================\n",
    "    w = linear_regression_noreg(Xtrain, ytrain)\n",
    "    print(\"======== Question 3.1 Linear Regression ========\")\n",
    "    print(\"dimensionality of the model parameter is \", len(w), \".\", sep=\"\")\n",
    "    print(\"model parameter is \", np.array_str(w))\n",
    "  \n",
    "    # =========================Q3.2 regularized linear_regression=====================\n",
    "    lambd = 5.0\n",
    "    wl = regularized_linear_regression(Xtrain, ytrain, lambd)\n",
    "    print(\"\\n\")\n",
    "    print(\"======== Question 3.2 Regularized Linear Regression ========\")\n",
    "    print(\"dimensionality of the model parameter is \", len(wl), sep=\"\")\n",
    "    print(\"lambda = \", lambd, \", model parameter is \", np.array_str(wl), sep=\"\")\n",
    "\n",
    "    # =========================Q3.3 tuning lambda======================\n",
    "    lambds = [0, 10 ** -4, 10 ** -3, 10 ** -2, 10 ** -1, 1, 10, 10 ** 2]\n",
    "    bestlambd = tune_lambda(Xtrain, ytrain, Xval, yval, lambds)\n",
    "    print(\"\\n\")\n",
    "    print(\"======== Question 3.3 tuning lambdas ========\")\n",
    "    print(\"tuning lambda, the best lambda =  \", bestlambd, sep=\"\")\n",
    "\n",
    "    # =========================Q3.4 report mse on test ======================\n",
    "    wbest = regularized_linear_regression(Xtrain, ytrain, bestlambd)\n",
    "    mse = test_error(wbest, Xtest, ytest)\n",
    "    print(\"\\n\")\n",
    "    print(\"======== Question 3.4 report MSE ========\")\n",
    "    print(\"MSE on test is %.3f\" % mse)\n",
    "    \n",
    "if __name__ == \"__main__\":\n",
    "    main()"
   ]
  },
  {
   "cell_type": "code",
   "execution_count": 2,
   "metadata": {},
   "outputs": [],
   "source": [
    "np.set_printoptions(precision=3)\n",
    "Xtrain, ytrain, Xval, yval, Xtest, ytest = data_processing()"
   ]
  },
  {
   "cell_type": "code",
   "execution_count": 22,
   "metadata": {},
   "outputs": [
    {
     "name": "stdout",
     "output_type": "stream",
     "text": [
      "2.166e+02\n",
      "[ 0.000e+00  1.145e-01 -1.824e+00 -1.065e-02  1.037e-01  1.546e-01\n",
      "  3.416e-03  2.347e-04 -2.173e+02  8.348e-01  7.366e-01  1.153e-01]\n",
      "MSE on test is 0.640\n"
     ]
    }
   ],
   "source": [
    "from sklearn import linear_model\n",
    "from sklearn.metrics import mean_squared_error\n",
    "\n",
    "reg = linear_model.LinearRegression()\n",
    "reg.fit(Xtrain, ytrain)\n",
    "\n",
    "print(\"%.3e\" %reg.intercept_)\n",
    "print(reg.coef_)\n",
    "mse = mean_squared_error(yval, reg.predict(Xval))\n",
    "#((yval - np.mean(yval)).T @ (yval - np.mean(yval))) * (1 - reg.score(Xval, yval)) / len(yval)\n",
    "print(\"MSE on test is %.3f\" %mse)"
   ]
  },
  {
   "cell_type": "code",
   "execution_count": 33,
   "metadata": {},
   "outputs": [
    {
     "name": "stdout",
     "output_type": "stream",
     "text": [
      "2.083e+00\n",
      "[ 0.000e+00 -5.288e-02 -1.657e+00  6.523e-03  2.648e-02 -9.028e-02\n",
      "  5.088e-03 -8.602e-04 -7.248e-03  1.011e-01  4.378e-01  3.677e-01]\n",
      "MSE on test is 0.523\n",
      "MSE2 on test is 0.523\n"
     ]
    }
   ],
   "source": [
    "\n",
    "reg5 = linear_model.Ridge(alpha = 5, solver= 'sparse_cg')\n",
    "reg5.fit(Xtrain, ytrain)\n",
    "\n",
    "print(\"%.3e\" %reg5.intercept_)\n",
    "print(reg5.coef_)\n",
    "mse = ((ytest - np.mean(ytest)).T @ (ytest - np.mean(ytest))) * (1 - reg5.score(Xtest, ytest)) / len(ytest)\n",
    "mse2 = mean_squared_error(ytest, reg5.predict(Xtest))\n",
    "print(\"MSE on test is %.3f\" %mse)\n",
    "print(\"MSE2 on test is %.3f\" %mse2)"
   ]
  },
  {
   "cell_type": "code",
   "execution_count": 30,
   "metadata": {},
   "outputs": [
    {
     "name": "stdout",
     "output_type": "stream",
     "text": [
      "2.013e+00\n",
      "[ 0.000e+00 -4.843e-02 -1.665e+00 -4.073e-02  2.662e-02 -2.139e-01\n",
      "  5.114e-03 -8.499e-04 -3.606e-02  1.356e-01  4.113e-01  3.669e-01]\n",
      "MSE on test is 0.523\n"
     ]
    }
   ],
   "source": [
    "reg5 = linear_model.Ridge(alpha = 5, solver= 'auto')\n",
    "reg5.fit(Xtrain, ytrain)\n",
    "\n",
    "print(\"%.3e\" %reg5.intercept_)\n",
    "print(reg5.coef_)\n",
    "mse = mean_squared_error(ytest, reg5.predict(Xtest))\n",
    "print(\"MSE on test is %.3f\" %mse)"
   ]
  },
  {
   "cell_type": "code",
   "execution_count": 36,
   "metadata": {},
   "outputs": [
    {
     "name": "stdout",
     "output_type": "stream",
     "text": [
      "1.930e+02\n",
      "[ 0.000e+00  9.633e-02 -1.832e+00 -1.690e-02  9.526e-02  5.634e-02\n",
      "  3.561e-03  1.355e-04 -1.934e+02  7.563e-01  7.044e-01  1.430e-01]\n",
      "MSE on test is 0.506\n"
     ]
    }
   ],
   "source": [
    "reg04 = linear_model.Ridge(alpha = 10 ** -4, solver= 'auto')\n",
    "reg04.fit(Xtrain, ytrain)\n",
    "\n",
    "print(\"%.3e\" %reg04.intercept_)\n",
    "print(reg04.coef_)\n",
    "mse = mean_squared_error(ytest, reg04.predict(Xtest))\n",
    "print(\"MSE on test is %.3f\" %mse)"
   ]
  },
  {
   "cell_type": "code",
   "execution_count": 37,
   "metadata": {},
   "outputs": [
    {
     "name": "stdout",
     "output_type": "stream",
     "text": [
      "9.803e+01\n",
      "[ 0.000e+00  2.329e-02 -1.865e+00 -4.207e-02  6.122e-02 -3.391e-01\n",
      "  4.145e-03 -2.637e-04 -9.720e+01  4.399e-01  5.748e-01  2.545e-01]\n",
      "MSE on test is 0.510\n"
     ]
    }
   ],
   "source": [
    "reg03 = linear_model.Ridge(alpha = 10 ** -3, solver= 'auto')\n",
    "reg03.fit(Xtrain, ytrain)\n",
    "\n",
    "print(\"%.3e\" %reg03.intercept_)\n",
    "print(reg03.coef_)\n",
    "mse = mean_squared_error(ytest, reg03.predict(Xtest))\n",
    "print(\"MSE on test is %.3f\" %mse)"
   ]
  },
  {
   "cell_type": "code",
   "execution_count": 38,
   "metadata": {},
   "outputs": [
    {
     "name": "stdout",
     "output_type": "stream",
     "text": [
      "1.816e+01\n",
      "[ 0.000e+00 -3.814e-02 -1.891e+00 -6.324e-02  3.258e-02 -6.682e-01\n",
      "  4.637e-03 -5.999e-04 -1.627e+01  1.740e-01  4.657e-01  3.483e-01]\n",
      "MSE on test is 0.517\n"
     ]
    }
   ],
   "source": [
    "reg02 = linear_model.Ridge(alpha = 10 ** -2, solver= 'auto')\n",
    "reg02.fit(Xtrain, ytrain)\n",
    "\n",
    "print(\"%.3e\" %reg02.intercept_)\n",
    "print(reg02.coef_)\n",
    "mse = mean_squared_error(ytest, reg02.predict(Xtest))\n",
    "print(\"MSE on test is %.3f\" %mse)"
   ]
  },
  {
   "cell_type": "code",
   "execution_count": 29,
   "metadata": {},
   "outputs": [
    {
     "name": "stdout",
     "output_type": "stream",
     "text": [
      "3.822e+00\n",
      "[ 0.000e+00 -4.907e-02 -1.892e+00 -6.697e-02  2.745e-02 -6.913e-01\n",
      "  4.733e-03 -6.648e-04 -1.747e+00  1.269e-01  4.454e-01  3.653e-01]\n",
      "MSE on test is 0.519\n"
     ]
    }
   ],
   "source": [
    "reg01 = linear_model.Ridge(alpha = 10 ** -1, solver= 'auto')\n",
    "reg01.fit(Xtrain, ytrain)\n",
    "\n",
    "print(\"%.3e\" %reg01.intercept_)\n",
    "print(reg01.coef_)\n",
    "mse = mean_squared_error(ytest, reg01.predict(Xtest))\n",
    "print(\"MSE on test is %.3f\" %mse)"
   ]
  },
  {
   "cell_type": "code",
   "execution_count": 39,
   "metadata": {},
   "outputs": [
    {
     "name": "stdout",
     "output_type": "stream",
     "text": [
      "1.962e+00\n",
      "[ 0.000e+00 -4.763e-02 -1.477e+00 -1.713e-02  2.620e-02 -1.380e-01\n",
      "  5.408e-03 -9.770e-04 -1.812e-02  1.401e-01  3.836e-01  3.643e-01]\n",
      "MSE on test is 0.526\n"
     ]
    }
   ],
   "source": [
    "reg10 = linear_model.Ridge(alpha = 10, solver= 'auto')\n",
    "reg10.fit(Xtrain, ytrain)\n",
    "\n",
    "print(\"%.3e\" %reg10.intercept_)\n",
    "print(reg10.coef_)\n",
    "mse = mean_squared_error(ytest, reg10.predict(Xtest))\n",
    "print(\"MSE on test is %.3f\" %mse)"
   ]
  },
  {
   "cell_type": "code",
   "execution_count": 40,
   "metadata": {},
   "outputs": [
    {
     "name": "stdout",
     "output_type": "stream",
     "text": [
      "2.124e+00\n",
      "[ 0.    -0.045 -0.49   0.038  0.023 -0.027  0.007 -0.002 -0.002  0.1\n",
      "  0.172  0.344]\n",
      "MSE on test is 0.563\n"
     ]
    }
   ],
   "source": [
    "reg100 = linear_model.Ridge(alpha = 100, solver= 'auto')\n",
    "reg100.fit(Xtrain, ytrain)\n",
    "\n",
    "print(\"%.3e\" %reg100.intercept_)\n",
    "print(reg100.coef_)\n",
    "mse = mean_squared_error(ytest, reg100.predict(Xtest))\n",
    "print(\"MSE on test is %.3f\" %mse)"
   ]
  },
  {
   "cell_type": "code",
   "execution_count": 41,
   "metadata": {},
   "outputs": [
    {
     "name": "stdout",
     "output_type": "stream",
     "text": [
      "2.226e+00\n",
      "[ 0.000e+00 -4.958e-02 -1.849e+00 -6.413e-02  2.694e-02 -4.720e-01\n",
      "  4.818e-03 -7.123e-04 -1.777e-01  1.268e-01  4.368e-01  3.679e-01]\n",
      "MSE on test is 0.520\n"
     ]
    }
   ],
   "source": [
    "reg1 = linear_model.Ridge(alpha = 1, solver= 'auto')\n",
    "reg1.fit(Xtrain, ytrain)\n",
    "\n",
    "print(\"%.3e\" %reg1.intercept_)\n",
    "print(reg1.coef_)\n",
    "mse = mean_squared_error(ytest, reg1.predict(Xtest))\n",
    "print(\"MSE on test is %.3f\" %mse)"
   ]
  },
  {
   "cell_type": "code",
   "execution_count": null,
   "metadata": {},
   "outputs": [],
   "source": []
  },
  {
   "cell_type": "code",
   "execution_count": 17,
   "metadata": {},
   "outputs": [],
   "source": [
    "lambds = [0, 10 ** -4, 10 ** -3, 10 ** -2, 10 ** -1, 1, 10, 10 ** 2]\n",
    "er_xtr = [.0] * len(lambds)\n",
    "er_xts = [.0] * len(lambds)\n",
    "er_xva = [.0] * len(lambds)\n",
    "\n",
    "i = 0\n",
    "for lambd in lambds:\n",
    "    er_xtr[i] = test_error(regularized_linear_regression(Xtrain, ytrain, lambd), Xtrain, ytrain)\n",
    "    er_xva[i] = test_error(regularized_linear_regression(Xtrain, ytrain, lambd), Xval, yval)\n",
    "    er_xts[i] = test_error(regularized_linear_regression(Xtrain, ytrain, lambd), Xtest, ytest)\n",
    "    i += 1"
   ]
  },
  {
   "cell_type": "code",
   "execution_count": 18,
   "metadata": {
    "scrolled": true
   },
   "outputs": [
    {
     "data": {
      "text/plain": [
       "<matplotlib.legend.Legend at 0x7f2e391efd68>"
      ]
     },
     "execution_count": 18,
     "metadata": {},
     "output_type": "execute_result"
    },
    {
     "data": {
      "image/png": "[encoded data removed]",
      "text/plain": [
       "<Figure size 432x288 with 1 Axes>"
      ]
     },
     "metadata": {},
     "output_type": "display_data"
    }
   ],
   "source": [
    "import matplotlib.pyplot as plt\n",
    "%matplotlib inline\n",
    "\n",
    "fig = plt.figure()\n",
    "ax = fig.add_subplot(1,1,1)\n",
    "ax.plot(lambds, er_xtr, linestyle='None', marker = 'o', c='red',label='train')\n",
    "ax.plot(lambds, er_xva, linestyle='None', marker = '^', c='green',label='valid')\n",
    "ax.plot(lambds, er_xts, linestyle='None', marker = 'x', c='blue',label='test')\n",
    "\n",
    "ax.set_xscale(\"log\", nonposx='clip')\n",
    "ax.set_xlim([10 ** -5,100])\n",
    "ax.set_ylim([0.5, 0.65])\n",
    "ax.legend()\n",
    "#fig.show()"
   ]
  },
  {
   "cell_type": "code",
   "execution_count": 24,
   "metadata": {},
   "outputs": [
    {
     "data": {
      "text/plain": [
       "[0.5059612161256328,\n",
       " 0.5062494742112124,\n",
       " 0.5123889217717633,\n",
       " 0.5182468131765503,\n",
       " 0.519291916850227,\n",
       " 0.520066897448439,\n",
       " 0.5268225912478837,\n",
       " 0.5658262938613322]"
      ]
     },
     "execution_count": 24,
     "metadata": {},
     "output_type": "execute_result"
    }
   ],
   "source": [
    "er_xts"
   ]
  },
  {
   "cell_type": "code",
   "execution_count": 95,
   "metadata": {},
   "outputs": [
    {
     "data": {
      "text/plain": [
       "1.5"
      ]
     },
     "execution_count": 95,
     "metadata": {},
     "output_type": "execute_result"
    }
   ],
   "source": [
    "np.mean([1,2])"
   ]
  },
  {
   "cell_type": "code",
   "execution_count": 26,
   "metadata": {},
   "outputs": [
    {
     "data": {
      "text/plain": [
       "array([ 1.918e+00, -4.917e-02, -1.891e+00, -6.736e-02,  2.690e-02,\n",
       "       -6.796e-01,  4.754e-03, -6.731e-04,  1.301e-01,  1.310e-01,\n",
       "        4.432e-01,  3.681e-01])"
      ]
     },
     "execution_count": 26,
     "metadata": {},
     "output_type": "execute_result"
    }
   ],
   "source": [
    "regularized_linear_regression(Xtrain, ytrain, 0.1)"
   ]
  },
  {
   "cell_type": "code",
   "execution_count": null,
   "metadata": {},
   "outputs": [],
   "source": []
  }
 ],
 "metadata": {
  "kernelspec": {
   "display_name": "Python 3",
   "language": "python",
   "name": "python3"
  },
  "language_info": {
   "codemirror_mode": {
    "name": "ipython",
    "version": 3
   },
   "file_extension": ".py",
   "mimetype": "text/x-python",
   "name": "python",
   "nbconvert_exporter": "python",
   "pygments_lexer": "ipython3",
   "version": "3.6.6"
  }
 },
 "nbformat": 4,
 "nbformat_minor": 2
}
